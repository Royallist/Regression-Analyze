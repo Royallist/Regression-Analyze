{
  "cells": [
    {
      "cell_type": "markdown",
      "metadata": {
        "id": "2RHMLkkPxb6d"
      },
      "source": [
        "#i. Perkenalan"
      ]
    },
    {
      "cell_type": "markdown",
      "metadata": {
        "id": "yeLyeGCnB_Gt"
      },
      "source": [
        "'''\n",
        "=================================================\n",
        "Graded Challenge 4\n",
        "\n",
        "Nama  : Desvin Sitohang\n",
        "Batch : MSIB-06 (RMT-029)\n",
        "\n",
        "Ini adalah Machine Learning yang dirancang untuk untuk memprediksi harga taksi online dari variabel fiturnya menggunakan regresi linier.\n",
        "=================================================\n",
        "'''"
      ]
    },
    {
      "cell_type": "markdown",
      "metadata": {
        "id": "n4L5DproxY4S"
      },
      "source": [
        "#ii. Import Libraries"
      ]
    },
    {
      "cell_type": "code",
      "execution_count": 7,
      "metadata": {
        "colab": {
          "base_uri": "https://localhost:8080/"
        },
        "id": "ZNFNx660xzXL",
        "outputId": "c3b833d4-e7a4-4c5d-d6e1-de21692ec397"
      },
      "outputs": [
        {
          "name": "stdout",
          "output_type": "stream",
          "text": [
            "Requirement already satisfied: kaggle in /usr/local/lib/python3.10/dist-packages (1.5.16)\n",
            "Requirement already satisfied: six>=1.10 in /usr/local/lib/python3.10/dist-packages (from kaggle) (1.16.0)\n",
            "Requirement already satisfied: certifi in /usr/local/lib/python3.10/dist-packages (from kaggle) (2024.2.2)\n",
            "Requirement already satisfied: python-dateutil in /usr/local/lib/python3.10/dist-packages (from kaggle) (2.8.2)\n",
            "Requirement already satisfied: requests in /usr/local/lib/python3.10/dist-packages (from kaggle) (2.31.0)\n",
            "Requirement already satisfied: tqdm in /usr/local/lib/python3.10/dist-packages (from kaggle) (4.66.2)\n",
            "Requirement already satisfied: python-slugify in /usr/local/lib/python3.10/dist-packages (from kaggle) (8.0.4)\n",
            "Requirement already satisfied: urllib3 in /usr/local/lib/python3.10/dist-packages (from kaggle) (2.0.7)\n",
            "Requirement already satisfied: bleach in /usr/local/lib/python3.10/dist-packages (from kaggle) (6.1.0)\n",
            "Requirement already satisfied: webencodings in /usr/local/lib/python3.10/dist-packages (from bleach->kaggle) (0.5.1)\n",
            "Requirement already satisfied: text-unidecode>=1.3 in /usr/local/lib/python3.10/dist-packages (from python-slugify->kaggle) (1.3)\n",
            "Requirement already satisfied: charset-normalizer<4,>=2 in /usr/local/lib/python3.10/dist-packages (from requests->kaggle) (3.3.2)\n",
            "Requirement already satisfied: idna<4,>=2.5 in /usr/local/lib/python3.10/dist-packages (from requests->kaggle) (3.6)\n",
            "Collecting squarify\n",
            "  Downloading squarify-0.4.3-py3-none-any.whl (4.3 kB)\n",
            "Installing collected packages: squarify\n",
            "Successfully installed squarify-0.4.3\n",
            "Collecting feature-engine\n",
            "  Downloading feature_engine-1.6.2-py2.py3-none-any.whl (328 kB)\n",
            "\u001b[2K     \u001b[90m━━━━━━━━━━━━━━━━━━━━━━━━━━━━━━━━━━━━━━━━\u001b[0m \u001b[32m328.9/328.9 kB\u001b[0m \u001b[31m2.6 MB/s\u001b[0m eta \u001b[36m0:00:00\u001b[0m\n",
            "\u001b[?25hRequirement already satisfied: numpy>=1.18.2 in /usr/local/lib/python3.10/dist-packages (from feature-engine) (1.25.2)\n",
            "Requirement already satisfied: pandas>=1.0.3 in /usr/local/lib/python3.10/dist-packages (from feature-engine) (1.5.3)\n",
            "Requirement already satisfied: scikit-learn>=1.0.0 in /usr/local/lib/python3.10/dist-packages (from feature-engine) (1.2.2)\n",
            "Requirement already satisfied: scipy>=1.4.1 in /usr/local/lib/python3.10/dist-packages (from feature-engine) (1.11.4)\n",
            "Requirement already satisfied: statsmodels>=0.11.1 in /usr/local/lib/python3.10/dist-packages (from feature-engine) (0.14.1)\n",
            "Requirement already satisfied: python-dateutil>=2.8.1 in /usr/local/lib/python3.10/dist-packages (from pandas>=1.0.3->feature-engine) (2.8.2)\n",
            "Requirement already satisfied: pytz>=2020.1 in /usr/local/lib/python3.10/dist-packages (from pandas>=1.0.3->feature-engine) (2023.4)\n",
            "Requirement already satisfied: joblib>=1.1.1 in /usr/local/lib/python3.10/dist-packages (from scikit-learn>=1.0.0->feature-engine) (1.3.2)\n",
            "Requirement already satisfied: threadpoolctl>=2.0.0 in /usr/local/lib/python3.10/dist-packages (from scikit-learn>=1.0.0->feature-engine) (3.3.0)\n",
            "Requirement already satisfied: patsy>=0.5.4 in /usr/local/lib/python3.10/dist-packages (from statsmodels>=0.11.1->feature-engine) (0.5.6)\n",
            "Requirement already satisfied: packaging>=21.3 in /usr/local/lib/python3.10/dist-packages (from statsmodels>=0.11.1->feature-engine) (24.0)\n",
            "Requirement already satisfied: six in /usr/local/lib/python3.10/dist-packages (from patsy>=0.5.4->statsmodels>=0.11.1->feature-engine) (1.16.0)\n",
            "Installing collected packages: feature-engine\n",
            "Successfully installed feature-engine-1.6.2\n"
          ]
        }
      ],
      "source": [
        "#Loading Dataset\n",
        "!pip install kaggle\n",
        "\n",
        "#Menganalisis data\n",
        "import pandas as pd\n",
        "\n",
        "#Melakukan pengolahan angka\n",
        "import numpy as np\n",
        "\n",
        "#Membuat visualisasi data\n",
        "import matplotlib.pyplot as plt\n",
        "import seaborn as sns\n",
        "!pip install squarify\n",
        "import squarify\n",
        "\n",
        "#Feature Selection\n",
        "from scipy.stats import kendalltau\n",
        "from scipy.stats import spearmanr\n",
        "\n",
        "#preposesing\n",
        "from sklearn.model_selection import train_test_split\n",
        "from sklearn.preprocessing import OneHotEncoder, OrdinalEncoder, MinMaxScaler, StandardScaler, RobustScaler\n",
        "\n",
        "#Penanganan Outlier\n",
        "!pip install feature-engine\n",
        "from feature_engine.outliers import OutlierTrimmer\n",
        "\n",
        "#pemodelan ml\n",
        "from sklearn.linear_model import LinearRegression\n",
        "\n",
        "#evalusai model\n",
        "from sklearn.metrics import mean_absolute_error, r2_score\n",
        "\n",
        "#save model\n",
        "import pickle\n",
        "import joblib\n",
        "import json"
      ]
    },
    {
      "cell_type": "markdown",
      "metadata": {
        "id": "nsBrGrLMyoRU"
      },
      "source": [
        "#iii. Data Loading"
      ]
    },
    {
      "cell_type": "markdown",
      "metadata": {
        "id": "mYsrkb81ysHx"
      },
      "source": [
        "Data akan saya load mengunakan API Command dari website kaggle langsung"
      ]
    },
    {
      "cell_type": "code",
      "execution_count": 9,
      "metadata": {
        "id": "8VnSRhHlzDPu"
      },
      "outputs": [],
      "source": [
        "!mkdir ~/.kaggle #Membuat directory baru untuk data kaggle nanti"
      ]
    },
    {
      "cell_type": "code",
      "execution_count": 11,
      "metadata": {
        "id": "ScKZbjy4zK_v"
      },
      "outputs": [],
      "source": [
        "!cp /content/kaggle.json ~/.kaggle #Menload token kaggle"
      ]
    },
    {
      "cell_type": "code",
      "execution_count": 12,
      "metadata": {
        "id": "ofLNDkHPzPWh"
      },
      "outputs": [],
      "source": [
        "!chmod 600 /root/.kaggle/kaggle.json #digunakan untuk mengatur hak akses (permissions) untuk sebuah file"
      ]
    },
    {
      "cell_type": "code",
      "execution_count": 13,
      "metadata": {
        "colab": {
          "base_uri": "https://localhost:8080/"
        },
        "id": "SPxkMTTpzVqE",
        "outputId": "881cde50-cc0f-4eef-99c4-e4147498fd15"
      },
      "outputs": [
        {
          "name": "stdout",
          "output_type": "stream",
          "text": [
            "Downloading uber-and-lyft-dataset-boston-ma.zip to /content\n",
            " 72% 32.0M/44.5M [00:00<00:00, 80.5MB/s]\n",
            "100% 44.5M/44.5M [00:00<00:00, 104MB/s] \n"
          ]
        }
      ],
      "source": [
        "!kaggle datasets download -d brllrb/uber-and-lyft-dataset-boston-ma #Menload data langsung dari website kaggle"
      ]
    },
    {
      "cell_type": "code",
      "execution_count": 18,
      "metadata": {
        "colab": {
          "base_uri": "https://localhost:8080/"
        },
        "id": "9ffU2eypzg-q",
        "outputId": "b602e47a-6745-4dfb-8c20-5d92b14fd432"
      },
      "outputs": [
        {
          "name": "stdout",
          "output_type": "stream",
          "text": [
            "replace rideshare_kaggle.csv? [y]es, [n]o, [A]ll, [N]one, [r]ename: "
          ]
        }
      ],
      "source": [
        "!unzip -q /content/uber-and-lyft-dataset-boston-ma.zip #Membuka data kompres"
      ]
    },
    {
      "cell_type": "code",
      "execution_count": 17,
      "metadata": {
        "id": "vaulPQRQzuKi"
      },
      "outputs": [],
      "source": [
        "datauber=pd.read_csv('rideshare_kaggle.csv') #Membaca data dan mendeskripkan ke variabel datauber"
      ]
    },
    {
      "cell_type": "markdown",
      "metadata": {
        "id": "65WuMHedGABQ"
      },
      "source": [
        "membuat salinan dari data asli"
      ]
    },
    {
      "cell_type": "code",
      "execution_count": 19,
      "metadata": {
        "id": "5eEYWzDjF9_d"
      },
      "outputs": [],
      "source": [
        "df=datauber"
      ]
    },
    {
      "cell_type": "markdown",
      "metadata": {
        "id": "iFUU_pAhzA4B"
      },
      "source": [
        "#iv. Exploratory Data Analysis (EDA)"
      ]
    },
    {
      "cell_type": "markdown",
      "metadata": {
        "id": "kl4yz6n9yoCV"
      },
      "source": [
        "Hal pertama yang dilakukan pada eksplorasi data, akan dilhat terlebih dahulu anomali data, bentuk data, dan ringkasan data nya."
      ]
    },
    {
      "cell_type": "markdown",
      "metadata": {
        "id": "E8goSaq22jiz"
      },
      "source": [
        "### Pertama akan dilihat apakah ada data duplikat atau tidak"
      ]
    },
    {
      "cell_type": "code",
      "execution_count": 20,
      "metadata": {
        "colab": {
          "base_uri": "https://localhost:8080/"
        },
        "id": "L4ELqc1bvGBp",
        "outputId": "d8315156-ba52-416b-d533-367c9b5c700d"
      },
      "outputs": [
        {
          "data": {
            "text/plain": [
              "0"
            ]
          },
          "execution_count": 20,
          "metadata": {},
          "output_type": "execute_result"
        }
      ],
      "source": [
        "df.duplicated().sum()"
      ]
    },
    {
      "cell_type": "markdown",
      "metadata": {
        "id": "OxZBpe4f2vCQ"
      },
      "source": [
        "### Setelah dilakukan analisa, tidak ada data duplikat yang terditeksi. maka tidak terdapat duplikasi data"
      ]
    },
    {
      "cell_type": "markdown",
      "metadata": {
        "id": "fKZKtLKg2uvH"
      },
      "source": [
        "### Kemudian akan dilihat missing value dari data"
      ]
    },
    {
      "cell_type": "code",
      "execution_count": 21,
      "metadata": {
        "colab": {
          "base_uri": "https://localhost:8080/"
        },
        "id": "rdmylf2zvL7I",
        "outputId": "4f69232d-11be-4183-c0a4-5eda89d9dd94"
      },
      "outputs": [
        {
          "data": {
            "text/plain": [
              "id                                 0\n",
              "timestamp                          0\n",
              "hour                               0\n",
              "day                                0\n",
              "month                              0\n",
              "datetime                           0\n",
              "timezone                           0\n",
              "source                             0\n",
              "destination                        0\n",
              "cab_type                           0\n",
              "product_id                         0\n",
              "name                               0\n",
              "price                          55095\n",
              "distance                           0\n",
              "surge_multiplier                   0\n",
              "latitude                           0\n",
              "longitude                          0\n",
              "temperature                        0\n",
              "apparentTemperature                0\n",
              "short_summary                      0\n",
              "long_summary                       0\n",
              "precipIntensity                    0\n",
              "precipProbability                  0\n",
              "humidity                           0\n",
              "windSpeed                          0\n",
              "windGust                           0\n",
              "windGustTime                       0\n",
              "visibility                         0\n",
              "temperatureHigh                    0\n",
              "temperatureHighTime                0\n",
              "temperatureLow                     0\n",
              "temperatureLowTime                 0\n",
              "apparentTemperatureHigh            0\n",
              "apparentTemperatureHighTime        0\n",
              "apparentTemperatureLow             0\n",
              "apparentTemperatureLowTime         0\n",
              "icon                               0\n",
              "dewPoint                           0\n",
              "pressure                           0\n",
              "windBearing                        0\n",
              "cloudCover                         0\n",
              "uvIndex                            0\n",
              "visibility.1                       0\n",
              "ozone                              0\n",
              "sunriseTime                        0\n",
              "sunsetTime                         0\n",
              "moonPhase                          0\n",
              "precipIntensityMax                 0\n",
              "uvIndexTime                        0\n",
              "temperatureMin                     0\n",
              "temperatureMinTime                 0\n",
              "temperatureMax                     0\n",
              "temperatureMaxTime                 0\n",
              "apparentTemperatureMin             0\n",
              "apparentTemperatureMinTime         0\n",
              "apparentTemperatureMax             0\n",
              "apparentTemperatureMaxTime         0\n",
              "dtype: int64"
            ]
          },
          "execution_count": 21,
          "metadata": {},
          "output_type": "execute_result"
        }
      ],
      "source": [
        "df.isnull().sum()"
      ]
    },
    {
      "cell_type": "markdown",
      "metadata": {
        "id": "NOHNO_ck2uXw"
      },
      "source": [
        "### Setelah dilakukan analisa, nampak bahwa terdapat 55.905 missing value pada kolom price. karena terdapat missing value pada kolom target, maka akan dilakukan pengecekan kembali untuk mengetahui penanganan yang akan dilakukan."
      ]
    },
    {
      "cell_type": "code",
      "execution_count": 22,
      "metadata": {
        "colab": {
          "base_uri": "https://localhost:8080/",
          "height": 947
        },
        "id": "fcOcz79p2uEk",
        "outputId": "ae773a00-2fea-4a24-94ab-d590621de004"
      },
      "outputs": [
        {
          "data": {
            "application/vnd.google.colaboratory.intrinsic+json": {
              "type": "dataframe"
            },
            "text/html": [
              "\n",
              "  <div id=\"df-f2a3410e-c7e8-4353-a7da-842eac4bc0b6\" class=\"colab-df-container\">\n",
              "    <div>\n",
              "<style scoped>\n",
              "    .dataframe tbody tr th:only-of-type {\n",
              "        vertical-align: middle;\n",
              "    }\n",
              "\n",
              "    .dataframe tbody tr th {\n",
              "        vertical-align: top;\n",
              "    }\n",
              "\n",
              "    .dataframe thead th {\n",
              "        text-align: right;\n",
              "    }\n",
              "</style>\n",
              "<table border=\"1\" class=\"dataframe\">\n",
              "  <thead>\n",
              "    <tr style=\"text-align: right;\">\n",
              "      <th></th>\n",
              "      <th>id</th>\n",
              "      <th>timestamp</th>\n",
              "      <th>hour</th>\n",
              "      <th>day</th>\n",
              "      <th>month</th>\n",
              "      <th>datetime</th>\n",
              "      <th>timezone</th>\n",
              "      <th>source</th>\n",
              "      <th>destination</th>\n",
              "      <th>cab_type</th>\n",
              "      <th>...</th>\n",
              "      <th>precipIntensityMax</th>\n",
              "      <th>uvIndexTime</th>\n",
              "      <th>temperatureMin</th>\n",
              "      <th>temperatureMinTime</th>\n",
              "      <th>temperatureMax</th>\n",
              "      <th>temperatureMaxTime</th>\n",
              "      <th>apparentTemperatureMin</th>\n",
              "      <th>apparentTemperatureMinTime</th>\n",
              "      <th>apparentTemperatureMax</th>\n",
              "      <th>apparentTemperatureMaxTime</th>\n",
              "    </tr>\n",
              "  </thead>\n",
              "  <tbody>\n",
              "    <tr>\n",
              "      <th>18</th>\n",
              "      <td>fa5fb705-03a0-4eb9-82d9-7fe80872f754</td>\n",
              "      <td>1.543674e+09</td>\n",
              "      <td>14</td>\n",
              "      <td>1</td>\n",
              "      <td>12</td>\n",
              "      <td>2018-12-01 14:13:04</td>\n",
              "      <td>America/New_York</td>\n",
              "      <td>North End</td>\n",
              "      <td>West End</td>\n",
              "      <td>Uber</td>\n",
              "      <td>...</td>\n",
              "      <td>0.0000</td>\n",
              "      <td>1543683600</td>\n",
              "      <td>31.71</td>\n",
              "      <td>1543658400</td>\n",
              "      <td>44.66</td>\n",
              "      <td>1543690800</td>\n",
              "      <td>28.06</td>\n",
              "      <td>1543658400</td>\n",
              "      <td>43.99</td>\n",
              "      <td>1543690800</td>\n",
              "    </tr>\n",
              "    <tr>\n",
              "      <th>31</th>\n",
              "      <td>eee70d94-6706-4b95-a8ce-0e34f0fa8f37</td>\n",
              "      <td>1.543795e+09</td>\n",
              "      <td>23</td>\n",
              "      <td>2</td>\n",
              "      <td>12</td>\n",
              "      <td>2018-12-02 23:52:56</td>\n",
              "      <td>America/New_York</td>\n",
              "      <td>Beacon Hill</td>\n",
              "      <td>South Station</td>\n",
              "      <td>Uber</td>\n",
              "      <td>...</td>\n",
              "      <td>0.0904</td>\n",
              "      <td>1543770000</td>\n",
              "      <td>36.45</td>\n",
              "      <td>1543726800</td>\n",
              "      <td>50.73</td>\n",
              "      <td>1543788000</td>\n",
              "      <td>35.85</td>\n",
              "      <td>1543748400</td>\n",
              "      <td>50.06</td>\n",
              "      <td>1543788000</td>\n",
              "    </tr>\n",
              "    <tr>\n",
              "      <th>40</th>\n",
              "      <td>7f47ff53-7cf2-4a6a-8049-83c90e042593</td>\n",
              "      <td>1.543524e+09</td>\n",
              "      <td>20</td>\n",
              "      <td>29</td>\n",
              "      <td>11</td>\n",
              "      <td>2018-11-29 20:38:05</td>\n",
              "      <td>America/New_York</td>\n",
              "      <td>North Station</td>\n",
              "      <td>Fenway</td>\n",
              "      <td>Uber</td>\n",
              "      <td>...</td>\n",
              "      <td>0.0000</td>\n",
              "      <td>1543510800</td>\n",
              "      <td>35.15</td>\n",
              "      <td>1543550400</td>\n",
              "      <td>44.66</td>\n",
              "      <td>1543510800</td>\n",
              "      <td>30.98</td>\n",
              "      <td>1543550400</td>\n",
              "      <td>38.30</td>\n",
              "      <td>1543510800</td>\n",
              "    </tr>\n",
              "    <tr>\n",
              "      <th>60</th>\n",
              "      <td>43abdbe4-ab9e-4f39-afdc-31cfa375dc25</td>\n",
              "      <td>1.544732e+09</td>\n",
              "      <td>20</td>\n",
              "      <td>13</td>\n",
              "      <td>12</td>\n",
              "      <td>2018-12-13 20:10:16</td>\n",
              "      <td>America/New_York</td>\n",
              "      <td>North End</td>\n",
              "      <td>West End</td>\n",
              "      <td>Uber</td>\n",
              "      <td>...</td>\n",
              "      <td>0.0001</td>\n",
              "      <td>1544716800</td>\n",
              "      <td>18.29</td>\n",
              "      <td>1544688000</td>\n",
              "      <td>33.83</td>\n",
              "      <td>1544731200</td>\n",
              "      <td>13.79</td>\n",
              "      <td>1544688000</td>\n",
              "      <td>32.85</td>\n",
              "      <td>1544734800</td>\n",
              "    </tr>\n",
              "    <tr>\n",
              "      <th>69</th>\n",
              "      <td>80db1c49-9d51-4575-a4f4-1ec23b4d3e31</td>\n",
              "      <td>1.543583e+09</td>\n",
              "      <td>13</td>\n",
              "      <td>30</td>\n",
              "      <td>11</td>\n",
              "      <td>2018-11-30 13:08:03</td>\n",
              "      <td>America/New_York</td>\n",
              "      <td>North End</td>\n",
              "      <td>Beacon Hill</td>\n",
              "      <td>Uber</td>\n",
              "      <td>...</td>\n",
              "      <td>0.0003</td>\n",
              "      <td>1543593600</td>\n",
              "      <td>28.79</td>\n",
              "      <td>1543579200</td>\n",
              "      <td>42.52</td>\n",
              "      <td>1543600800</td>\n",
              "      <td>26.41</td>\n",
              "      <td>1543575600</td>\n",
              "      <td>40.53</td>\n",
              "      <td>1543611600</td>\n",
              "    </tr>\n",
              "    <tr>\n",
              "      <th>...</th>\n",
              "      <td>...</td>\n",
              "      <td>...</td>\n",
              "      <td>...</td>\n",
              "      <td>...</td>\n",
              "      <td>...</td>\n",
              "      <td>...</td>\n",
              "      <td>...</td>\n",
              "      <td>...</td>\n",
              "      <td>...</td>\n",
              "      <td>...</td>\n",
              "      <td>...</td>\n",
              "      <td>...</td>\n",
              "      <td>...</td>\n",
              "      <td>...</td>\n",
              "      <td>...</td>\n",
              "      <td>...</td>\n",
              "      <td>...</td>\n",
              "      <td>...</td>\n",
              "      <td>...</td>\n",
              "      <td>...</td>\n",
              "      <td>...</td>\n",
              "    </tr>\n",
              "    <tr>\n",
              "      <th>693025</th>\n",
              "      <td>70ad9983-92dd-4cdf-af16-732e7e9ee9d0</td>\n",
              "      <td>1.544887e+09</td>\n",
              "      <td>15</td>\n",
              "      <td>15</td>\n",
              "      <td>12</td>\n",
              "      <td>2018-12-15 15:15:13</td>\n",
              "      <td>America/New_York</td>\n",
              "      <td>South Station</td>\n",
              "      <td>Beacon Hill</td>\n",
              "      <td>Uber</td>\n",
              "      <td>...</td>\n",
              "      <td>0.0081</td>\n",
              "      <td>1544893200</td>\n",
              "      <td>39.68</td>\n",
              "      <td>1544929200</td>\n",
              "      <td>54.46</td>\n",
              "      <td>1544896800</td>\n",
              "      <td>36.43</td>\n",
              "      <td>1544929200</td>\n",
              "      <td>53.79</td>\n",
              "      <td>1544896800</td>\n",
              "    </tr>\n",
              "    <tr>\n",
              "      <th>693047</th>\n",
              "      <td>84e05ef0-781a-4bd5-a593-bbbf659d4ba0</td>\n",
              "      <td>1.543456e+09</td>\n",
              "      <td>1</td>\n",
              "      <td>29</td>\n",
              "      <td>11</td>\n",
              "      <td>2018-11-29 01:47:08</td>\n",
              "      <td>America/New_York</td>\n",
              "      <td>Haymarket Square</td>\n",
              "      <td>Beacon Hill</td>\n",
              "      <td>Uber</td>\n",
              "      <td>...</td>\n",
              "      <td>0.0000</td>\n",
              "      <td>1543420800</td>\n",
              "      <td>33.85</td>\n",
              "      <td>1543399200</td>\n",
              "      <td>42.61</td>\n",
              "      <td>1543438800</td>\n",
              "      <td>30.03</td>\n",
              "      <td>1543399200</td>\n",
              "      <td>36.57</td>\n",
              "      <td>1543438800</td>\n",
              "    </tr>\n",
              "    <tr>\n",
              "      <th>693049</th>\n",
              "      <td>885ef635-299e-45cf-8052-c45a39e9822a</td>\n",
              "      <td>1.543456e+09</td>\n",
              "      <td>1</td>\n",
              "      <td>29</td>\n",
              "      <td>11</td>\n",
              "      <td>2018-11-29 01:47:08</td>\n",
              "      <td>America/New_York</td>\n",
              "      <td>North End</td>\n",
              "      <td>Beacon Hill</td>\n",
              "      <td>Uber</td>\n",
              "      <td>...</td>\n",
              "      <td>0.0000</td>\n",
              "      <td>1543420800</td>\n",
              "      <td>33.85</td>\n",
              "      <td>1543399200</td>\n",
              "      <td>42.61</td>\n",
              "      <td>1543438800</td>\n",
              "      <td>30.03</td>\n",
              "      <td>1543399200</td>\n",
              "      <td>36.57</td>\n",
              "      <td>1543438800</td>\n",
              "    </tr>\n",
              "    <tr>\n",
              "      <th>693060</th>\n",
              "      <td>50a7b6be-ed2a-4a11-8d36-73bd977ad66a</td>\n",
              "      <td>1.543728e+09</td>\n",
              "      <td>5</td>\n",
              "      <td>2</td>\n",
              "      <td>12</td>\n",
              "      <td>2018-12-02 05:28:04</td>\n",
              "      <td>America/New_York</td>\n",
              "      <td>Theatre District</td>\n",
              "      <td>Haymarket Square</td>\n",
              "      <td>Uber</td>\n",
              "      <td>...</td>\n",
              "      <td>0.0916</td>\n",
              "      <td>1543770000</td>\n",
              "      <td>36.32</td>\n",
              "      <td>1543726800</td>\n",
              "      <td>50.80</td>\n",
              "      <td>1543788000</td>\n",
              "      <td>35.84</td>\n",
              "      <td>1543748400</td>\n",
              "      <td>50.13</td>\n",
              "      <td>1543788000</td>\n",
              "    </tr>\n",
              "    <tr>\n",
              "      <th>693068</th>\n",
              "      <td>64d451d0-639f-47a4-9b7c-6fd92fbd264f</td>\n",
              "      <td>1.543708e+09</td>\n",
              "      <td>23</td>\n",
              "      <td>1</td>\n",
              "      <td>12</td>\n",
              "      <td>2018-12-01 23:53:05</td>\n",
              "      <td>America/New_York</td>\n",
              "      <td>West End</td>\n",
              "      <td>North End</td>\n",
              "      <td>Uber</td>\n",
              "      <td>...</td>\n",
              "      <td>0.0000</td>\n",
              "      <td>1543683600</td>\n",
              "      <td>31.42</td>\n",
              "      <td>1543658400</td>\n",
              "      <td>44.76</td>\n",
              "      <td>1543690800</td>\n",
              "      <td>27.77</td>\n",
              "      <td>1543658400</td>\n",
              "      <td>44.09</td>\n",
              "      <td>1543690800</td>\n",
              "    </tr>\n",
              "  </tbody>\n",
              "</table>\n",
              "<p>55095 rows × 57 columns</p>\n",
              "</div>\n",
              "    <div class=\"colab-df-buttons\">\n",
              "\n",
              "  <div class=\"colab-df-container\">\n",
              "    <button class=\"colab-df-convert\" onclick=\"convertToInteractive('df-f2a3410e-c7e8-4353-a7da-842eac4bc0b6')\"\n",
              "            title=\"Convert this dataframe to an interactive table.\"\n",
              "            style=\"display:none;\">\n",
              "\n",
              "  <svg xmlns=\"http://www.w3.org/2000/svg\" height=\"24px\" viewBox=\"0 -960 960 960\">\n",
              "    <path d=\"M120-120v-720h720v720H120Zm60-500h600v-160H180v160Zm220 220h160v-160H400v160Zm0 220h160v-160H400v160ZM180-400h160v-160H180v160Zm440 0h160v-160H620v160ZM180-180h160v-160H180v160Zm440 0h160v-160H620v160Z\"/>\n",
              "  </svg>\n",
              "    </button>\n",
              "\n",
              "  <style>\n",
              "    .colab-df-container {\n",
              "      display:flex;\n",
              "      gap: 12px;\n",
              "    }\n",
              "\n",
              "    .colab-df-convert {\n",
              "      background-color: #E8F0FE;\n",
              "      border: none;\n",
              "      border-radius: 50%;\n",
              "      cursor: pointer;\n",
              "      display: none;\n",
              "      fill: #1967D2;\n",
              "      height: 32px;\n",
              "      padding: 0 0 0 0;\n",
              "      width: 32px;\n",
              "    }\n",
              "\n",
              "    .colab-df-convert:hover {\n",
              "      background-color: #E2EBFA;\n",
              "      box-shadow: 0px 1px 2px rgba(60, 64, 67, 0.3), 0px 1px 3px 1px rgba(60, 64, 67, 0.15);\n",
              "      fill: #174EA6;\n",
              "    }\n",
              "\n",
              "    .colab-df-buttons div {\n",
              "      margin-bottom: 4px;\n",
              "    }\n",
              "\n",
              "    [theme=dark] .colab-df-convert {\n",
              "      background-color: #3B4455;\n",
              "      fill: #D2E3FC;\n",
              "    }\n",
              "\n",
              "    [theme=dark] .colab-df-convert:hover {\n",
              "      background-color: #434B5C;\n",
              "      box-shadow: 0px 1px 3px 1px rgba(0, 0, 0, 0.15);\n",
              "      filter: drop-shadow(0px 1px 2px rgba(0, 0, 0, 0.3));\n",
              "      fill: #FFFFFF;\n",
              "    }\n",
              "  </style>\n",
              "\n",
              "    <script>\n",
              "      const buttonEl =\n",
              "        document.querySelector('#df-f2a3410e-c7e8-4353-a7da-842eac4bc0b6 button.colab-df-convert');\n",
              "      buttonEl.style.display =\n",
              "        google.colab.kernel.accessAllowed ? 'block' : 'none';\n",
              "\n",
              "      async function convertToInteractive(key) {\n",
              "        const element = document.querySelector('#df-f2a3410e-c7e8-4353-a7da-842eac4bc0b6');\n",
              "        const dataTable =\n",
              "          await google.colab.kernel.invokeFunction('convertToInteractive',\n",
              "                                                    [key], {});\n",
              "        if (!dataTable) return;\n",
              "\n",
              "        const docLinkHtml = 'Like what you see? Visit the ' +\n",
              "          '<a target=\"_blank\" href=https://colab.research.google.com/notebooks/data_table.ipynb>data table notebook</a>'\n",
              "          + ' to learn more about interactive tables.';\n",
              "        element.innerHTML = '';\n",
              "        dataTable['output_type'] = 'display_data';\n",
              "        await google.colab.output.renderOutput(dataTable, element);\n",
              "        const docLink = document.createElement('div');\n",
              "        docLink.innerHTML = docLinkHtml;\n",
              "        element.appendChild(docLink);\n",
              "      }\n",
              "    </script>\n",
              "  </div>\n",
              "\n",
              "\n",
              "<div id=\"df-ea7048fa-5dd8-4c26-aa93-0b3f5cdca43b\">\n",
              "  <button class=\"colab-df-quickchart\" onclick=\"quickchart('df-ea7048fa-5dd8-4c26-aa93-0b3f5cdca43b')\"\n",
              "            title=\"Suggest charts\"\n",
              "            style=\"display:none;\">\n",
              "\n",
              "<svg xmlns=\"http://www.w3.org/2000/svg\" height=\"24px\"viewBox=\"0 0 24 24\"\n",
              "     width=\"24px\">\n",
              "    <g>\n",
              "        <path d=\"M19 3H5c-1.1 0-2 .9-2 2v14c0 1.1.9 2 2 2h14c1.1 0 2-.9 2-2V5c0-1.1-.9-2-2-2zM9 17H7v-7h2v7zm4 0h-2V7h2v10zm4 0h-2v-4h2v4z\"/>\n",
              "    </g>\n",
              "</svg>\n",
              "  </button>\n",
              "\n",
              "<style>\n",
              "  .colab-df-quickchart {\n",
              "      --bg-color: #E8F0FE;\n",
              "      --fill-color: #1967D2;\n",
              "      --hover-bg-color: #E2EBFA;\n",
              "      --hover-fill-color: #174EA6;\n",
              "      --disabled-fill-color: #AAA;\n",
              "      --disabled-bg-color: #DDD;\n",
              "  }\n",
              "\n",
              "  [theme=dark] .colab-df-quickchart {\n",
              "      --bg-color: #3B4455;\n",
              "      --fill-color: #D2E3FC;\n",
              "      --hover-bg-color: #434B5C;\n",
              "      --hover-fill-color: #FFFFFF;\n",
              "      --disabled-bg-color: #3B4455;\n",
              "      --disabled-fill-color: #666;\n",
              "  }\n",
              "\n",
              "  .colab-df-quickchart {\n",
              "    background-color: var(--bg-color);\n",
              "    border: none;\n",
              "    border-radius: 50%;\n",
              "    cursor: pointer;\n",
              "    display: none;\n",
              "    fill: var(--fill-color);\n",
              "    height: 32px;\n",
              "    padding: 0;\n",
              "    width: 32px;\n",
              "  }\n",
              "\n",
              "  .colab-df-quickchart:hover {\n",
              "    background-color: var(--hover-bg-color);\n",
              "    box-shadow: 0 1px 2px rgba(60, 64, 67, 0.3), 0 1px 3px 1px rgba(60, 64, 67, 0.15);\n",
              "    fill: var(--button-hover-fill-color);\n",
              "  }\n",
              "\n",
              "  .colab-df-quickchart-complete:disabled,\n",
              "  .colab-df-quickchart-complete:disabled:hover {\n",
              "    background-color: var(--disabled-bg-color);\n",
              "    fill: var(--disabled-fill-color);\n",
              "    box-shadow: none;\n",
              "  }\n",
              "\n",
              "  .colab-df-spinner {\n",
              "    border: 2px solid var(--fill-color);\n",
              "    border-color: transparent;\n",
              "    border-bottom-color: var(--fill-color);\n",
              "    animation:\n",
              "      spin 1s steps(1) infinite;\n",
              "  }\n",
              "\n",
              "  @keyframes spin {\n",
              "    0% {\n",
              "      border-color: transparent;\n",
              "      border-bottom-color: var(--fill-color);\n",
              "      border-left-color: var(--fill-color);\n",
              "    }\n",
              "    20% {\n",
              "      border-color: transparent;\n",
              "      border-left-color: var(--fill-color);\n",
              "      border-top-color: var(--fill-color);\n",
              "    }\n",
              "    30% {\n",
              "      border-color: transparent;\n",
              "      border-left-color: var(--fill-color);\n",
              "      border-top-color: var(--fill-color);\n",
              "      border-right-color: var(--fill-color);\n",
              "    }\n",
              "    40% {\n",
              "      border-color: transparent;\n",
              "      border-right-color: var(--fill-color);\n",
              "      border-top-color: var(--fill-color);\n",
              "    }\n",
              "    60% {\n",
              "      border-color: transparent;\n",
              "      border-right-color: var(--fill-color);\n",
              "    }\n",
              "    80% {\n",
              "      border-color: transparent;\n",
              "      border-right-color: var(--fill-color);\n",
              "      border-bottom-color: var(--fill-color);\n",
              "    }\n",
              "    90% {\n",
              "      border-color: transparent;\n",
              "      border-bottom-color: var(--fill-color);\n",
              "    }\n",
              "  }\n",
              "</style>\n",
              "\n",
              "  <script>\n",
              "    async function quickchart(key) {\n",
              "      const quickchartButtonEl =\n",
              "        document.querySelector('#' + key + ' button');\n",
              "      quickchartButtonEl.disabled = true;  // To prevent multiple clicks.\n",
              "      quickchartButtonEl.classList.add('colab-df-spinner');\n",
              "      try {\n",
              "        const charts = await google.colab.kernel.invokeFunction(\n",
              "            'suggestCharts', [key], {});\n",
              "      } catch (error) {\n",
              "        console.error('Error during call to suggestCharts:', error);\n",
              "      }\n",
              "      quickchartButtonEl.classList.remove('colab-df-spinner');\n",
              "      quickchartButtonEl.classList.add('colab-df-quickchart-complete');\n",
              "    }\n",
              "    (() => {\n",
              "      let quickchartButtonEl =\n",
              "        document.querySelector('#df-ea7048fa-5dd8-4c26-aa93-0b3f5cdca43b button');\n",
              "      quickchartButtonEl.style.display =\n",
              "        google.colab.kernel.accessAllowed ? 'block' : 'none';\n",
              "    })();\n",
              "  </script>\n",
              "</div>\n",
              "    </div>\n",
              "  </div>\n"
            ],
            "text/plain": [
              "                                          id     timestamp  hour  day  month  \\\n",
              "18      fa5fb705-03a0-4eb9-82d9-7fe80872f754  1.543674e+09    14    1     12   \n",
              "31      eee70d94-6706-4b95-a8ce-0e34f0fa8f37  1.543795e+09    23    2     12   \n",
              "40      7f47ff53-7cf2-4a6a-8049-83c90e042593  1.543524e+09    20   29     11   \n",
              "60      43abdbe4-ab9e-4f39-afdc-31cfa375dc25  1.544732e+09    20   13     12   \n",
              "69      80db1c49-9d51-4575-a4f4-1ec23b4d3e31  1.543583e+09    13   30     11   \n",
              "...                                      ...           ...   ...  ...    ...   \n",
              "693025  70ad9983-92dd-4cdf-af16-732e7e9ee9d0  1.544887e+09    15   15     12   \n",
              "693047  84e05ef0-781a-4bd5-a593-bbbf659d4ba0  1.543456e+09     1   29     11   \n",
              "693049  885ef635-299e-45cf-8052-c45a39e9822a  1.543456e+09     1   29     11   \n",
              "693060  50a7b6be-ed2a-4a11-8d36-73bd977ad66a  1.543728e+09     5    2     12   \n",
              "693068  64d451d0-639f-47a4-9b7c-6fd92fbd264f  1.543708e+09    23    1     12   \n",
              "\n",
              "                   datetime          timezone            source  \\\n",
              "18      2018-12-01 14:13:04  America/New_York         North End   \n",
              "31      2018-12-02 23:52:56  America/New_York       Beacon Hill   \n",
              "40      2018-11-29 20:38:05  America/New_York     North Station   \n",
              "60      2018-12-13 20:10:16  America/New_York         North End   \n",
              "69      2018-11-30 13:08:03  America/New_York         North End   \n",
              "...                     ...               ...               ...   \n",
              "693025  2018-12-15 15:15:13  America/New_York     South Station   \n",
              "693047  2018-11-29 01:47:08  America/New_York  Haymarket Square   \n",
              "693049  2018-11-29 01:47:08  America/New_York         North End   \n",
              "693060  2018-12-02 05:28:04  America/New_York  Theatre District   \n",
              "693068  2018-12-01 23:53:05  America/New_York          West End   \n",
              "\n",
              "             destination cab_type  ... precipIntensityMax uvIndexTime  \\\n",
              "18              West End     Uber  ...             0.0000  1543683600   \n",
              "31         South Station     Uber  ...             0.0904  1543770000   \n",
              "40                Fenway     Uber  ...             0.0000  1543510800   \n",
              "60              West End     Uber  ...             0.0001  1544716800   \n",
              "69           Beacon Hill     Uber  ...             0.0003  1543593600   \n",
              "...                  ...      ...  ...                ...         ...   \n",
              "693025       Beacon Hill     Uber  ...             0.0081  1544893200   \n",
              "693047       Beacon Hill     Uber  ...             0.0000  1543420800   \n",
              "693049       Beacon Hill     Uber  ...             0.0000  1543420800   \n",
              "693060  Haymarket Square     Uber  ...             0.0916  1543770000   \n",
              "693068         North End     Uber  ...             0.0000  1543683600   \n",
              "\n",
              "        temperatureMin  temperatureMinTime  temperatureMax  \\\n",
              "18               31.71          1543658400           44.66   \n",
              "31               36.45          1543726800           50.73   \n",
              "40               35.15          1543550400           44.66   \n",
              "60               18.29          1544688000           33.83   \n",
              "69               28.79          1543579200           42.52   \n",
              "...                ...                 ...             ...   \n",
              "693025           39.68          1544929200           54.46   \n",
              "693047           33.85          1543399200           42.61   \n",
              "693049           33.85          1543399200           42.61   \n",
              "693060           36.32          1543726800           50.80   \n",
              "693068           31.42          1543658400           44.76   \n",
              "\n",
              "        temperatureMaxTime  apparentTemperatureMin  \\\n",
              "18              1543690800                   28.06   \n",
              "31              1543788000                   35.85   \n",
              "40              1543510800                   30.98   \n",
              "60              1544731200                   13.79   \n",
              "69              1543600800                   26.41   \n",
              "...                    ...                     ...   \n",
              "693025          1544896800                   36.43   \n",
              "693047          1543438800                   30.03   \n",
              "693049          1543438800                   30.03   \n",
              "693060          1543788000                   35.84   \n",
              "693068          1543690800                   27.77   \n",
              "\n",
              "        apparentTemperatureMinTime  apparentTemperatureMax  \\\n",
              "18                      1543658400                   43.99   \n",
              "31                      1543748400                   50.06   \n",
              "40                      1543550400                   38.30   \n",
              "60                      1544688000                   32.85   \n",
              "69                      1543575600                   40.53   \n",
              "...                            ...                     ...   \n",
              "693025                  1544929200                   53.79   \n",
              "693047                  1543399200                   36.57   \n",
              "693049                  1543399200                   36.57   \n",
              "693060                  1543748400                   50.13   \n",
              "693068                  1543658400                   44.09   \n",
              "\n",
              "       apparentTemperatureMaxTime  \n",
              "18                     1543690800  \n",
              "31                     1543788000  \n",
              "40                     1543510800  \n",
              "60                     1544734800  \n",
              "69                     1543611600  \n",
              "...                           ...  \n",
              "693025                 1544896800  \n",
              "693047                 1543438800  \n",
              "693049                 1543438800  \n",
              "693060                 1543788000  \n",
              "693068                 1543690800  \n",
              "\n",
              "[55095 rows x 57 columns]"
            ]
          },
          "execution_count": 22,
          "metadata": {},
          "output_type": "execute_result"
        }
      ],
      "source": [
        "df[df['price'].isnull()]"
      ]
    },
    {
      "cell_type": "markdown",
      "metadata": {
        "id": "tMcepyw97Kow"
      },
      "source": [
        "### Setelah dicheck, karena data fitur hampir memiliki nilai yang sama pada missing value pada kolom target(price) maka akan dilakukan amputasi data."
      ]
    },
    {
      "cell_type": "code",
      "execution_count": 23,
      "metadata": {
        "id": "gNJmUfQa3uy8"
      },
      "outputs": [],
      "source": [
        "df.dropna(inplace=True)"
      ]
    },
    {
      "cell_type": "code",
      "execution_count": 24,
      "metadata": {
        "colab": {
          "base_uri": "https://localhost:8080/"
        },
        "id": "8MZKOFb_BBiU",
        "outputId": "bc64e379-a4cf-4662-fc33-10f5156638a1"
      },
      "outputs": [
        {
          "data": {
            "text/plain": [
              "id                             0\n",
              "timestamp                      0\n",
              "hour                           0\n",
              "day                            0\n",
              "month                          0\n",
              "datetime                       0\n",
              "timezone                       0\n",
              "source                         0\n",
              "destination                    0\n",
              "cab_type                       0\n",
              "product_id                     0\n",
              "name                           0\n",
              "price                          0\n",
              "distance                       0\n",
              "surge_multiplier               0\n",
              "latitude                       0\n",
              "longitude                      0\n",
              "temperature                    0\n",
              "apparentTemperature            0\n",
              "short_summary                  0\n",
              "long_summary                   0\n",
              "precipIntensity                0\n",
              "precipProbability              0\n",
              "humidity                       0\n",
              "windSpeed                      0\n",
              "windGust                       0\n",
              "windGustTime                   0\n",
              "visibility                     0\n",
              "temperatureHigh                0\n",
              "temperatureHighTime            0\n",
              "temperatureLow                 0\n",
              "temperatureLowTime             0\n",
              "apparentTemperatureHigh        0\n",
              "apparentTemperatureHighTime    0\n",
              "apparentTemperatureLow         0\n",
              "apparentTemperatureLowTime     0\n",
              "icon                           0\n",
              "dewPoint                       0\n",
              "pressure                       0\n",
              "windBearing                    0\n",
              "cloudCover                     0\n",
              "uvIndex                        0\n",
              "visibility.1                   0\n",
              "ozone                          0\n",
              "sunriseTime                    0\n",
              "sunsetTime                     0\n",
              "moonPhase                      0\n",
              "precipIntensityMax             0\n",
              "uvIndexTime                    0\n",
              "temperatureMin                 0\n",
              "temperatureMinTime             0\n",
              "temperatureMax                 0\n",
              "temperatureMaxTime             0\n",
              "apparentTemperatureMin         0\n",
              "apparentTemperatureMinTime     0\n",
              "apparentTemperatureMax         0\n",
              "apparentTemperatureMaxTime     0\n",
              "dtype: int64"
            ]
          },
          "execution_count": 24,
          "metadata": {},
          "output_type": "execute_result"
        }
      ],
      "source": [
        "df.isnull().sum()"
      ]
    },
    {
      "cell_type": "markdown",
      "metadata": {
        "id": "6T49nwNo7-1p"
      },
      "source": [
        "### Setelah diamputasi, maka nampak tidak ada lagi missing value pada data"
      ]
    },
    {
      "cell_type": "markdown",
      "metadata": {
        "id": "WXcbsijv8GqD"
      },
      "source": [
        "### Melihat bentuk data serta tipe data setiap kolom"
      ]
    },
    {
      "cell_type": "code",
      "execution_count": 25,
      "metadata": {
        "colab": {
          "base_uri": "https://localhost:8080/"
        },
        "id": "1leTGVSi8PsZ",
        "outputId": "13c66f3b-e2d8-4bb1-d237-f5e520cd288c"
      },
      "outputs": [
        {
          "name": "stdout",
          "output_type": "stream",
          "text": [
            "<class 'pandas.core.frame.DataFrame'>\n",
            "Int64Index: 637976 entries, 0 to 693070\n",
            "Data columns (total 57 columns):\n",
            " #   Column                       Non-Null Count   Dtype  \n",
            "---  ------                       --------------   -----  \n",
            " 0   id                           637976 non-null  object \n",
            " 1   timestamp                    637976 non-null  float64\n",
            " 2   hour                         637976 non-null  int64  \n",
            " 3   day                          637976 non-null  int64  \n",
            " 4   month                        637976 non-null  int64  \n",
            " 5   datetime                     637976 non-null  object \n",
            " 6   timezone                     637976 non-null  object \n",
            " 7   source                       637976 non-null  object \n",
            " 8   destination                  637976 non-null  object \n",
            " 9   cab_type                     637976 non-null  object \n",
            " 10  product_id                   637976 non-null  object \n",
            " 11  name                         637976 non-null  object \n",
            " 12  price                        637976 non-null  float64\n",
            " 13  distance                     637976 non-null  float64\n",
            " 14  surge_multiplier             637976 non-null  float64\n",
            " 15  latitude                     637976 non-null  float64\n",
            " 16  longitude                    637976 non-null  float64\n",
            " 17  temperature                  637976 non-null  float64\n",
            " 18  apparentTemperature          637976 non-null  float64\n",
            " 19  short_summary                637976 non-null  object \n",
            " 20  long_summary                 637976 non-null  object \n",
            " 21  precipIntensity              637976 non-null  float64\n",
            " 22  precipProbability            637976 non-null  float64\n",
            " 23  humidity                     637976 non-null  float64\n",
            " 24  windSpeed                    637976 non-null  float64\n",
            " 25  windGust                     637976 non-null  float64\n",
            " 26  windGustTime                 637976 non-null  int64  \n",
            " 27  visibility                   637976 non-null  float64\n",
            " 28  temperatureHigh              637976 non-null  float64\n",
            " 29  temperatureHighTime          637976 non-null  int64  \n",
            " 30  temperatureLow               637976 non-null  float64\n",
            " 31  temperatureLowTime           637976 non-null  int64  \n",
            " 32  apparentTemperatureHigh      637976 non-null  float64\n",
            " 33  apparentTemperatureHighTime  637976 non-null  int64  \n",
            " 34  apparentTemperatureLow       637976 non-null  float64\n",
            " 35  apparentTemperatureLowTime   637976 non-null  int64  \n",
            " 36  icon                         637976 non-null  object \n",
            " 37  dewPoint                     637976 non-null  float64\n",
            " 38  pressure                     637976 non-null  float64\n",
            " 39  windBearing                  637976 non-null  int64  \n",
            " 40  cloudCover                   637976 non-null  float64\n",
            " 41  uvIndex                      637976 non-null  int64  \n",
            " 42  visibility.1                 637976 non-null  float64\n",
            " 43  ozone                        637976 non-null  float64\n",
            " 44  sunriseTime                  637976 non-null  int64  \n",
            " 45  sunsetTime                   637976 non-null  int64  \n",
            " 46  moonPhase                    637976 non-null  float64\n",
            " 47  precipIntensityMax           637976 non-null  float64\n",
            " 48  uvIndexTime                  637976 non-null  int64  \n",
            " 49  temperatureMin               637976 non-null  float64\n",
            " 50  temperatureMinTime           637976 non-null  int64  \n",
            " 51  temperatureMax               637976 non-null  float64\n",
            " 52  temperatureMaxTime           637976 non-null  int64  \n",
            " 53  apparentTemperatureMin       637976 non-null  float64\n",
            " 54  apparentTemperatureMinTime   637976 non-null  int64  \n",
            " 55  apparentTemperatureMax       637976 non-null  float64\n",
            " 56  apparentTemperatureMaxTime   637976 non-null  int64  \n",
            "dtypes: float64(29), int64(17), object(11)\n",
            "memory usage: 282.3+ MB\n"
          ]
        }
      ],
      "source": [
        "df.info()"
      ]
    },
    {
      "cell_type": "markdown",
      "metadata": {
        "id": "nVuGd215_7hW"
      },
      "source": [
        "Dari output diatas, dapat diketahui bahwa dataset uber memiliki 57 kolom dengan keterangan:\n",
        "- 29 tipe data float\n",
        "- 17 tipe data int\n",
        "- 11 tipe kategori\n",
        "- dengan jumlah, 637.976 data.\n",
        "\n",
        "Selanjutnya akan dibuat list antara data kategori dan numerik untuk memudahkan melakukan analisis nanti"
      ]
    },
    {
      "cell_type": "code",
      "execution_count": 27,
      "metadata": {
        "id": "EOGIjV4M72ur"
      },
      "outputs": [],
      "source": [
        "list_kategori = df.select_dtypes(include='object').columns.tolist() #List kolom kategori\n",
        "list_num = df.select_dtypes(exclude='object').columns.tolist() #List Kolom numerik\n"
      ]
    },
    {
      "cell_type": "markdown",
      "metadata": {
        "id": "AaUjhfTdDCtD"
      },
      "source": [
        "### Melihat ringkasan data"
      ]
    },
    {
      "cell_type": "code",
      "execution_count": 28,
      "metadata": {
        "colab": {
          "base_uri": "https://localhost:8080/",
          "height": 350
        },
        "id": "6PCM2j8kDCZO",
        "outputId": "a8a55a99-8a32-4bde-aecf-b9fcdc5a999a"
      },
      "outputs": [
        {
          "data": {
            "application/vnd.google.colaboratory.intrinsic+json": {
              "type": "dataframe"
            },
            "text/html": [
              "\n",
              "  <div id=\"df-884a8699-4ee1-40a3-a13e-3e308ad6b25e\" class=\"colab-df-container\">\n",
              "    <div>\n",
              "<style scoped>\n",
              "    .dataframe tbody tr th:only-of-type {\n",
              "        vertical-align: middle;\n",
              "    }\n",
              "\n",
              "    .dataframe tbody tr th {\n",
              "        vertical-align: top;\n",
              "    }\n",
              "\n",
              "    .dataframe thead th {\n",
              "        text-align: right;\n",
              "    }\n",
              "</style>\n",
              "<table border=\"1\" class=\"dataframe\">\n",
              "  <thead>\n",
              "    <tr style=\"text-align: right;\">\n",
              "      <th></th>\n",
              "      <th>timestamp</th>\n",
              "      <th>hour</th>\n",
              "      <th>day</th>\n",
              "      <th>month</th>\n",
              "      <th>price</th>\n",
              "      <th>distance</th>\n",
              "      <th>surge_multiplier</th>\n",
              "      <th>latitude</th>\n",
              "      <th>longitude</th>\n",
              "      <th>temperature</th>\n",
              "      <th>...</th>\n",
              "      <th>precipIntensityMax</th>\n",
              "      <th>uvIndexTime</th>\n",
              "      <th>temperatureMin</th>\n",
              "      <th>temperatureMinTime</th>\n",
              "      <th>temperatureMax</th>\n",
              "      <th>temperatureMaxTime</th>\n",
              "      <th>apparentTemperatureMin</th>\n",
              "      <th>apparentTemperatureMinTime</th>\n",
              "      <th>apparentTemperatureMax</th>\n",
              "      <th>apparentTemperatureMaxTime</th>\n",
              "    </tr>\n",
              "  </thead>\n",
              "  <tbody>\n",
              "    <tr>\n",
              "      <th>count</th>\n",
              "      <td>6.379760e+05</td>\n",
              "      <td>637976.000000</td>\n",
              "      <td>637976.000000</td>\n",
              "      <td>637976.000000</td>\n",
              "      <td>637976.000000</td>\n",
              "      <td>637976.000000</td>\n",
              "      <td>637976.000000</td>\n",
              "      <td>637976.000000</td>\n",
              "      <td>637976.000000</td>\n",
              "      <td>637976.000000</td>\n",
              "      <td>...</td>\n",
              "      <td>637976.000000</td>\n",
              "      <td>6.379760e+05</td>\n",
              "      <td>637976.000000</td>\n",
              "      <td>6.379760e+05</td>\n",
              "      <td>637976.000000</td>\n",
              "      <td>6.379760e+05</td>\n",
              "      <td>637976.000000</td>\n",
              "      <td>6.379760e+05</td>\n",
              "      <td>637976.000000</td>\n",
              "      <td>6.379760e+05</td>\n",
              "    </tr>\n",
              "    <tr>\n",
              "      <th>mean</th>\n",
              "      <td>1.544046e+09</td>\n",
              "      <td>11.618528</td>\n",
              "      <td>17.797674</td>\n",
              "      <td>11.586550</td>\n",
              "      <td>16.545125</td>\n",
              "      <td>2.189261</td>\n",
              "      <td>1.015068</td>\n",
              "      <td>42.338161</td>\n",
              "      <td>-71.066144</td>\n",
              "      <td>39.582406</td>\n",
              "      <td>...</td>\n",
              "      <td>0.037369</td>\n",
              "      <td>1.544044e+09</td>\n",
              "      <td>33.456171</td>\n",
              "      <td>1.544042e+09</td>\n",
              "      <td>45.259945</td>\n",
              "      <td>1.544047e+09</td>\n",
              "      <td>29.729028</td>\n",
              "      <td>1.544048e+09</td>\n",
              "      <td>41.995876</td>\n",
              "      <td>1.544048e+09</td>\n",
              "    </tr>\n",
              "    <tr>\n",
              "      <th>std</th>\n",
              "      <td>6.892028e+05</td>\n",
              "      <td>6.948776</td>\n",
              "      <td>9.982083</td>\n",
              "      <td>0.492452</td>\n",
              "      <td>9.324359</td>\n",
              "      <td>1.135413</td>\n",
              "      <td>0.095422</td>\n",
              "      <td>0.047856</td>\n",
              "      <td>0.020303</td>\n",
              "      <td>6.725500</td>\n",
              "      <td>...</td>\n",
              "      <td>0.055216</td>\n",
              "      <td>6.912268e+05</td>\n",
              "      <td>6.466349</td>\n",
              "      <td>6.902087e+05</td>\n",
              "      <td>5.644414</td>\n",
              "      <td>6.901597e+05</td>\n",
              "      <td>7.109907</td>\n",
              "      <td>6.872011e+05</td>\n",
              "      <td>6.935538</td>\n",
              "      <td>6.911036e+05</td>\n",
              "    </tr>\n",
              "    <tr>\n",
              "      <th>min</th>\n",
              "      <td>1.543204e+09</td>\n",
              "      <td>0.000000</td>\n",
              "      <td>1.000000</td>\n",
              "      <td>11.000000</td>\n",
              "      <td>2.500000</td>\n",
              "      <td>0.020000</td>\n",
              "      <td>1.000000</td>\n",
              "      <td>42.214800</td>\n",
              "      <td>-71.105400</td>\n",
              "      <td>18.910000</td>\n",
              "      <td>...</td>\n",
              "      <td>0.000000</td>\n",
              "      <td>1.543162e+09</td>\n",
              "      <td>15.630000</td>\n",
              "      <td>1.543122e+09</td>\n",
              "      <td>33.510000</td>\n",
              "      <td>1.543154e+09</td>\n",
              "      <td>11.810000</td>\n",
              "      <td>1.543136e+09</td>\n",
              "      <td>28.950000</td>\n",
              "      <td>1.543187e+09</td>\n",
              "    </tr>\n",
              "    <tr>\n",
              "      <th>25%</th>\n",
              "      <td>1.543444e+09</td>\n",
              "      <td>6.000000</td>\n",
              "      <td>13.000000</td>\n",
              "      <td>11.000000</td>\n",
              "      <td>9.000000</td>\n",
              "      <td>1.270000</td>\n",
              "      <td>1.000000</td>\n",
              "      <td>42.350300</td>\n",
              "      <td>-71.081000</td>\n",
              "      <td>36.450000</td>\n",
              "      <td>...</td>\n",
              "      <td>0.000000</td>\n",
              "      <td>1.543421e+09</td>\n",
              "      <td>30.170000</td>\n",
              "      <td>1.543399e+09</td>\n",
              "      <td>42.570000</td>\n",
              "      <td>1.543439e+09</td>\n",
              "      <td>27.760000</td>\n",
              "      <td>1.543399e+09</td>\n",
              "      <td>36.570000</td>\n",
              "      <td>1.543439e+09</td>\n",
              "    </tr>\n",
              "    <tr>\n",
              "      <th>50%</th>\n",
              "      <td>1.543737e+09</td>\n",
              "      <td>12.000000</td>\n",
              "      <td>17.000000</td>\n",
              "      <td>12.000000</td>\n",
              "      <td>13.500000</td>\n",
              "      <td>2.160000</td>\n",
              "      <td>1.000000</td>\n",
              "      <td>42.351900</td>\n",
              "      <td>-71.063100</td>\n",
              "      <td>40.490000</td>\n",
              "      <td>...</td>\n",
              "      <td>0.000400</td>\n",
              "      <td>1.543770e+09</td>\n",
              "      <td>34.240000</td>\n",
              "      <td>1.543727e+09</td>\n",
              "      <td>44.660000</td>\n",
              "      <td>1.543788e+09</td>\n",
              "      <td>30.130000</td>\n",
              "      <td>1.543745e+09</td>\n",
              "      <td>40.950000</td>\n",
              "      <td>1.543788e+09</td>\n",
              "    </tr>\n",
              "    <tr>\n",
              "      <th>75%</th>\n",
              "      <td>1.544828e+09</td>\n",
              "      <td>18.000000</td>\n",
              "      <td>28.000000</td>\n",
              "      <td>12.000000</td>\n",
              "      <td>22.500000</td>\n",
              "      <td>2.930000</td>\n",
              "      <td>1.000000</td>\n",
              "      <td>42.364700</td>\n",
              "      <td>-71.054200</td>\n",
              "      <td>43.580000</td>\n",
              "      <td>...</td>\n",
              "      <td>0.091600</td>\n",
              "      <td>1.544807e+09</td>\n",
              "      <td>38.880000</td>\n",
              "      <td>1.544789e+09</td>\n",
              "      <td>46.910000</td>\n",
              "      <td>1.544814e+09</td>\n",
              "      <td>35.710000</td>\n",
              "      <td>1.544789e+09</td>\n",
              "      <td>44.120000</td>\n",
              "      <td>1.544818e+09</td>\n",
              "    </tr>\n",
              "    <tr>\n",
              "      <th>max</th>\n",
              "      <td>1.545161e+09</td>\n",
              "      <td>23.000000</td>\n",
              "      <td>30.000000</td>\n",
              "      <td>12.000000</td>\n",
              "      <td>97.500000</td>\n",
              "      <td>7.860000</td>\n",
              "      <td>3.000000</td>\n",
              "      <td>42.366100</td>\n",
              "      <td>-71.033000</td>\n",
              "      <td>57.220000</td>\n",
              "      <td>...</td>\n",
              "      <td>0.145900</td>\n",
              "      <td>1.545152e+09</td>\n",
              "      <td>43.100000</td>\n",
              "      <td>1.545192e+09</td>\n",
              "      <td>57.870000</td>\n",
              "      <td>1.545109e+09</td>\n",
              "      <td>40.050000</td>\n",
              "      <td>1.545134e+09</td>\n",
              "      <td>57.200000</td>\n",
              "      <td>1.545109e+09</td>\n",
              "    </tr>\n",
              "  </tbody>\n",
              "</table>\n",
              "<p>8 rows × 46 columns</p>\n",
              "</div>\n",
              "    <div class=\"colab-df-buttons\">\n",
              "\n",
              "  <div class=\"colab-df-container\">\n",
              "    <button class=\"colab-df-convert\" onclick=\"convertToInteractive('df-884a8699-4ee1-40a3-a13e-3e308ad6b25e')\"\n",
              "            title=\"Convert this dataframe to an interactive table.\"\n",
              "            style=\"display:none;\">\n",
              "\n",
              "  <svg xmlns=\"http://www.w3.org/2000/svg\" height=\"24px\" viewBox=\"0 -960 960 960\">\n",
              "    <path d=\"M120-120v-720h720v720H120Zm60-500h600v-160H180v160Zm220 220h160v-160H400v160Zm0 220h160v-160H400v160ZM180-400h160v-160H180v160Zm440 0h160v-160H620v160ZM180-180h160v-160H180v160Zm440 0h160v-160H620v160Z\"/>\n",
              "  </svg>\n",
              "    </button>\n",
              "\n",
              "  <style>\n",
              "    .colab-df-container {\n",
              "      display:flex;\n",
              "      gap: 12px;\n",
              "    }\n",
              "\n",
              "    .colab-df-convert {\n",
              "      background-color: #E8F0FE;\n",
              "      border: none;\n",
              "      border-radius: 50%;\n",
              "      cursor: pointer;\n",
              "      display: none;\n",
              "      fill: #1967D2;\n",
              "      height: 32px;\n",
              "      padding: 0 0 0 0;\n",
              "      width: 32px;\n",
              "    }\n",
              "\n",
              "    .colab-df-convert:hover {\n",
              "      background-color: #E2EBFA;\n",
              "      box-shadow: 0px 1px 2px rgba(60, 64, 67, 0.3), 0px 1px 3px 1px rgba(60, 64, 67, 0.15);\n",
              "      fill: #174EA6;\n",
              "    }\n",
              "\n",
              "    .colab-df-buttons div {\n",
              "      margin-bottom: 4px;\n",
              "    }\n",
              "\n",
              "    [theme=dark] .colab-df-convert {\n",
              "      background-color: #3B4455;\n",
              "      fill: #D2E3FC;\n",
              "    }\n",
              "\n",
              "    [theme=dark] .colab-df-convert:hover {\n",
              "      background-color: #434B5C;\n",
              "      box-shadow: 0px 1px 3px 1px rgba(0, 0, 0, 0.15);\n",
              "      filter: drop-shadow(0px 1px 2px rgba(0, 0, 0, 0.3));\n",
              "      fill: #FFFFFF;\n",
              "    }\n",
              "  </style>\n",
              "\n",
              "    <script>\n",
              "      const buttonEl =\n",
              "        document.querySelector('#df-884a8699-4ee1-40a3-a13e-3e308ad6b25e button.colab-df-convert');\n",
              "      buttonEl.style.display =\n",
              "        google.colab.kernel.accessAllowed ? 'block' : 'none';\n",
              "\n",
              "      async function convertToInteractive(key) {\n",
              "        const element = document.querySelector('#df-884a8699-4ee1-40a3-a13e-3e308ad6b25e');\n",
              "        const dataTable =\n",
              "          await google.colab.kernel.invokeFunction('convertToInteractive',\n",
              "                                                    [key], {});\n",
              "        if (!dataTable) return;\n",
              "\n",
              "        const docLinkHtml = 'Like what you see? Visit the ' +\n",
              "          '<a target=\"_blank\" href=https://colab.research.google.com/notebooks/data_table.ipynb>data table notebook</a>'\n",
              "          + ' to learn more about interactive tables.';\n",
              "        element.innerHTML = '';\n",
              "        dataTable['output_type'] = 'display_data';\n",
              "        await google.colab.output.renderOutput(dataTable, element);\n",
              "        const docLink = document.createElement('div');\n",
              "        docLink.innerHTML = docLinkHtml;\n",
              "        element.appendChild(docLink);\n",
              "      }\n",
              "    </script>\n",
              "  </div>\n",
              "\n",
              "\n",
              "<div id=\"df-b7c39bed-a8a0-44c9-a981-9a9e0acf8582\">\n",
              "  <button class=\"colab-df-quickchart\" onclick=\"quickchart('df-b7c39bed-a8a0-44c9-a981-9a9e0acf8582')\"\n",
              "            title=\"Suggest charts\"\n",
              "            style=\"display:none;\">\n",
              "\n",
              "<svg xmlns=\"http://www.w3.org/2000/svg\" height=\"24px\"viewBox=\"0 0 24 24\"\n",
              "     width=\"24px\">\n",
              "    <g>\n",
              "        <path d=\"M19 3H5c-1.1 0-2 .9-2 2v14c0 1.1.9 2 2 2h14c1.1 0 2-.9 2-2V5c0-1.1-.9-2-2-2zM9 17H7v-7h2v7zm4 0h-2V7h2v10zm4 0h-2v-4h2v4z\"/>\n",
              "    </g>\n",
              "</svg>\n",
              "  </button>\n",
              "\n",
              "<style>\n",
              "  .colab-df-quickchart {\n",
              "      --bg-color: #E8F0FE;\n",
              "      --fill-color: #1967D2;\n",
              "      --hover-bg-color: #E2EBFA;\n",
              "      --hover-fill-color: #174EA6;\n",
              "      --disabled-fill-color: #AAA;\n",
              "      --disabled-bg-color: #DDD;\n",
              "  }\n",
              "\n",
              "  [theme=dark] .colab-df-quickchart {\n",
              "      --bg-color: #3B4455;\n",
              "      --fill-color: #D2E3FC;\n",
              "      --hover-bg-color: #434B5C;\n",
              "      --hover-fill-color: #FFFFFF;\n",
              "      --disabled-bg-color: #3B4455;\n",
              "      --disabled-fill-color: #666;\n",
              "  }\n",
              "\n",
              "  .colab-df-quickchart {\n",
              "    background-color: var(--bg-color);\n",
              "    border: none;\n",
              "    border-radius: 50%;\n",
              "    cursor: pointer;\n",
              "    display: none;\n",
              "    fill: var(--fill-color);\n",
              "    height: 32px;\n",
              "    padding: 0;\n",
              "    width: 32px;\n",
              "  }\n",
              "\n",
              "  .colab-df-quickchart:hover {\n",
              "    background-color: var(--hover-bg-color);\n",
              "    box-shadow: 0 1px 2px rgba(60, 64, 67, 0.3), 0 1px 3px 1px rgba(60, 64, 67, 0.15);\n",
              "    fill: var(--button-hover-fill-color);\n",
              "  }\n",
              "\n",
              "  .colab-df-quickchart-complete:disabled,\n",
              "  .colab-df-quickchart-complete:disabled:hover {\n",
              "    background-color: var(--disabled-bg-color);\n",
              "    fill: var(--disabled-fill-color);\n",
              "    box-shadow: none;\n",
              "  }\n",
              "\n",
              "  .colab-df-spinner {\n",
              "    border: 2px solid var(--fill-color);\n",
              "    border-color: transparent;\n",
              "    border-bottom-color: var(--fill-color);\n",
              "    animation:\n",
              "      spin 1s steps(1) infinite;\n",
              "  }\n",
              "\n",
              "  @keyframes spin {\n",
              "    0% {\n",
              "      border-color: transparent;\n",
              "      border-bottom-color: var(--fill-color);\n",
              "      border-left-color: var(--fill-color);\n",
              "    }\n",
              "    20% {\n",
              "      border-color: transparent;\n",
              "      border-left-color: var(--fill-color);\n",
              "      border-top-color: var(--fill-color);\n",
              "    }\n",
              "    30% {\n",
              "      border-color: transparent;\n",
              "      border-left-color: var(--fill-color);\n",
              "      border-top-color: var(--fill-color);\n",
              "      border-right-color: var(--fill-color);\n",
              "    }\n",
              "    40% {\n",
              "      border-color: transparent;\n",
              "      border-right-color: var(--fill-color);\n",
              "      border-top-color: var(--fill-color);\n",
              "    }\n",
              "    60% {\n",
              "      border-color: transparent;\n",
              "      border-right-color: var(--fill-color);\n",
              "    }\n",
              "    80% {\n",
              "      border-color: transparent;\n",
              "      border-right-color: var(--fill-color);\n",
              "      border-bottom-color: var(--fill-color);\n",
              "    }\n",
              "    90% {\n",
              "      border-color: transparent;\n",
              "      border-bottom-color: var(--fill-color);\n",
              "    }\n",
              "  }\n",
              "</style>\n",
              "\n",
              "  <script>\n",
              "    async function quickchart(key) {\n",
              "      const quickchartButtonEl =\n",
              "        document.querySelector('#' + key + ' button');\n",
              "      quickchartButtonEl.disabled = true;  // To prevent multiple clicks.\n",
              "      quickchartButtonEl.classList.add('colab-df-spinner');\n",
              "      try {\n",
              "        const charts = await google.colab.kernel.invokeFunction(\n",
              "            'suggestCharts', [key], {});\n",
              "      } catch (error) {\n",
              "        console.error('Error during call to suggestCharts:', error);\n",
              "      }\n",
              "      quickchartButtonEl.classList.remove('colab-df-spinner');\n",
              "      quickchartButtonEl.classList.add('colab-df-quickchart-complete');\n",
              "    }\n",
              "    (() => {\n",
              "      let quickchartButtonEl =\n",
              "        document.querySelector('#df-b7c39bed-a8a0-44c9-a981-9a9e0acf8582 button');\n",
              "      quickchartButtonEl.style.display =\n",
              "        google.colab.kernel.accessAllowed ? 'block' : 'none';\n",
              "    })();\n",
              "  </script>\n",
              "</div>\n",
              "    </div>\n",
              "  </div>\n"
            ],
            "text/plain": [
              "          timestamp           hour            day          month  \\\n",
              "count  6.379760e+05  637976.000000  637976.000000  637976.000000   \n",
              "mean   1.544046e+09      11.618528      17.797674      11.586550   \n",
              "std    6.892028e+05       6.948776       9.982083       0.492452   \n",
              "min    1.543204e+09       0.000000       1.000000      11.000000   \n",
              "25%    1.543444e+09       6.000000      13.000000      11.000000   \n",
              "50%    1.543737e+09      12.000000      17.000000      12.000000   \n",
              "75%    1.544828e+09      18.000000      28.000000      12.000000   \n",
              "max    1.545161e+09      23.000000      30.000000      12.000000   \n",
              "\n",
              "               price       distance  surge_multiplier       latitude  \\\n",
              "count  637976.000000  637976.000000     637976.000000  637976.000000   \n",
              "mean       16.545125       2.189261          1.015068      42.338161   \n",
              "std         9.324359       1.135413          0.095422       0.047856   \n",
              "min         2.500000       0.020000          1.000000      42.214800   \n",
              "25%         9.000000       1.270000          1.000000      42.350300   \n",
              "50%        13.500000       2.160000          1.000000      42.351900   \n",
              "75%        22.500000       2.930000          1.000000      42.364700   \n",
              "max        97.500000       7.860000          3.000000      42.366100   \n",
              "\n",
              "           longitude    temperature  ...  precipIntensityMax   uvIndexTime  \\\n",
              "count  637976.000000  637976.000000  ...       637976.000000  6.379760e+05   \n",
              "mean      -71.066144      39.582406  ...            0.037369  1.544044e+09   \n",
              "std         0.020303       6.725500  ...            0.055216  6.912268e+05   \n",
              "min       -71.105400      18.910000  ...            0.000000  1.543162e+09   \n",
              "25%       -71.081000      36.450000  ...            0.000000  1.543421e+09   \n",
              "50%       -71.063100      40.490000  ...            0.000400  1.543770e+09   \n",
              "75%       -71.054200      43.580000  ...            0.091600  1.544807e+09   \n",
              "max       -71.033000      57.220000  ...            0.145900  1.545152e+09   \n",
              "\n",
              "       temperatureMin  temperatureMinTime  temperatureMax  temperatureMaxTime  \\\n",
              "count   637976.000000        6.379760e+05   637976.000000        6.379760e+05   \n",
              "mean        33.456171        1.544042e+09       45.259945        1.544047e+09   \n",
              "std          6.466349        6.902087e+05        5.644414        6.901597e+05   \n",
              "min         15.630000        1.543122e+09       33.510000        1.543154e+09   \n",
              "25%         30.170000        1.543399e+09       42.570000        1.543439e+09   \n",
              "50%         34.240000        1.543727e+09       44.660000        1.543788e+09   \n",
              "75%         38.880000        1.544789e+09       46.910000        1.544814e+09   \n",
              "max         43.100000        1.545192e+09       57.870000        1.545109e+09   \n",
              "\n",
              "       apparentTemperatureMin  apparentTemperatureMinTime  \\\n",
              "count           637976.000000                6.379760e+05   \n",
              "mean                29.729028                1.544048e+09   \n",
              "std                  7.109907                6.872011e+05   \n",
              "min                 11.810000                1.543136e+09   \n",
              "25%                 27.760000                1.543399e+09   \n",
              "50%                 30.130000                1.543745e+09   \n",
              "75%                 35.710000                1.544789e+09   \n",
              "max                 40.050000                1.545134e+09   \n",
              "\n",
              "       apparentTemperatureMax  apparentTemperatureMaxTime  \n",
              "count           637976.000000                6.379760e+05  \n",
              "mean                41.995876                1.544048e+09  \n",
              "std                  6.935538                6.911036e+05  \n",
              "min                 28.950000                1.543187e+09  \n",
              "25%                 36.570000                1.543439e+09  \n",
              "50%                 40.950000                1.543788e+09  \n",
              "75%                 44.120000                1.544818e+09  \n",
              "max                 57.200000                1.545109e+09  \n",
              "\n",
              "[8 rows x 46 columns]"
            ]
          },
          "execution_count": 28,
          "metadata": {},
          "output_type": "execute_result"
        }
      ],
      "source": [
        "df.describe()"
      ]
    },
    {
      "cell_type": "markdown",
      "metadata": {
        "id": "xxMyagvDDiI9"
      },
      "source": [
        "Dari hasil ringakasan data diatas, dapat diketahui:\n",
        "- Setiap kolom pada data bisa dikatakan berasal dari distribusi normal karena nilai mean dan median nya berada dalam nilai yang sama. hanya kolom price yang memiliki nilai mean dan median dalam rentang yang berbeda dan diindikasikan bahwa kolom price berdistribusi postif skew. namum asumsi diatas perlu dibuktikan dengan melihat nilai skewness\n",
        "- Dari hasil analisis diatas pula nampak bahwa kisaran data setiap kolom berbeda beda, hal ini menjadi kendala dimana bisa menimbulkan bias atau kurang akuratnya hasil prediksi data, sehingga pada tahapan feature enginering perlu dilakukan scalling\n"
      ]
    },
    {
      "cell_type": "markdown",
      "metadata": {
        "id": "FAYY5DHPgpdt"
      },
      "source": [
        "Dari fakta bahwa kolom target diasumsikan memiliki distribusi yang tidak normal, maka akan dilihat bagaimana sebaran datanya melalui barplot"
      ]
    },
    {
      "cell_type": "code",
      "execution_count": 29,
      "metadata": {
        "colab": {
          "base_uri": "https://localhost:8080/",
          "height": 798
        },
        "id": "rdTY47lriDV-",
        "outputId": "c64a0837-69bf-4849-b2d9-714befec09f1"
      },
      "outputs": [
        {
          "name": "stderr",
          "output_type": "stream",
          "text": [
            "<ipython-input-29-63b24c9ac5e4>:4: UserWarning: \n",
            "\n",
            "`distplot` is a deprecated function and will be removed in seaborn v0.14.0.\n",
            "\n",
            "Please adapt your code to use either `displot` (a figure-level function with\n",
            "similar flexibility) or `histplot` (an axes-level function for histograms).\n",
            "\n",
            "For a guide to updating your code to use the new functions, please see\n",
            "https://gist.github.com/mwaskom/de44147ed2974457ad6372750bbe5751\n",
            "\n",
            "  sns.distplot(df['price'], ax=axes)\n"
          ]
        },
        {
          "data": {
            "image/png": "[encoded data removed]",
            "text/plain": [
              "<Figure size 800x600 with 1 Axes>"
            ]
          },
          "metadata": {},
          "output_type": "display_data"
        }
      ],
      "source": [
        "fig, axes = plt.subplots(figsize=(8, 6)) #Membuat plot awal\n",
        "\n",
        "# Plot distribusi dari kolom \"price\"\n",
        "sns.distplot(df['price'], ax=axes)\n",
        "\n",
        "axes.set_title('Distribusi dari Price', fontsize=15, loc='center')\n",
        "axes.set_xlabel('Price', fontsize=13)\n",
        "plt.tick_params(axis='x', which='major', labelsize=12)\n",
        "axes.yaxis.tick_left()  # where the y axis marks will be\n",
        "\n",
        "# Tambahkan teks untuk skewness dan kurtosis\n",
        "axes.text(x=0.97, y=0.97, transform=axes.transAxes,\n",
        "            s=\"Skewness: %f\" % df['price'].skew(), fontweight='demibold', fontsize=10,\n",
        "            verticalalignment='top', horizontalalignment='right', backgroundcolor='white', color='xkcd:poo brown')\n",
        "\n",
        "plt.tight_layout()\n",
        "plt.show()"
      ]
    },
    {
      "cell_type": "markdown",
      "metadata": {
        "id": "YxhH5pvGHJEd"
      },
      "source": [
        "Dari plot diatas, diketahui bahwa:\n",
        "- Distribusi harga miring ke kanan (positif). Hal ini menunjukkan bahwa terdapat lebih banyak data harga di bawah rata-rata dibandingkan di atas rata-rata.\n",
        "- 1.045747. Ini menunjukkan bahwa distribusi harga cukup miring ke kanan.\n",
        "- Sebaran data cukup lebar, dengan beberapa outlier di bagian atas.\n",
        "\n",
        "Hal ini bisa menunjukan bahwa rata-rata biaya berada pada rentang 0-20$ dan terdapat beberapa outlier yang diasumsikan berasal dari beberapa pengguna yang melakukan perjalan cukup jauh."
      ]
    },
    {
      "cell_type": "markdown",
      "metadata": {
        "id": "Vy6u3NktfvUT"
      },
      "source": [
        "### Untuk membuktikan asumsi biaya yang tinggi hasul dari beberapa pengguna yang melakukan perjalan yang jauh, maka akan dilihat melalu scatter plot"
      ]
    },
    {
      "cell_type": "code",
      "execution_count": 150,
      "metadata": {
        "colab": {
          "base_uri": "https://localhost:8080/",
          "height": 523
        },
        "id": "wt8CTNL7K2lc",
        "outputId": "b9c22460-c6e7-4700-c83e-f900c48c07bf"
      },
      "outputs": [
        {
          "data": {
            "text/plain": [
              "<seaborn.axisgrid.FacetGrid at 0x7e7fe4a85360>"
            ]
          },
          "execution_count": 150,
          "metadata": {},
          "output_type": "execute_result"
        },
        {
          "data": {
            "image/png": "[encoded data removed]",
            "text/plain": [
              "<Figure size 500x500 with 1 Axes>"
            ]
          },
          "metadata": {},
          "output_type": "display_data"
        }
      ],
      "source": [
        "sns.lmplot(df, x='price', y='distance')#membuat scatter plot dengan garis korelasi"
      ]
    },
    {
      "cell_type": "markdown",
      "metadata": {
        "id": "M7qF86ktPWCk"
      },
      "source": [
        "Dari plot diatas dapat diketahui bahwa ada korelasi positif antara harga dan jarak. Ini berarti bahwa seiring dengan bertambahnya jarak, harga juga cenderung meningkat. Ini sesuai dengan dugaan bahwa perjalanan taksi yang lebih jauh akan lebih mahal daripada perjalanan yang lebih pendek. Dari plot juga bisa dikatakan bahwa korelasi antara jarak dan harga juga tidak terlalu tinggi, hal ini dilihat dari titik plot yang berada jauh dari gari korelasinya."
      ]
    },
    {
      "cell_type": "markdown",
      "metadata": {
        "id": "fIsHUrndgRSp"
      },
      "source": [
        "### Selanjutnya kita akan melihat ringkasan dari kolom fitur kategori"
      ]
    },
    {
      "cell_type": "code",
      "execution_count": 31,
      "metadata": {
        "colab": {
          "base_uri": "https://localhost:8080/",
          "height": 192
        },
        "id": "47fckYvtCi0d",
        "outputId": "66cbdbc6-53be-4d80-873e-ac0a130eda4a"
      },
      "outputs": [
        {
          "data": {
            "application/vnd.google.colaboratory.intrinsic+json": {
              "summary": "{\n  \"name\": \"df\",\n  \"rows\": 4,\n  \"fields\": [\n    {\n      \"column\": \"id\",\n      \"properties\": {\n        \"dtype\": \"string\",\n        \"num_unique_values\": 3,\n        \"samples\": [\n          \"637976\",\n          \"424553bb-7174-41ea-aeb4-fe06d4f4b9d7\",\n          \"1\"\n        ],\n        \"semantic_type\": \"\",\n        \"description\": \"\"\n      }\n    },\n    {\n      \"column\": \"datetime\",\n      \"properties\": {\n        \"dtype\": \"date\",\n        \"min\": \"1970-01-01 00:00:00.000000151\",\n        \"max\": \"2018-11-26 23:33:14\",\n        \"num_unique_values\": 4,\n        \"samples\": [\n          31350,\n          \"151\",\n          \"637976\"\n        ],\n        \"semantic_type\": \"\",\n        \"description\": \"\"\n      }\n    },\n    {\n      \"column\": \"timezone\",\n      \"properties\": {\n        \"dtype\": \"string\",\n        \"num_unique_values\": 3,\n        \"samples\": [\n          \"637976\",\n          1,\n          \"America/New_York\"\n        ],\n        \"semantic_type\": \"\",\n        \"description\": \"\"\n      }\n    },\n    {\n      \"column\": \"source\",\n      \"properties\": {\n        \"dtype\": \"string\",\n        \"num_unique_values\": 4,\n        \"samples\": [\n          12,\n          \"54197\",\n          \"637976\"\n        ],\n        \"semantic_type\": \"\",\n        \"description\": \"\"\n      }\n    },\n    {\n      \"column\": \"destination\",\n      \"properties\": {\n        \"dtype\": \"string\",\n        \"num_unique_values\": 4,\n        \"samples\": [\n          12,\n          \"54192\",\n          \"637976\"\n        ],\n        \"semantic_type\": \"\",\n        \"description\": \"\"\n      }\n    },\n    {\n      \"column\": \"cab_type\",\n      \"properties\": {\n        \"dtype\": \"string\",\n        \"num_unique_values\": 4,\n        \"samples\": [\n          2,\n          \"330568\",\n          \"637976\"\n        ],\n        \"semantic_type\": \"\",\n        \"description\": \"\"\n      }\n    },\n    {\n      \"column\": \"product_id\",\n      \"properties\": {\n        \"dtype\": \"string\",\n        \"num_unique_values\": 4,\n        \"samples\": [\n          12,\n          \"55096\",\n          \"637976\"\n        ],\n        \"semantic_type\": \"\",\n        \"description\": \"\"\n      }\n    },\n    {\n      \"column\": \"name\",\n      \"properties\": {\n        \"dtype\": \"string\",\n        \"num_unique_values\": 4,\n        \"samples\": [\n          12,\n          \"55096\",\n          \"637976\"\n        ],\n        \"semantic_type\": \"\",\n        \"description\": \"\"\n      }\n    },\n    {\n      \"column\": \"short_summary\",\n      \"properties\": {\n        \"dtype\": \"string\",\n        \"num_unique_values\": 4,\n        \"samples\": [\n          9,\n          \"201429\",\n          \"637976\"\n        ],\n        \"semantic_type\": \"\",\n        \"description\": \"\"\n      }\n    },\n    {\n      \"column\": \"long_summary\",\n      \"properties\": {\n        \"dtype\": \"string\",\n        \"num_unique_values\": 4,\n        \"samples\": [\n          11,\n          \"186262\",\n          \"637976\"\n        ],\n        \"semantic_type\": \"\",\n        \"description\": \"\"\n      }\n    },\n    {\n      \"column\": \"icon\",\n      \"properties\": {\n        \"dtype\": \"string\",\n        \"num_unique_values\": 4,\n        \"samples\": [\n          7,\n          \"201429\",\n          \"637976\"\n        ],\n        \"semantic_type\": \"\",\n        \"description\": \"\"\n      }\n    }\n  ]\n}",
              "type": "dataframe"
            },
            "text/html": [
              "\n",
              "  <div id=\"df-f5467579-2d3f-4f4b-9d1a-6a07e7537a87\" class=\"colab-df-container\">\n",
              "    <div>\n",
              "<style scoped>\n",
              "    .dataframe tbody tr th:only-of-type {\n",
              "        vertical-align: middle;\n",
              "    }\n",
              "\n",
              "    .dataframe tbody tr th {\n",
              "        vertical-align: top;\n",
              "    }\n",
              "\n",
              "    .dataframe thead th {\n",
              "        text-align: right;\n",
              "    }\n",
              "</style>\n",
              "<table border=\"1\" class=\"dataframe\">\n",
              "  <thead>\n",
              "    <tr style=\"text-align: right;\">\n",
              "      <th></th>\n",
              "      <th>id</th>\n",
              "      <th>datetime</th>\n",
              "      <th>timezone</th>\n",
              "      <th>source</th>\n",
              "      <th>destination</th>\n",
              "      <th>cab_type</th>\n",
              "      <th>product_id</th>\n",
              "      <th>name</th>\n",
              "      <th>short_summary</th>\n",
              "      <th>long_summary</th>\n",
              "      <th>icon</th>\n",
              "    </tr>\n",
              "  </thead>\n",
              "  <tbody>\n",
              "    <tr>\n",
              "      <th>count</th>\n",
              "      <td>637976</td>\n",
              "      <td>637976</td>\n",
              "      <td>637976</td>\n",
              "      <td>637976</td>\n",
              "      <td>637976</td>\n",
              "      <td>637976</td>\n",
              "      <td>637976</td>\n",
              "      <td>637976</td>\n",
              "      <td>637976</td>\n",
              "      <td>637976</td>\n",
              "      <td>637976</td>\n",
              "    </tr>\n",
              "    <tr>\n",
              "      <th>unique</th>\n",
              "      <td>637976</td>\n",
              "      <td>31350</td>\n",
              "      <td>1</td>\n",
              "      <td>12</td>\n",
              "      <td>12</td>\n",
              "      <td>2</td>\n",
              "      <td>12</td>\n",
              "      <td>12</td>\n",
              "      <td>9</td>\n",
              "      <td>11</td>\n",
              "      <td>7</td>\n",
              "    </tr>\n",
              "    <tr>\n",
              "      <th>top</th>\n",
              "      <td>424553bb-7174-41ea-aeb4-fe06d4f4b9d7</td>\n",
              "      <td>2018-11-26 23:33:14</td>\n",
              "      <td>America/New_York</td>\n",
              "      <td>Financial District</td>\n",
              "      <td>Financial District</td>\n",
              "      <td>Uber</td>\n",
              "      <td>6f72dfc5-27f1-42e8-84db-ccc7a75f6969</td>\n",
              "      <td>UberXL</td>\n",
              "      <td>Overcast</td>\n",
              "      <td>Mostly cloudy throughout the day.</td>\n",
              "      <td>cloudy</td>\n",
              "    </tr>\n",
              "    <tr>\n",
              "      <th>freq</th>\n",
              "      <td>1</td>\n",
              "      <td>151</td>\n",
              "      <td>637976</td>\n",
              "      <td>54197</td>\n",
              "      <td>54192</td>\n",
              "      <td>330568</td>\n",
              "      <td>55096</td>\n",
              "      <td>55096</td>\n",
              "      <td>201429</td>\n",
              "      <td>186262</td>\n",
              "      <td>201429</td>\n",
              "    </tr>\n",
              "  </tbody>\n",
              "</table>\n",
              "</div>\n",
              "    <div class=\"colab-df-buttons\">\n",
              "\n",
              "  <div class=\"colab-df-container\">\n",
              "    <button class=\"colab-df-convert\" onclick=\"convertToInteractive('df-f5467579-2d3f-4f4b-9d1a-6a07e7537a87')\"\n",
              "            title=\"Convert this dataframe to an interactive table.\"\n",
              "            style=\"display:none;\">\n",
              "\n",
              "  <svg xmlns=\"http://www.w3.org/2000/svg\" height=\"24px\" viewBox=\"0 -960 960 960\">\n",
              "    <path d=\"M120-120v-720h720v720H120Zm60-500h600v-160H180v160Zm220 220h160v-160H400v160Zm0 220h160v-160H400v160ZM180-400h160v-160H180v160Zm440 0h160v-160H620v160ZM180-180h160v-160H180v160Zm440 0h160v-160H620v160Z\"/>\n",
              "  </svg>\n",
              "    </button>\n",
              "\n",
              "  <style>\n",
              "    .colab-df-container {\n",
              "      display:flex;\n",
              "      gap: 12px;\n",
              "    }\n",
              "\n",
              "    .colab-df-convert {\n",
              "      background-color: #E8F0FE;\n",
              "      border: none;\n",
              "      border-radius: 50%;\n",
              "      cursor: pointer;\n",
              "      display: none;\n",
              "      fill: #1967D2;\n",
              "      height: 32px;\n",
              "      padding: 0 0 0 0;\n",
              "      width: 32px;\n",
              "    }\n",
              "\n",
              "    .colab-df-convert:hover {\n",
              "      background-color: #E2EBFA;\n",
              "      box-shadow: 0px 1px 2px rgba(60, 64, 67, 0.3), 0px 1px 3px 1px rgba(60, 64, 67, 0.15);\n",
              "      fill: #174EA6;\n",
              "    }\n",
              "\n",
              "    .colab-df-buttons div {\n",
              "      margin-bottom: 4px;\n",
              "    }\n",
              "\n",
              "    [theme=dark] .colab-df-convert {\n",
              "      background-color: #3B4455;\n",
              "      fill: #D2E3FC;\n",
              "    }\n",
              "\n",
              "    [theme=dark] .colab-df-convert:hover {\n",
              "      background-color: #434B5C;\n",
              "      box-shadow: 0px 1px 3px 1px rgba(0, 0, 0, 0.15);\n",
              "      filter: drop-shadow(0px 1px 2px rgba(0, 0, 0, 0.3));\n",
              "      fill: #FFFFFF;\n",
              "    }\n",
              "  </style>\n",
              "\n",
              "    <script>\n",
              "      const buttonEl =\n",
              "        document.querySelector('#df-f5467579-2d3f-4f4b-9d1a-6a07e7537a87 button.colab-df-convert');\n",
              "      buttonEl.style.display =\n",
              "        google.colab.kernel.accessAllowed ? 'block' : 'none';\n",
              "\n",
              "      async function convertToInteractive(key) {\n",
              "        const element = document.querySelector('#df-f5467579-2d3f-4f4b-9d1a-6a07e7537a87');\n",
              "        const dataTable =\n",
              "          await google.colab.kernel.invokeFunction('convertToInteractive',\n",
              "                                                    [key], {});\n",
              "        if (!dataTable) return;\n",
              "\n",
              "        const docLinkHtml = 'Like what you see? Visit the ' +\n",
              "          '<a target=\"_blank\" href=https://colab.research.google.com/notebooks/data_table.ipynb>data table notebook</a>'\n",
              "          + ' to learn more about interactive tables.';\n",
              "        element.innerHTML = '';\n",
              "        dataTable['output_type'] = 'display_data';\n",
              "        await google.colab.output.renderOutput(dataTable, element);\n",
              "        const docLink = document.createElement('div');\n",
              "        docLink.innerHTML = docLinkHtml;\n",
              "        element.appendChild(docLink);\n",
              "      }\n",
              "    </script>\n",
              "  </div>\n",
              "\n",
              "\n",
              "<div id=\"df-b0f236d8-3bb9-478e-bab4-d9f17713ed98\">\n",
              "  <button class=\"colab-df-quickchart\" onclick=\"quickchart('df-b0f236d8-3bb9-478e-bab4-d9f17713ed98')\"\n",
              "            title=\"Suggest charts\"\n",
              "            style=\"display:none;\">\n",
              "\n",
              "<svg xmlns=\"http://www.w3.org/2000/svg\" height=\"24px\"viewBox=\"0 0 24 24\"\n",
              "     width=\"24px\">\n",
              "    <g>\n",
              "        <path d=\"M19 3H5c-1.1 0-2 .9-2 2v14c0 1.1.9 2 2 2h14c1.1 0 2-.9 2-2V5c0-1.1-.9-2-2-2zM9 17H7v-7h2v7zm4 0h-2V7h2v10zm4 0h-2v-4h2v4z\"/>\n",
              "    </g>\n",
              "</svg>\n",
              "  </button>\n",
              "\n",
              "<style>\n",
              "  .colab-df-quickchart {\n",
              "      --bg-color: #E8F0FE;\n",
              "      --fill-color: #1967D2;\n",
              "      --hover-bg-color: #E2EBFA;\n",
              "      --hover-fill-color: #174EA6;\n",
              "      --disabled-fill-color: #AAA;\n",
              "      --disabled-bg-color: #DDD;\n",
              "  }\n",
              "\n",
              "  [theme=dark] .colab-df-quickchart {\n",
              "      --bg-color: #3B4455;\n",
              "      --fill-color: #D2E3FC;\n",
              "      --hover-bg-color: #434B5C;\n",
              "      --hover-fill-color: #FFFFFF;\n",
              "      --disabled-bg-color: #3B4455;\n",
              "      --disabled-fill-color: #666;\n",
              "  }\n",
              "\n",
              "  .colab-df-quickchart {\n",
              "    background-color: var(--bg-color);\n",
              "    border: none;\n",
              "    border-radius: 50%;\n",
              "    cursor: pointer;\n",
              "    display: none;\n",
              "    fill: var(--fill-color);\n",
              "    height: 32px;\n",
              "    padding: 0;\n",
              "    width: 32px;\n",
              "  }\n",
              "\n",
              "  .colab-df-quickchart:hover {\n",
              "    background-color: var(--hover-bg-color);\n",
              "    box-shadow: 0 1px 2px rgba(60, 64, 67, 0.3), 0 1px 3px 1px rgba(60, 64, 67, 0.15);\n",
              "    fill: var(--button-hover-fill-color);\n",
              "  }\n",
              "\n",
              "  .colab-df-quickchart-complete:disabled,\n",
              "  .colab-df-quickchart-complete:disabled:hover {\n",
              "    background-color: var(--disabled-bg-color);\n",
              "    fill: var(--disabled-fill-color);\n",
              "    box-shadow: none;\n",
              "  }\n",
              "\n",
              "  .colab-df-spinner {\n",
              "    border: 2px solid var(--fill-color);\n",
              "    border-color: transparent;\n",
              "    border-bottom-color: var(--fill-color);\n",
              "    animation:\n",
              "      spin 1s steps(1) infinite;\n",
              "  }\n",
              "\n",
              "  @keyframes spin {\n",
              "    0% {\n",
              "      border-color: transparent;\n",
              "      border-bottom-color: var(--fill-color);\n",
              "      border-left-color: var(--fill-color);\n",
              "    }\n",
              "    20% {\n",
              "      border-color: transparent;\n",
              "      border-left-color: var(--fill-color);\n",
              "      border-top-color: var(--fill-color);\n",
              "    }\n",
              "    30% {\n",
              "      border-color: transparent;\n",
              "      border-left-color: var(--fill-color);\n",
              "      border-top-color: var(--fill-color);\n",
              "      border-right-color: var(--fill-color);\n",
              "    }\n",
              "    40% {\n",
              "      border-color: transparent;\n",
              "      border-right-color: var(--fill-color);\n",
              "      border-top-color: var(--fill-color);\n",
              "    }\n",
              "    60% {\n",
              "      border-color: transparent;\n",
              "      border-right-color: var(--fill-color);\n",
              "    }\n",
              "    80% {\n",
              "      border-color: transparent;\n",
              "      border-right-color: var(--fill-color);\n",
              "      border-bottom-color: var(--fill-color);\n",
              "    }\n",
              "    90% {\n",
              "      border-color: transparent;\n",
              "      border-bottom-color: var(--fill-color);\n",
              "    }\n",
              "  }\n",
              "</style>\n",
              "\n",
              "  <script>\n",
              "    async function quickchart(key) {\n",
              "      const quickchartButtonEl =\n",
              "        document.querySelector('#' + key + ' button');\n",
              "      quickchartButtonEl.disabled = true;  // To prevent multiple clicks.\n",
              "      quickchartButtonEl.classList.add('colab-df-spinner');\n",
              "      try {\n",
              "        const charts = await google.colab.kernel.invokeFunction(\n",
              "            'suggestCharts', [key], {});\n",
              "      } catch (error) {\n",
              "        console.error('Error during call to suggestCharts:', error);\n",
              "      }\n",
              "      quickchartButtonEl.classList.remove('colab-df-spinner');\n",
              "      quickchartButtonEl.classList.add('colab-df-quickchart-complete');\n",
              "    }\n",
              "    (() => {\n",
              "      let quickchartButtonEl =\n",
              "        document.querySelector('#df-b0f236d8-3bb9-478e-bab4-d9f17713ed98 button');\n",
              "      quickchartButtonEl.style.display =\n",
              "        google.colab.kernel.accessAllowed ? 'block' : 'none';\n",
              "    })();\n",
              "  </script>\n",
              "</div>\n",
              "    </div>\n",
              "  </div>\n"
            ],
            "text/plain": [
              "                                          id             datetime  \\\n",
              "count                                 637976               637976   \n",
              "unique                                637976                31350   \n",
              "top     424553bb-7174-41ea-aeb4-fe06d4f4b9d7  2018-11-26 23:33:14   \n",
              "freq                                       1                  151   \n",
              "\n",
              "                timezone              source         destination cab_type  \\\n",
              "count             637976              637976              637976   637976   \n",
              "unique                 1                  12                  12        2   \n",
              "top     America/New_York  Financial District  Financial District     Uber   \n",
              "freq              637976               54197               54192   330568   \n",
              "\n",
              "                                  product_id    name short_summary  \\\n",
              "count                                 637976  637976        637976   \n",
              "unique                                    12      12             9   \n",
              "top     6f72dfc5-27f1-42e8-84db-ccc7a75f6969  UberXL     Overcast    \n",
              "freq                                   55096   55096        201429   \n",
              "\n",
              "                               long_summary      icon  \n",
              "count                                637976    637976  \n",
              "unique                                   11         7  \n",
              "top      Mostly cloudy throughout the day.    cloudy   \n",
              "freq                                 186262    201429  "
            ]
          },
          "execution_count": 31,
          "metadata": {},
          "output_type": "execute_result"
        }
      ],
      "source": [
        "df.describe(include=\"object\")#melihat ringkasan data kategori"
      ]
    },
    {
      "cell_type": "markdown",
      "metadata": {
        "id": "vh99TnkJomoP"
      },
      "source": [
        "Dari hasil ringkasan diatas, diketahui bahwa:\n",
        "- kolom id merupakan primary key dari dataset ini\n",
        "- dataset ini diambil dari daerah dengan timezone America/New_York\n",
        "- setiap kolom memiliki skala pengukuran nominal\n",
        "- hanya ada 2 jenis taxi yang ada pada dataset ini yaitu uber dan lyft dengan uber merupakan taksi yang lebih banyak dipesan\n",
        "- Banyak taxi yang dipesan pada waktu cuaca berawan\n",
        "- Ada hal menarik yaitu pada datetime, ada 151 orang yang memesan taksi secara bersamaan pada waktu tersebut. dan juga hanya ada 31350 data yang berbeda dalam datetime.\n",
        "\n",
        "Dari hasil ringkasan, terdapat hal yang menarik yaitu:\n",
        "- seberapah jauh perbandingan antara pengguna taksi uber dan lyft?\n",
        "- Bagaimana perbandingan pengguna taksi online di tiap cuaca yang ada\n",
        "\n",
        "Untuk mengetahui hal-hal tersebut, kita dapat menggunakan pie chart"
      ]
    },
    {
      "cell_type": "code",
      "execution_count": 32,
      "metadata": {
        "colab": {
          "base_uri": "https://localhost:8080/",
          "height": 428
        },
        "id": "SjXm9lZMlef-",
        "outputId": "1994f994-4f22-44cd-ec32-6333a67e6249"
      },
      "outputs": [
        {
          "data": {
            "image/png": "[encoded data removed]",
            "text/plain": [
              "<Figure size 640x480 with 1 Axes>"
            ]
          },
          "metadata": {},
          "output_type": "display_data"
        }
      ],
      "source": [
        "# Create a circle at the center of the plot\n",
        "my_circle = plt.Circle((0, 0), 0.7, color='white')\n",
        "\n",
        "# Data\n",
        "sizes = df['cab_type'].value_counts()\n",
        "labels = df['cab_type'].unique().tolist()[::-1]\n",
        "\n",
        "# Menghitung nilai untuk parameter explode\n",
        "explode = [0.1 if size == sizes.max() else 0 for size in sizes]\n",
        "\n",
        "# Plot pie chart\n",
        "plt.pie(sizes, labels=labels, explode=explode, autopct='%1.1f%%', startangle=140)\n",
        "plt.axis('equal')  # Agar pie chart terlihat seperti lingkaran\n",
        "plt.title('Perbandingan Pengguna Uber dan Lyft')\n",
        "plt.show()\n"
      ]
    },
    {
      "cell_type": "markdown",
      "metadata": {
        "id": "tPOXIZfpzeHb"
      },
      "source": [
        "Dari plot tersebut, terlihat bahwa pengguna uber sedikit lebih banyak dibandingkan dengan pengguna Lyft. Perbedaannya adalah sekitar 3,6%"
      ]
    },
    {
      "cell_type": "code",
      "execution_count": 33,
      "metadata": {
        "colab": {
          "base_uri": "https://localhost:8080/",
          "height": 406
        },
        "id": "87ehhs0UrBpF",
        "outputId": "c18e6944-559a-4159-b881-68ad9280d2e0"
      },
      "outputs": [
        {
          "data": {
            "image/png": "[encoded data removed]",
            "text/plain": [
              "<Figure size 640x480 with 1 Axes>"
            ]
          },
          "metadata": {},
          "output_type": "display_data"
        }
      ],
      "source": [
        "# Data\n",
        "sizes = df['icon'].value_counts().values\n",
        "labels = df['icon'].value_counts().index\n",
        "\n",
        "# Plot\n",
        "squarify.plot(sizes=sizes, label=labels, alpha=0.8)\n",
        "plt.axis('off')\n",
        "plt.show()"
      ]
    },
    {
      "cell_type": "markdown",
      "metadata": {
        "id": "WnmdeuStzy2d"
      },
      "source": [
        "dari plot diatas, didapati bahwa:\n",
        "- Pengguna taksi online paling banyak pada cuaca berawan.\n",
        "- Pengguna taksi online paling sedikit pada cuaca berkabut.\n",
        "- Pengguna taksi online berkurang pada cuaca cerah dibandingkan dengan cuaca hujan.\n",
        "- Pengguna taksi online berkurang pada cuaca cerah berawan siang dibandingkan - dengan cuaca cerah berawan malam.\n",
        "\n",
        "Berdasarkan artikel https://www.ncbi.nlm.nih.gov/pmc/articles/PMC6191113/ , diketahui bahwa cuaca hujan dan berkabut mempengaruhi jarak pandang yang merupakan salah satu penyebab kecelakan lalu lintas. Hal ini diasumsikan mengapa pengguna taksi online berkurang di cuaca hujan apa lagi berkabut"
      ]
    },
    {
      "cell_type": "markdown",
      "metadata": {
        "id": "SC6UeiXS4MOW"
      },
      "source": [
        "### Selanjutnya kita akan melihat distribusi dari setiap kolom numerik pada data"
      ]
    },
    {
      "cell_type": "code",
      "execution_count": 34,
      "metadata": {
        "colab": {
          "base_uri": "https://localhost:8080/"
        },
        "id": "TFIVyLK0HxSq",
        "outputId": "daf712c1-d16c-4559-87a7-932060f1f269"
      },
      "outputs": [
        {
          "name": "stdout",
          "output_type": "stream",
          "text": [
            "kolom yang mempunyai nilai skewness tinggi: ['price', 'surge_multiplier', 'latitude', 'precipIntensity', 'precipProbability', 'windGust', 'visibility', 'uvIndex', 'visibility.1', 'apparentTemperatureMin']\n",
            "kolom yang mempunyai nilai skewness sedang: ['distance', 'temperature', 'apparentTemperatureLow', 'windBearing', 'cloudCover', 'precipIntensityMax', 'temperatureMin', 'apparentTemperatureMax']\n",
            "kolom yang mempunyai nilai skewness normal: ['timestamp', 'hour', 'day', 'month', 'longitude', 'apparentTemperature', 'humidity', 'windSpeed', 'windGustTime', 'temperatureHigh', 'temperatureHighTime', 'temperatureLow', 'temperatureLowTime', 'apparentTemperatureHigh', 'apparentTemperatureHighTime', 'apparentTemperatureLowTime', 'dewPoint', 'pressure', 'ozone', 'sunriseTime', 'sunsetTime', 'moonPhase', 'uvIndexTime', 'temperatureMinTime', 'temperatureMax', 'temperatureMaxTime', 'apparentTemperatureMinTime', 'apparentTemperatureMaxTime']\n"
          ]
        }
      ],
      "source": [
        "#mendefinisikan kolom yang digunakan dan list tempat value skewness\n",
        "df_num = df[list_num]\n",
        "nilai_skew_tinggi = []\n",
        "nilai_skew_sedang = []\n",
        "nilai_skew_normal = []\n",
        "\n",
        "#membuat fungsi untuk memetakan distribusi setiap kolom\n",
        "for i in df_num.columns:\n",
        "    skewness = df[i].skew()\n",
        "    if -0.5 <= skewness <= 0.5:\n",
        "        nilai_skew_normal.append(i)\n",
        "    elif (-1 <= skewness < -0.5) or (0.5 < skewness <= 1):\n",
        "        nilai_skew_sedang.append(i)\n",
        "    else:\n",
        "        nilai_skew_tinggi.append(i)\n",
        "\n",
        "# Menampilkan list\n",
        "print('kolom yang mempunyai nilai skewness tinggi:', nilai_skew_tinggi)\n",
        "print('kolom yang mempunyai nilai skewness sedang:', nilai_skew_sedang)\n",
        "print('kolom yang mempunyai nilai skewness normal:', nilai_skew_normal)"
      ]
    },
    {
      "cell_type": "markdown",
      "metadata": {
        "id": "7lmHajof41Ub"
      },
      "source": [
        "Dari hasil analisis nilai skewness, diketahui bahwa:\n",
        "- kolom target (price) berdistribusi skewness tinggi dengan 8 kolom fitur lainnya\n",
        "- ada 8 kolom fitur yang berdistribusi skewness sedang\n",
        "-  dan ada 28 kolom data yang berdistribusi normal"
      ]
    },
    {
      "cell_type": "markdown",
      "metadata": {
        "id": "en5IdUTO__VB"
      },
      "source": [
        "### Setelah dari distribusi di ketahui bahwa terdapat data yang tidak berdistribusi normal, maka diasumsikan pada data ini, banyak menganduk outlier. maka akan dilihat outliers pada kolom yang tidak berdistribusi normal."
      ]
    },
    {
      "cell_type": "code",
      "execution_count": 35,
      "metadata": {
        "colab": {
          "base_uri": "https://localhost:8080/",
          "height": 662
        },
        "id": "vTwcdFkN40VS",
        "outputId": "891c73df-58a2-49d6-fc03-2338f413d0c7"
      },
      "outputs": [
        {
          "data": {
            "image/png": "[encoded data removed]",
            "text/plain": [
              "<Figure size 1000x600 with 1 Axes>"
            ]
          },
          "metadata": {},
          "output_type": "display_data"
        }
      ],
      "source": [
        "# Menampilkan boxplot untuk kolom-kolom dengan skewness tinggi\n",
        "plt.figure(figsize=(10, 6))\n",
        "sns.boxplot(data=df[nilai_skew_tinggi].melt(var_name='Kolom', value_name='Nilai'), x='Kolom', y='Nilai')\n",
        "plt.xticks(rotation=45)\n",
        "plt.show()"
      ]
    },
    {
      "cell_type": "code",
      "execution_count": 36,
      "metadata": {
        "colab": {
          "base_uri": "https://localhost:8080/",
          "height": 665
        },
        "id": "w-mCGNKyGyLC",
        "outputId": "71b24b52-a6f0-4a14-fae5-2b56aef922ae"
      },
      "outputs": [
        {
          "data": {
            "image/png": "[encoded data removed]",
            "text/plain": [
              "<Figure size 1000x600 with 1 Axes>"
            ]
          },
          "metadata": {},
          "output_type": "display_data"
        }
      ],
      "source": [
        "# Menampilkan boxplot untuk kolom-kolom dengan skewness sedang\n",
        "plt.figure(figsize=(10, 6))\n",
        "sns.boxplot(data=df[nilai_skew_sedang].melt(var_name='Kolom', value_name='Nilai'), x='Kolom', y='Nilai')\n",
        "plt.xticks(rotation=45)\n",
        "plt.show()"
      ]
    },
    {
      "cell_type": "markdown",
      "metadata": {
        "id": "sVKPSQGSP_gL"
      },
      "source": [
        "Setelah dianalisi menggunakan boxplot, diketahui bahwa:\n",
        "- setiap kolom dengan nilai skewness tinggi memiliki nilai outlier pada datanya\n",
        "- pada kolom dengan nilai skewness sedang, hanya kolom cloudcover dan precipIntensityMax yang tidak memiliki outlier pada datanya"
      ]
    },
    {
      "cell_type": "markdown",
      "metadata": {
        "id": "XEulpIv05UmT"
      },
      "source": [
        "#.v Feature Engineering"
      ]
    },
    {
      "cell_type": "markdown",
      "metadata": {
        "id": "Imm9Fesh5tyj"
      },
      "source": [
        "##.1 Split Data"
      ]
    },
    {
      "cell_type": "markdown",
      "metadata": {
        "id": "pVmNpS-v59rw"
      },
      "source": [
        "### Split data dilakukan pertama kali guna menghindari data leaking dan data test tetap aman. digunakan"
      ]
    },
    {
      "cell_type": "code",
      "execution_count": 37,
      "metadata": {
        "id": "VeTgnLtU6OTi"
      },
      "outputs": [],
      "source": [
        "#mendeskripsikan variabel X dan y\n",
        "X= df.drop('price', axis = 1)\n",
        "y=df['price']"
      ]
    },
    {
      "cell_type": "code",
      "execution_count": 38,
      "metadata": {
        "id": "XcR_mKJO6HQt"
      },
      "outputs": [],
      "source": [
        "X_train,X_test,y_train,y_test =train_test_split(X,y,test_size=0.2,random_state=200)"
      ]
    },
    {
      "cell_type": "markdown",
      "metadata": {
        "id": "D6ZvAJ-p8u9X"
      },
      "source": [
        "spliting data ini digunakan untuk untuk melatih model pada subset train dan menguji kinerjanya pada subset test, sehingga memungkinkan evaluasi yang lebih objektif terhadap kinerja model. pada spliting kali ini, akan dibagi menjadi 20% data test dan 80% data train.\n",
        "\n"
      ]
    },
    {
      "cell_type": "markdown",
      "metadata": {
        "id": "JWNmbAtO5zH3"
      },
      "source": [
        "### Kemudian akan dibuat list kolom fitur numerik dan kategori untuk memudahkan feature engineering kedepannya"
      ]
    },
    {
      "cell_type": "code",
      "execution_count": 39,
      "metadata": {
        "id": "RfV-JP_z53mD"
      },
      "outputs": [],
      "source": [
        "list_cat = X_train.select_dtypes(include='object').columns.tolist()\n",
        "list_num = X_train.select_dtypes(exclude='object').columns.tolist()"
      ]
    },
    {
      "cell_type": "markdown",
      "metadata": {
        "id": "EY6wnrhkAifS"
      },
      "source": [
        "##2. Handling Outlier"
      ]
    },
    {
      "cell_type": "markdown",
      "metadata": {
        "id": "79gFw_AlBhkc"
      },
      "source": [
        "### Dari hasil EDA dikethaui bahwa pada kolom yang tidak berdistribusi normal, ada 14 kolom yang mempunyai outlier pada datanya. tetapi untuk kolom yang berdistribusi normal, tidak dilihat untuk outlier nya pada EDA, sehingga akan dilihat dulu jumlah outlier pada setiap kolom fitur ini"
      ]
    },
    {
      "cell_type": "code",
      "execution_count": 40,
      "metadata": {
        "colab": {
          "base_uri": "https://localhost:8080/",
          "height": 1000
        },
        "id": "hUHs7ihX5ckG",
        "outputId": "d8e8d5f7-35ba-41f5-ddaf-176410a58e8d"
      },
      "outputs": [
        {
          "data": {
            "application/vnd.google.colaboratory.intrinsic+json": {
              "summary": "{\n  \"name\": \"outliers\",\n  \"rows\": 45,\n  \"fields\": [\n    {\n      \"column\": \"Kolom\",\n      \"properties\": {\n        \"dtype\": \"string\",\n        \"num_unique_values\": 45,\n        \"samples\": [\n          \"temperatureMax\",\n          \"dewPoint\",\n          \"pressure\"\n        ],\n        \"semantic_type\": \"\",\n        \"description\": \"\"\n      }\n    },\n    {\n      \"column\": \"Jumlah Outlier\",\n      \"properties\": {\n        \"dtype\": \"number\",\n        \"std\": 40486,\n        \"min\": 0,\n        \"max\": 120420,\n        \"num_unique_values\": 18,\n        \"samples\": [\n          0,\n          5298,\n          100752\n        ],\n        \"semantic_type\": \"\",\n        \"description\": \"\"\n      }\n    },\n    {\n      \"column\": \"Lower Bound\",\n      \"properties\": {\n        \"dtype\": \"number\",\n        \"std\": 706512266.9918771,\n        \"min\": -144.5,\n        \"max\": 1541469600.0,\n        \"num_unique_values\": 37,\n        \"samples\": [\n          1541376000.0,\n          -7.460000000000002,\n          -1.2200000000000002\n        ],\n        \"semantic_type\": \"\",\n        \"description\": \"\"\n      }\n    },\n    {\n      \"column\": \"Upper Bound\",\n      \"properties\": {\n        \"dtype\": \"number\",\n        \"std\": 709042539.9430867,\n        \"min\": -71.01399999999998,\n        \"max\": 1546968600.0,\n        \"num_unique_values\": 36,\n        \"samples\": [\n          47.635,\n          23.26,\n          571.5\n        ],\n        \"semantic_type\": \"\",\n        \"description\": \"\"\n      }\n    }\n  ]\n}",
              "type": "dataframe",
              "variable_name": "outliers"
            },
            "text/html": [
              "\n",
              "  <div id=\"df-8777af0b-3ec2-4964-8b25-59922f418fe1\" class=\"colab-df-container\">\n",
              "    <div>\n",
              "<style scoped>\n",
              "    .dataframe tbody tr th:only-of-type {\n",
              "        vertical-align: middle;\n",
              "    }\n",
              "\n",
              "    .dataframe tbody tr th {\n",
              "        vertical-align: top;\n",
              "    }\n",
              "\n",
              "    .dataframe thead th {\n",
              "        text-align: right;\n",
              "    }\n",
              "</style>\n",
              "<table border=\"1\" class=\"dataframe\">\n",
              "  <thead>\n",
              "    <tr style=\"text-align: right;\">\n",
              "      <th></th>\n",
              "      <th>Kolom</th>\n",
              "      <th>Jumlah Outlier</th>\n",
              "      <th>Lower Bound</th>\n",
              "      <th>Upper Bound</th>\n",
              "    </tr>\n",
              "  </thead>\n",
              "  <tbody>\n",
              "    <tr>\n",
              "      <th>0</th>\n",
              "      <td>timestamp</td>\n",
              "      <td>0</td>\n",
              "      <td>1.541369e+09</td>\n",
              "      <td>1.546903e+09</td>\n",
              "    </tr>\n",
              "    <tr>\n",
              "      <th>1</th>\n",
              "      <td>hour</td>\n",
              "      <td>0</td>\n",
              "      <td>-1.200000e+01</td>\n",
              "      <td>3.600000e+01</td>\n",
              "    </tr>\n",
              "    <tr>\n",
              "      <th>2</th>\n",
              "      <td>day</td>\n",
              "      <td>0</td>\n",
              "      <td>-9.500000e+00</td>\n",
              "      <td>5.050000e+01</td>\n",
              "    </tr>\n",
              "    <tr>\n",
              "      <th>3</th>\n",
              "      <td>month</td>\n",
              "      <td>0</td>\n",
              "      <td>9.500000e+00</td>\n",
              "      <td>1.350000e+01</td>\n",
              "    </tr>\n",
              "    <tr>\n",
              "      <th>4</th>\n",
              "      <td>distance</td>\n",
              "      <td>5298</td>\n",
              "      <td>-1.220000e+00</td>\n",
              "      <td>5.420000e+00</td>\n",
              "    </tr>\n",
              "    <tr>\n",
              "      <th>5</th>\n",
              "      <td>surge_multiplier</td>\n",
              "      <td>16793</td>\n",
              "      <td>1.000000e+00</td>\n",
              "      <td>1.000000e+00</td>\n",
              "    </tr>\n",
              "    <tr>\n",
              "      <th>6</th>\n",
              "      <td>latitude</td>\n",
              "      <td>65154</td>\n",
              "      <td>4.232870e+01</td>\n",
              "      <td>4.238630e+01</td>\n",
              "    </tr>\n",
              "    <tr>\n",
              "      <th>7</th>\n",
              "      <td>longitude</td>\n",
              "      <td>0</td>\n",
              "      <td>-7.112120e+01</td>\n",
              "      <td>-7.101400e+01</td>\n",
              "    </tr>\n",
              "    <tr>\n",
              "      <th>8</th>\n",
              "      <td>temperature</td>\n",
              "      <td>26874</td>\n",
              "      <td>2.575500e+01</td>\n",
              "      <td>5.427500e+01</td>\n",
              "    </tr>\n",
              "    <tr>\n",
              "      <th>9</th>\n",
              "      <td>apparentTemperature</td>\n",
              "      <td>39210</td>\n",
              "      <td>1.976000e+01</td>\n",
              "      <td>5.216000e+01</td>\n",
              "    </tr>\n",
              "    <tr>\n",
              "      <th>10</th>\n",
              "      <td>precipIntensity</td>\n",
              "      <td>111071</td>\n",
              "      <td>0.000000e+00</td>\n",
              "      <td>0.000000e+00</td>\n",
              "    </tr>\n",
              "    <tr>\n",
              "      <th>11</th>\n",
              "      <td>precipProbability</td>\n",
              "      <td>111071</td>\n",
              "      <td>0.000000e+00</td>\n",
              "      <td>0.000000e+00</td>\n",
              "    </tr>\n",
              "    <tr>\n",
              "      <th>12</th>\n",
              "      <td>humidity</td>\n",
              "      <td>0</td>\n",
              "      <td>2.800000e-01</td>\n",
              "      <td>1.240000e+00</td>\n",
              "    </tr>\n",
              "    <tr>\n",
              "      <th>13</th>\n",
              "      <td>windSpeed</td>\n",
              "      <td>0</td>\n",
              "      <td>-4.090000e+00</td>\n",
              "      <td>1.591000e+01</td>\n",
              "    </tr>\n",
              "    <tr>\n",
              "      <th>14</th>\n",
              "      <td>windGust</td>\n",
              "      <td>12345</td>\n",
              "      <td>-7.460000e+00</td>\n",
              "      <td>2.326000e+01</td>\n",
              "    </tr>\n",
              "    <tr>\n",
              "      <th>15</th>\n",
              "      <td>windGustTime</td>\n",
              "      <td>0</td>\n",
              "      <td>1.541309e+09</td>\n",
              "      <td>1.546969e+09</td>\n",
              "    </tr>\n",
              "    <tr>\n",
              "      <th>16</th>\n",
              "      <td>visibility</td>\n",
              "      <td>100752</td>\n",
              "      <td>6.086000e+00</td>\n",
              "      <td>1.234200e+01</td>\n",
              "    </tr>\n",
              "    <tr>\n",
              "      <th>17</th>\n",
              "      <td>temperatureHigh</td>\n",
              "      <td>120420</td>\n",
              "      <td>3.606000e+01</td>\n",
              "      <td>5.342000e+01</td>\n",
              "    </tr>\n",
              "    <tr>\n",
              "      <th>18</th>\n",
              "      <td>temperatureHighTime</td>\n",
              "      <td>0</td>\n",
              "      <td>1.541376e+09</td>\n",
              "      <td>1.546877e+09</td>\n",
              "    </tr>\n",
              "    <tr>\n",
              "      <th>19</th>\n",
              "      <td>temperatureLow</td>\n",
              "      <td>0</td>\n",
              "      <td>1.733000e+01</td>\n",
              "      <td>5.157000e+01</td>\n",
              "    </tr>\n",
              "    <tr>\n",
              "      <th>20</th>\n",
              "      <td>temperatureLowTime</td>\n",
              "      <td>0</td>\n",
              "      <td>1.541470e+09</td>\n",
              "      <td>1.546855e+09</td>\n",
              "    </tr>\n",
              "    <tr>\n",
              "      <th>21</th>\n",
              "      <td>apparentTemperatureHigh</td>\n",
              "      <td>52614</td>\n",
              "      <td>2.529000e+01</td>\n",
              "      <td>5.537000e+01</td>\n",
              "    </tr>\n",
              "    <tr>\n",
              "      <th>22</th>\n",
              "      <td>apparentTemperatureHighTime</td>\n",
              "      <td>0</td>\n",
              "      <td>1.541371e+09</td>\n",
              "      <td>1.546886e+09</td>\n",
              "    </tr>\n",
              "    <tr>\n",
              "      <th>23</th>\n",
              "      <td>apparentTemperatureLow</td>\n",
              "      <td>64614</td>\n",
              "      <td>1.627000e+01</td>\n",
              "      <td>4.675000e+01</td>\n",
              "    </tr>\n",
              "    <tr>\n",
              "      <th>24</th>\n",
              "      <td>apparentTemperatureLowTime</td>\n",
              "      <td>0</td>\n",
              "      <td>1.541443e+09</td>\n",
              "      <td>1.546871e+09</td>\n",
              "    </tr>\n",
              "    <tr>\n",
              "      <th>25</th>\n",
              "      <td>dewPoint</td>\n",
              "      <td>27335</td>\n",
              "      <td>1.154500e+01</td>\n",
              "      <td>5.406500e+01</td>\n",
              "    </tr>\n",
              "    <tr>\n",
              "      <th>26</th>\n",
              "      <td>pressure</td>\n",
              "      <td>0</td>\n",
              "      <td>9.667600e+02</td>\n",
              "      <td>1.054920e+03</td>\n",
              "    </tr>\n",
              "    <tr>\n",
              "      <th>27</th>\n",
              "      <td>windBearing</td>\n",
              "      <td>0</td>\n",
              "      <td>-1.445000e+02</td>\n",
              "      <td>5.715000e+02</td>\n",
              "    </tr>\n",
              "    <tr>\n",
              "      <th>28</th>\n",
              "      <td>cloudCover</td>\n",
              "      <td>0</td>\n",
              "      <td>-5.750000e-01</td>\n",
              "      <td>1.945000e+00</td>\n",
              "    </tr>\n",
              "    <tr>\n",
              "      <th>29</th>\n",
              "      <td>uvIndex</td>\n",
              "      <td>117295</td>\n",
              "      <td>0.000000e+00</td>\n",
              "      <td>0.000000e+00</td>\n",
              "    </tr>\n",
              "    <tr>\n",
              "      <th>30</th>\n",
              "      <td>visibility.1</td>\n",
              "      <td>100752</td>\n",
              "      <td>6.086000e+00</td>\n",
              "      <td>1.234200e+01</td>\n",
              "    </tr>\n",
              "    <tr>\n",
              "      <th>31</th>\n",
              "      <td>ozone</td>\n",
              "      <td>0</td>\n",
              "      <td>2.295500e+02</td>\n",
              "      <td>3.931500e+02</td>\n",
              "    </tr>\n",
              "    <tr>\n",
              "      <th>32</th>\n",
              "      <td>sunriseTime</td>\n",
              "      <td>0</td>\n",
              "      <td>1.541331e+09</td>\n",
              "      <td>1.546864e+09</td>\n",
              "    </tr>\n",
              "    <tr>\n",
              "      <th>33</th>\n",
              "      <td>sunsetTime</td>\n",
              "      <td>0</td>\n",
              "      <td>1.541366e+09</td>\n",
              "      <td>1.546895e+09</td>\n",
              "    </tr>\n",
              "    <tr>\n",
              "      <th>34</th>\n",
              "      <td>moonPhase</td>\n",
              "      <td>0</td>\n",
              "      <td>-4.350000e-01</td>\n",
              "      <td>1.525000e+00</td>\n",
              "    </tr>\n",
              "    <tr>\n",
              "      <th>35</th>\n",
              "      <td>precipIntensityMax</td>\n",
              "      <td>0</td>\n",
              "      <td>-1.374000e-01</td>\n",
              "      <td>2.290000e-01</td>\n",
              "    </tr>\n",
              "    <tr>\n",
              "      <th>36</th>\n",
              "      <td>uvIndexTime</td>\n",
              "      <td>0</td>\n",
              "      <td>1.541342e+09</td>\n",
              "      <td>1.546886e+09</td>\n",
              "    </tr>\n",
              "    <tr>\n",
              "      <th>37</th>\n",
              "      <td>temperatureMin</td>\n",
              "      <td>3278</td>\n",
              "      <td>1.710500e+01</td>\n",
              "      <td>5.194500e+01</td>\n",
              "    </tr>\n",
              "    <tr>\n",
              "      <th>38</th>\n",
              "      <td>temperatureMinTime</td>\n",
              "      <td>0</td>\n",
              "      <td>1.541315e+09</td>\n",
              "      <td>1.546873e+09</td>\n",
              "    </tr>\n",
              "    <tr>\n",
              "      <th>39</th>\n",
              "      <td>temperatureMax</td>\n",
              "      <td>100689</td>\n",
              "      <td>3.606000e+01</td>\n",
              "      <td>5.342000e+01</td>\n",
              "    </tr>\n",
              "    <tr>\n",
              "      <th>40</th>\n",
              "      <td>temperatureMaxTime</td>\n",
              "      <td>0</td>\n",
              "      <td>1.541376e+09</td>\n",
              "      <td>1.546877e+09</td>\n",
              "    </tr>\n",
              "    <tr>\n",
              "      <th>41</th>\n",
              "      <td>apparentTemperatureMin</td>\n",
              "      <td>55933</td>\n",
              "      <td>1.583500e+01</td>\n",
              "      <td>4.763500e+01</td>\n",
              "    </tr>\n",
              "    <tr>\n",
              "      <th>42</th>\n",
              "      <td>apparentTemperatureMinTime</td>\n",
              "      <td>0</td>\n",
              "      <td>1.541315e+09</td>\n",
              "      <td>1.546873e+09</td>\n",
              "    </tr>\n",
              "    <tr>\n",
              "      <th>43</th>\n",
              "      <td>apparentTemperatureMax</td>\n",
              "      <td>32883</td>\n",
              "      <td>2.529000e+01</td>\n",
              "      <td>5.537000e+01</td>\n",
              "    </tr>\n",
              "    <tr>\n",
              "      <th>44</th>\n",
              "      <td>apparentTemperatureMaxTime</td>\n",
              "      <td>0</td>\n",
              "      <td>1.541371e+09</td>\n",
              "      <td>1.546886e+09</td>\n",
              "    </tr>\n",
              "  </tbody>\n",
              "</table>\n",
              "</div>\n",
              "    <div class=\"colab-df-buttons\">\n",
              "\n",
              "  <div class=\"colab-df-container\">\n",
              "    <button class=\"colab-df-convert\" onclick=\"convertToInteractive('df-8777af0b-3ec2-4964-8b25-59922f418fe1')\"\n",
              "            title=\"Convert this dataframe to an interactive table.\"\n",
              "            style=\"display:none;\">\n",
              "\n",
              "  <svg xmlns=\"http://www.w3.org/2000/svg\" height=\"24px\" viewBox=\"0 -960 960 960\">\n",
              "    <path d=\"M120-120v-720h720v720H120Zm60-500h600v-160H180v160Zm220 220h160v-160H400v160Zm0 220h160v-160H400v160ZM180-400h160v-160H180v160Zm440 0h160v-160H620v160ZM180-180h160v-160H180v160Zm440 0h160v-160H620v160Z\"/>\n",
              "  </svg>\n",
              "    </button>\n",
              "\n",
              "  <style>\n",
              "    .colab-df-container {\n",
              "      display:flex;\n",
              "      gap: 12px;\n",
              "    }\n",
              "\n",
              "    .colab-df-convert {\n",
              "      background-color: #E8F0FE;\n",
              "      border: none;\n",
              "      border-radius: 50%;\n",
              "      cursor: pointer;\n",
              "      display: none;\n",
              "      fill: #1967D2;\n",
              "      height: 32px;\n",
              "      padding: 0 0 0 0;\n",
              "      width: 32px;\n",
              "    }\n",
              "\n",
              "    .colab-df-convert:hover {\n",
              "      background-color: #E2EBFA;\n",
              "      box-shadow: 0px 1px 2px rgba(60, 64, 67, 0.3), 0px 1px 3px 1px rgba(60, 64, 67, 0.15);\n",
              "      fill: #174EA6;\n",
              "    }\n",
              "\n",
              "    .colab-df-buttons div {\n",
              "      margin-bottom: 4px;\n",
              "    }\n",
              "\n",
              "    [theme=dark] .colab-df-convert {\n",
              "      background-color: #3B4455;\n",
              "      fill: #D2E3FC;\n",
              "    }\n",
              "\n",
              "    [theme=dark] .colab-df-convert:hover {\n",
              "      background-color: #434B5C;\n",
              "      box-shadow: 0px 1px 3px 1px rgba(0, 0, 0, 0.15);\n",
              "      filter: drop-shadow(0px 1px 2px rgba(0, 0, 0, 0.3));\n",
              "      fill: #FFFFFF;\n",
              "    }\n",
              "  </style>\n",
              "\n",
              "    <script>\n",
              "      const buttonEl =\n",
              "        document.querySelector('#df-8777af0b-3ec2-4964-8b25-59922f418fe1 button.colab-df-convert');\n",
              "      buttonEl.style.display =\n",
              "        google.colab.kernel.accessAllowed ? 'block' : 'none';\n",
              "\n",
              "      async function convertToInteractive(key) {\n",
              "        const element = document.querySelector('#df-8777af0b-3ec2-4964-8b25-59922f418fe1');\n",
              "        const dataTable =\n",
              "          await google.colab.kernel.invokeFunction('convertToInteractive',\n",
              "                                                    [key], {});\n",
              "        if (!dataTable) return;\n",
              "\n",
              "        const docLinkHtml = 'Like what you see? Visit the ' +\n",
              "          '<a target=\"_blank\" href=https://colab.research.google.com/notebooks/data_table.ipynb>data table notebook</a>'\n",
              "          + ' to learn more about interactive tables.';\n",
              "        element.innerHTML = '';\n",
              "        dataTable['output_type'] = 'display_data';\n",
              "        await google.colab.output.renderOutput(dataTable, element);\n",
              "        const docLink = document.createElement('div');\n",
              "        docLink.innerHTML = docLinkHtml;\n",
              "        element.appendChild(docLink);\n",
              "      }\n",
              "    </script>\n",
              "  </div>\n",
              "\n",
              "\n",
              "<div id=\"df-0ff4b605-9218-498b-9bf4-269a8cba4c7d\">\n",
              "  <button class=\"colab-df-quickchart\" onclick=\"quickchart('df-0ff4b605-9218-498b-9bf4-269a8cba4c7d')\"\n",
              "            title=\"Suggest charts\"\n",
              "            style=\"display:none;\">\n",
              "\n",
              "<svg xmlns=\"http://www.w3.org/2000/svg\" height=\"24px\"viewBox=\"0 0 24 24\"\n",
              "     width=\"24px\">\n",
              "    <g>\n",
              "        <path d=\"M19 3H5c-1.1 0-2 .9-2 2v14c0 1.1.9 2 2 2h14c1.1 0 2-.9 2-2V5c0-1.1-.9-2-2-2zM9 17H7v-7h2v7zm4 0h-2V7h2v10zm4 0h-2v-4h2v4z\"/>\n",
              "    </g>\n",
              "</svg>\n",
              "  </button>\n",
              "\n",
              "<style>\n",
              "  .colab-df-quickchart {\n",
              "      --bg-color: #E8F0FE;\n",
              "      --fill-color: #1967D2;\n",
              "      --hover-bg-color: #E2EBFA;\n",
              "      --hover-fill-color: #174EA6;\n",
              "      --disabled-fill-color: #AAA;\n",
              "      --disabled-bg-color: #DDD;\n",
              "  }\n",
              "\n",
              "  [theme=dark] .colab-df-quickchart {\n",
              "      --bg-color: #3B4455;\n",
              "      --fill-color: #D2E3FC;\n",
              "      --hover-bg-color: #434B5C;\n",
              "      --hover-fill-color: #FFFFFF;\n",
              "      --disabled-bg-color: #3B4455;\n",
              "      --disabled-fill-color: #666;\n",
              "  }\n",
              "\n",
              "  .colab-df-quickchart {\n",
              "    background-color: var(--bg-color);\n",
              "    border: none;\n",
              "    border-radius: 50%;\n",
              "    cursor: pointer;\n",
              "    display: none;\n",
              "    fill: var(--fill-color);\n",
              "    height: 32px;\n",
              "    padding: 0;\n",
              "    width: 32px;\n",
              "  }\n",
              "\n",
              "  .colab-df-quickchart:hover {\n",
              "    background-color: var(--hover-bg-color);\n",
              "    box-shadow: 0 1px 2px rgba(60, 64, 67, 0.3), 0 1px 3px 1px rgba(60, 64, 67, 0.15);\n",
              "    fill: var(--button-hover-fill-color);\n",
              "  }\n",
              "\n",
              "  .colab-df-quickchart-complete:disabled,\n",
              "  .colab-df-quickchart-complete:disabled:hover {\n",
              "    background-color: var(--disabled-bg-color);\n",
              "    fill: var(--disabled-fill-color);\n",
              "    box-shadow: none;\n",
              "  }\n",
              "\n",
              "  .colab-df-spinner {\n",
              "    border: 2px solid var(--fill-color);\n",
              "    border-color: transparent;\n",
              "    border-bottom-color: var(--fill-color);\n",
              "    animation:\n",
              "      spin 1s steps(1) infinite;\n",
              "  }\n",
              "\n",
              "  @keyframes spin {\n",
              "    0% {\n",
              "      border-color: transparent;\n",
              "      border-bottom-color: var(--fill-color);\n",
              "      border-left-color: var(--fill-color);\n",
              "    }\n",
              "    20% {\n",
              "      border-color: transparent;\n",
              "      border-left-color: var(--fill-color);\n",
              "      border-top-color: var(--fill-color);\n",
              "    }\n",
              "    30% {\n",
              "      border-color: transparent;\n",
              "      border-left-color: var(--fill-color);\n",
              "      border-top-color: var(--fill-color);\n",
              "      border-right-color: var(--fill-color);\n",
              "    }\n",
              "    40% {\n",
              "      border-color: transparent;\n",
              "      border-right-color: var(--fill-color);\n",
              "      border-top-color: var(--fill-color);\n",
              "    }\n",
              "    60% {\n",
              "      border-color: transparent;\n",
              "      border-right-color: var(--fill-color);\n",
              "    }\n",
              "    80% {\n",
              "      border-color: transparent;\n",
              "      border-right-color: var(--fill-color);\n",
              "      border-bottom-color: var(--fill-color);\n",
              "    }\n",
              "    90% {\n",
              "      border-color: transparent;\n",
              "      border-bottom-color: var(--fill-color);\n",
              "    }\n",
              "  }\n",
              "</style>\n",
              "\n",
              "  <script>\n",
              "    async function quickchart(key) {\n",
              "      const quickchartButtonEl =\n",
              "        document.querySelector('#' + key + ' button');\n",
              "      quickchartButtonEl.disabled = true;  // To prevent multiple clicks.\n",
              "      quickchartButtonEl.classList.add('colab-df-spinner');\n",
              "      try {\n",
              "        const charts = await google.colab.kernel.invokeFunction(\n",
              "            'suggestCharts', [key], {});\n",
              "      } catch (error) {\n",
              "        console.error('Error during call to suggestCharts:', error);\n",
              "      }\n",
              "      quickchartButtonEl.classList.remove('colab-df-spinner');\n",
              "      quickchartButtonEl.classList.add('colab-df-quickchart-complete');\n",
              "    }\n",
              "    (() => {\n",
              "      let quickchartButtonEl =\n",
              "        document.querySelector('#df-0ff4b605-9218-498b-9bf4-269a8cba4c7d button');\n",
              "      quickchartButtonEl.style.display =\n",
              "        google.colab.kernel.accessAllowed ? 'block' : 'none';\n",
              "    })();\n",
              "  </script>\n",
              "</div>\n",
              "    </div>\n",
              "  </div>\n"
            ],
            "text/plain": [
              "                          Kolom  Jumlah Outlier   Lower Bound   Upper Bound\n",
              "0                     timestamp               0  1.541369e+09  1.546903e+09\n",
              "1                          hour               0 -1.200000e+01  3.600000e+01\n",
              "2                           day               0 -9.500000e+00  5.050000e+01\n",
              "3                         month               0  9.500000e+00  1.350000e+01\n",
              "4                      distance            5298 -1.220000e+00  5.420000e+00\n",
              "5              surge_multiplier           16793  1.000000e+00  1.000000e+00\n",
              "6                      latitude           65154  4.232870e+01  4.238630e+01\n",
              "7                     longitude               0 -7.112120e+01 -7.101400e+01\n",
              "8                   temperature           26874  2.575500e+01  5.427500e+01\n",
              "9           apparentTemperature           39210  1.976000e+01  5.216000e+01\n",
              "10              precipIntensity          111071  0.000000e+00  0.000000e+00\n",
              "11            precipProbability          111071  0.000000e+00  0.000000e+00\n",
              "12                     humidity               0  2.800000e-01  1.240000e+00\n",
              "13                    windSpeed               0 -4.090000e+00  1.591000e+01\n",
              "14                     windGust           12345 -7.460000e+00  2.326000e+01\n",
              "15                 windGustTime               0  1.541309e+09  1.546969e+09\n",
              "16                   visibility          100752  6.086000e+00  1.234200e+01\n",
              "17              temperatureHigh          120420  3.606000e+01  5.342000e+01\n",
              "18          temperatureHighTime               0  1.541376e+09  1.546877e+09\n",
              "19               temperatureLow               0  1.733000e+01  5.157000e+01\n",
              "20           temperatureLowTime               0  1.541470e+09  1.546855e+09\n",
              "21      apparentTemperatureHigh           52614  2.529000e+01  5.537000e+01\n",
              "22  apparentTemperatureHighTime               0  1.541371e+09  1.546886e+09\n",
              "23       apparentTemperatureLow           64614  1.627000e+01  4.675000e+01\n",
              "24   apparentTemperatureLowTime               0  1.541443e+09  1.546871e+09\n",
              "25                     dewPoint           27335  1.154500e+01  5.406500e+01\n",
              "26                     pressure               0  9.667600e+02  1.054920e+03\n",
              "27                  windBearing               0 -1.445000e+02  5.715000e+02\n",
              "28                   cloudCover               0 -5.750000e-01  1.945000e+00\n",
              "29                      uvIndex          117295  0.000000e+00  0.000000e+00\n",
              "30                 visibility.1          100752  6.086000e+00  1.234200e+01\n",
              "31                        ozone               0  2.295500e+02  3.931500e+02\n",
              "32                  sunriseTime               0  1.541331e+09  1.546864e+09\n",
              "33                   sunsetTime               0  1.541366e+09  1.546895e+09\n",
              "34                    moonPhase               0 -4.350000e-01  1.525000e+00\n",
              "35           precipIntensityMax               0 -1.374000e-01  2.290000e-01\n",
              "36                  uvIndexTime               0  1.541342e+09  1.546886e+09\n",
              "37               temperatureMin            3278  1.710500e+01  5.194500e+01\n",
              "38           temperatureMinTime               0  1.541315e+09  1.546873e+09\n",
              "39               temperatureMax          100689  3.606000e+01  5.342000e+01\n",
              "40           temperatureMaxTime               0  1.541376e+09  1.546877e+09\n",
              "41       apparentTemperatureMin           55933  1.583500e+01  4.763500e+01\n",
              "42   apparentTemperatureMinTime               0  1.541315e+09  1.546873e+09\n",
              "43       apparentTemperatureMax           32883  2.529000e+01  5.537000e+01\n",
              "44   apparentTemperatureMaxTime               0  1.541371e+09  1.546886e+09"
            ]
          },
          "execution_count": 40,
          "metadata": {},
          "output_type": "execute_result"
        }
      ],
      "source": [
        "# Hitung IQR\n",
        "list_outlier=[]\n",
        "list_lower_bound =[]\n",
        "list_upper_bound =[]\n",
        "for i in X_train[list_num]:\n",
        "    Q1 = np.percentile(X_train[i], 25)\n",
        "    Q3 = np.percentile(X_train[i], 75)\n",
        "    IQR = Q3 - Q1\n",
        "\n",
        "    # Tentukan batas bawah dan batas atas untuk outlier\n",
        "    lower_bound = Q1 - 1.5 * IQR\n",
        "    upper_bound = Q3 + 1.5 * IQR\n",
        "    list_lower_bound.append(lower_bound)\n",
        "    list_upper_bound.append(upper_bound)\n",
        "\n",
        "    # Hitung jumlah outlier di bawah batas bawah dan di atas batas atas\n",
        "    num_outliers_lower = np.sum(X_train[i] < lower_bound)\n",
        "    num_outliers_upper = np.sum(X_train[i] > upper_bound)\n",
        "\n",
        "    # Jumlah total outlier\n",
        "    total_outliers = num_outliers_lower + num_outliers_upper\n",
        "    list_outlier.append(total_outliers)\n",
        "\n",
        "outliers = pd.DataFrame()\n",
        "outliers['Kolom'] = list_num\n",
        "outliers['Jumlah Outlier'] = list_outlier\n",
        "outliers['Lower Bound'] = list_lower_bound\n",
        "outliers['Upper Bound'] = list_upper_bound\n",
        "outliers"
      ]
    },
    {
      "cell_type": "markdown",
      "metadata": {
        "id": "4GPzRTXI7Saj"
      },
      "source": [
        "Pada analisis untuk mengetahui jumlah outliers diatas, diketahui bahwa ada 19 kolom yang memiliki outlier:\n",
        "- Distance : Berdasarkan EDA, variabel distance memiliki korelasi positif terhadap harga. semakin tinggi nilai distance maka semakin tinggi juga nilai harga nya. sehingga untuk outlier pada distance akan di simpan\n",
        "- surge_multiplier : surge_multiplier merupakan lonjakan harga atau perkalian harga taksi online dimana pada suatu tempat memiliki demand pengguna taksi yang tinggi sementara supply taksi sedikit (https://economicsforlife.ca/wp-content/uploads/2015/10/effects_of_ubers_surge_pricing.pdf). untuk outlier surge_multiplier akan disimpan juga karena diasumsikan berpengaruh pada harga (price)\n",
        "- latitude : latitude merupakan penanda lokasi pengguna (Latitude atau garis lintang adalah garis yang menentukan lokasi berada di sebelah utara atau selatan ekuator). secara definisi, nilai outlier pada Latitude tidak berpengaruh terhadap harga sehingga outlier nya akan di handling\n",
        "- temperature, apparentTemperature, temperatureHigh, apparentTemperatureHigh, apparentTemperatureLow, temperatureMin, temperatureMax, apparentTemperatureMin, apparentTemperatureMax : temperature merupakan nilai temperature pada saat pengguna memesan taksi online. secara intuisi, dipercaya seseorang memesan taksi online bisa dipengaruhi temperature karena untuk mencari tempat yang memiliki temperatur yang lebih normal. namum, hal tersebut berpengaruh pada surge_multiplier sehingga di asumsikan hanya berpengaruh sedikit terhadap harga, maka nilai outliers pada temperature akan di handling\n",
        "-  precipIntensity : precipIntensity merupakan intensitas curah hujan di lokasi awal perjalanan.  pada EDA, precipIntensity bisa berpengaruh karena, cuaca hujan merupakan tingkat ke 4 cuaca yang yang paling banyak pengguna taksi online. namun sama seperti pada temperature, hal tersebut berpengaruh pada surge_multiplier nya sehingga di asumsikan hanya berpengaruh sedikit terhadap harga, maka nilai outliers pada temperature akan di handling\n",
        "- precipProbability : precipProbability merupakan probabilitas curah hujan di lokasi awal. Diketahui juga nilai outliers nya sama dengan precipIntensity, maka diasumsikan bahwa  precipProbability memiliki nilai yang sama dengannya, sehingga nilai outliernya juga akan di handling\n",
        "- windGust : windGust merupakan kecepatan rata-rata dari lonjakan angin di lokasi awal perjalanan. secara garis besar, windgust hanya berlangsung kurang lebih 20 s (https://taharicadatamonitoring.com perbedaan-antara-wind-speed-dan-wind-gust/) maka diasumsikan nilai windgust tidak berpengaruh signifikan sehingga nilai outliers nya akan di handling.\n",
        "-  visibility, visibility.1 : visibility merupakan jarak pandang di lokasi awal perjalanan dan visibility.1 merupakan jarak pandang pada satuan mil. seperti pada EDA, jarak pendang biasanya terjadi pada cuaca berkabut atau hujan. dan juga seperti pada precipIntensity, maka nilai outliernya akan di handling\n",
        "- dewPoint : dewPoint merupakan titik embun di lokasi awal perjalanan. Peristiwa mengembun terjadi karena adanya penurunan suhu atau pelepasan panas yang dialami benda tersebu (https://www.detik.com/bali/berita/d-6445925/apa-saja-yang-menyebabkan-terjadinya-peristiwa-membeku-mencair-dan-menguap#:~:text=Mengembun%20adalah%20peristiwa%20perubahan%20wujud,panas%20yang%20dialami%20benda%20tersebut.) sehingga secara garis besar, dapat diasumsikan bahwa semakin tinggi atau renda nilai embunnya, tidak berpengaruh terhadap nilai harga sehingga outliernya akan di handling\n",
        "- uvIndex : uvIndex merupakan indeks radiasi ultraviolet yang diproyeksikan pada tengah hari matahari. Kita bisa asumsikan bahwa pengguna taksi online akan melonjak jika cuaca tersebut sedang terik-teriknya atau dalam artian mempunyai nilai UvIndex yang tinggi. namun sama seperti pada temperatur, hal tersebut berpengaruh pada surge_implier, sehingga akan di handling untuk outlier pada kolom ini\n",
        "\n",
        "Dari hasil analisa varibael yang mengandung ouliers menggunakan hal yang sudah didapat melalui eda dan study literatur melalui jurnal dan website yang ada di internet, didapati bahwa semua kolom yang mengandung outlier kecuali distance dan surge_multiplier yang dianggap memiliki hubungan dengan kolom target akan di handling dengan winzosir (capping) guna menjaga jumlah data yang ada. Untuk kolom dengan skewness akan menggunakan metode iqr dan untuk kolom dengan distribusi normal akan menggunakan metode gaussian. tetapi untuk kolom ['precipIntensity', 'precipProbability', 'uvIndex'] akan digunakan tripping dikerenakan variansi data yang terlalu kecil"
      ]
    },
    {
      "cell_type": "markdown",
      "metadata": {
        "id": "9Gp6_qy5RC1e"
      },
      "source": [
        "###Capping outliers"
      ]
    },
    {
      "cell_type": "code",
      "execution_count": 41,
      "metadata": {
        "id": "7cE95jqslJhx"
      },
      "outputs": [],
      "source": [
        "## Membuat list outliers dengan skewness\n",
        "outliers_skew_list = nilai_skew_sedang + nilai_skew_tinggi\n",
        "# Daftar nilai yang ingin dihapus\n",
        "excluded_values = ['cloudCover', 'precipIntensityMax', 'distance', 'surge_multiplier', 'price', 'precipIntensity', 'precipProbability', 'uvIndex']\n",
        "# Membuat list yang berisi nilai yang tidak termasuk dalam excluded_values\n",
        "outliers_skew = [value for value in outliers_skew_list if value not in excluded_values]\n",
        "\n",
        "#membuat list outliers dengan distribusi normal \n",
        "outliers_norm=(['apparentTemperature','temperatureHigh','apparentTemperatureHigh','dewPoint','temperatureMax'])\n"
      ]
    },
    {
      "cell_type": "code",
      "execution_count": 42,
      "metadata": {
        "id": "qUSxcwCDcKPP"
      },
      "outputs": [],
      "source": [
        "# Menginisialisasi OutlierTrimmer\n",
        "ot_normal = OutlierTrimmer(capping_method='gaussian', tail='both', fold=3, variables=outliers_norm)\n",
        "ot_skew = OutlierTrimmer(capping_method='iqr', tail='both', fold=1.5,variables=outliers_skew)"
      ]
    },
    {
      "cell_type": "code",
      "execution_count": 43,
      "metadata": {
        "id": "yYLW2de5pCT-"
      },
      "outputs": [],
      "source": [
        "#melakukan capping pada data train\n",
        "X_train_new= ot_skew.fit_transform(X_train)\n",
        "X_train_new = ot_normal.fit_transform(X_train_new)"
      ]
    },
    {
      "cell_type": "code",
      "execution_count": 44,
      "metadata": {
        "colab": {
          "base_uri": "https://localhost:8080/"
        },
        "id": "_do-bs6YW4ON",
        "outputId": "41e177ba-3fc9-466f-f096-dd1ae45d676b"
      },
      "outputs": [
        {
          "data": {
            "text/plain": [
              "(266960, 56)"
            ]
          },
          "execution_count": 44,
          "metadata": {},
          "output_type": "execute_result"
        }
      ],
      "source": [
        "X_train_new.shape"
      ]
    },
    {
      "cell_type": "markdown",
      "metadata": {
        "id": "VM5-5v7jRGzo"
      },
      "source": [
        "###Triming outliers"
      ]
    },
    {
      "cell_type": "code",
      "execution_count": 45,
      "metadata": {
        "id": "l2uVCg4DRAg9"
      },
      "outputs": [],
      "source": [
        "# Dapatkan batas atas dan batas bawah untuk 'precipIntensity'\n",
        "upper_bound = outliers.loc[outliers['Kolom'] == 'precipIntensity', 'Upper Bound'].values[0]\n",
        "lower_bound = outliers.loc[outliers['Kolom'] == 'precipIntensity', 'Lower Bound'].values[0]\n",
        "\n",
        "# Flag the outliers in category `precipIntensity`\n",
        "outliers_precipIntensity = np.where((X_train_new['precipIntensity'] > upper_bound) |\n",
        "                                    (X_train_new['precipIntensity'] < lower_bound), True, False)\n",
        "\n",
        "# Dapatkan batas atas dan batas bawah untuk 'precipProbability'\n",
        "upper_bound = outliers.loc[outliers['Kolom'] == 'precipProbability', 'Upper Bound'].values[0]\n",
        "lower_bound = outliers.loc[outliers['Kolom'] == 'precipProbability', 'Lower Bound'].values[0]\n",
        "\n",
        "# Flag the outliers in category `uvIndex`\n",
        "outliers_precipProbability = np.where((X_train_new['precipProbability'] > upper_bound) |\n",
        "                               (X_train_new['precipProbability'] < lower_bound), True, False)\n",
        "\n",
        "# Dapatkan batas atas dan batas bawah untuk 'uvIndex'\n",
        "upper_bound = outliers.loc[outliers['Kolom'] == 'uvIndex', 'Upper Bound'].values[0]\n",
        "lower_bound = outliers.loc[outliers['Kolom'] == 'uvIndex', 'Lower Bound'].values[0]\n",
        "\n",
        "# Flag the outliers in category `uvIndex`\n",
        "outliers_uvIndex = np.where((X_train_new['uvIndex'] > upper_bound) |\n",
        "                               (X_train_new['uvIndex'] < lower_bound), True, False)\n",
        "\n",
        "# Trimming the dataset\n",
        "X_train_trimmed = X_train_new.loc[~(outliers_precipIntensity + outliers_precipProbability + outliers_uvIndex)]\n"
      ]
    },
    {
      "cell_type": "markdown",
      "metadata": {
        "id": "FvAPp8c3rOI2"
      },
      "source": [
        "Karena ada perbedaan antara jumlah nilai pada variabel X dan y, makan akan disesuaikan"
      ]
    },
    {
      "cell_type": "code",
      "execution_count": 46,
      "metadata": {
        "id": "_9unvLsjrWyN"
      },
      "outputs": [],
      "source": [
        "y_train = y_train.loc[X_train_trimmed.index]"
      ]
    },
    {
      "cell_type": "markdown",
      "metadata": {
        "id": "8-p4qrsM-bJj"
      },
      "source": [
        "##3. Feature Selection"
      ]
    },
    {
      "cell_type": "markdown",
      "metadata": {
        "id": "5neJ5P7cQajg"
      },
      "source": [
        "### Kemudian akan dilihat hubungan antara vaiabel bebas dan variabel terikatnya masing-masing, mana data yang memiliki hubungan lemah dengan variabel terikat maka akan didiskualifikasi pada bagian feature selection"
      ]
    },
    {
      "cell_type": "markdown",
      "metadata": {
        "id": "mRdQWOMQQ7jv"
      },
      "source": [
        "#### Melihat korelasi variabel terikat dengan variabel bebas yang numerik menggunakan heatmap dan korelasi spearman (karena data mengandung outlier). diberikan trashold 0.05 untuk nilai korelasi minimal"
      ]
    },
    {
      "cell_type": "code",
      "execution_count": 47,
      "metadata": {
        "colab": {
          "base_uri": "https://localhost:8080/"
        },
        "id": "1kfagwF8TAyD",
        "outputId": "8a6b934c-49b7-4d75-c6c0-e5553ecbf806"
      },
      "outputs": [
        {
          "name": "stderr",
          "output_type": "stream",
          "text": [
            "/usr/local/lib/python3.10/dist-packages/scipy/stats/_stats_py.py:5445: ConstantInputWarning: An input array is constant; the correlation coefficient is not defined.\n",
            "  warnings.warn(stats.ConstantInputWarning(warn_msg))\n"
          ]
        },
        {
          "data": {
            "text/plain": [
              "distance            0.336401\n",
              "surge_multiplier    0.166999\n",
              "dtype: float64"
            ]
          },
          "execution_count": 47,
          "metadata": {},
          "output_type": "execute_result"
        }
      ],
      "source": [
        "# Hitung korelasi antara semua fitur terhadap fitur \"price\" menggunakan metode Spearman\n",
        "correlation = X_train_trimmed[list_num].corrwith(y_train, method='spearman')\n",
        "\n",
        "# Filter korelasi yang memenuhi syarat\n",
        "filtered_correlation_num = correlation[(correlation >= 0.05) | (correlation <= -0.05)]\n",
        "filtered_correlation_num"
      ]
    },
    {
      "cell_type": "code",
      "execution_count": 48,
      "metadata": {
        "colab": {
          "base_uri": "https://localhost:8080/",
          "height": 699
        },
        "id": "WP7V-38T0bkR",
        "outputId": "06d86c90-2469-4b61-c66c-976f2fc695d4"
      },
      "outputs": [
        {
          "data": {
            "image/png": "[encoded data removed]",
            "text/plain": [
              "<Figure size 1000x800 with 2 Axes>"
            ]
          },
          "metadata": {},
          "output_type": "display_data"
        }
      ],
      "source": [
        "#Mendeskripsikan dataframe correlation guna dibuat heatmap nya\n",
        "correlation = pd.DataFrame(correlation)\n",
        "#Membuat heatmap plot nya\n",
        "plt.figure(figsize=(10, 8))\n",
        "sns.heatmap(correlation, annot=True, cmap='coolwarm', fmt=\".2f\", vmin=-1, vmax=1)\n",
        "plt.title('Heatmap Korelasi Target dengan Fitur')\n",
        "plt.show()\n"
      ]
    },
    {
      "cell_type": "markdown",
      "metadata": {
        "id": "E5RYnbBkySgE"
      },
      "source": [
        "Dari hasil analisis nilai korelasi antara kolom fitur dengan kolom target, ditemukan bahwa hanya ada 2 kolom fitur yang memiliki nilai korelasi pada kolom target yaitu:\n",
        "- Distance\n",
        "- Surge_multiplier\n",
        "\n",
        "Namun korelasi yang ada pun tidak terlalu tinggi dimana nilainya dibawah 0.5."
      ]
    },
    {
      "cell_type": "markdown",
      "metadata": {
        "id": "mh35bhfPz3JX"
      },
      "source": [
        "### Untuk melihat korelasi antar kolom fitur dengan jenis data kategori dengan variabel target yang numerik, bisa digunakan korelasi kendall tau dan akan diploting nilai nya menggunakan heatmap."
      ]
    },
    {
      "cell_type": "code",
      "execution_count": 49,
      "metadata": {
        "colab": {
          "base_uri": "https://localhost:8080/",
          "height": 144
        },
        "id": "5EiLHpnXZrcN",
        "outputId": "ec146535-ef64-451d-cf2d-e33f7cd21ebc"
      },
      "outputs": [
        {
          "data": {
            "application/vnd.google.colaboratory.intrinsic+json": {
              "summary": "{\n  \"name\": \"filtered_correlation_cat\",\n  \"rows\": 3,\n  \"fields\": [\n    {\n      \"column\": \"Nama\",\n      \"properties\": {\n        \"dtype\": \"string\",\n        \"num_unique_values\": 3,\n        \"samples\": [\n          \"cab_type\",\n          \"product_id\",\n          \"name\"\n        ],\n        \"semantic_type\": \"\",\n        \"description\": \"\"\n      }\n    },\n    {\n      \"column\": \"Nilai Korelasi\",\n      \"properties\": {\n        \"dtype\": \"number\",\n        \"std\": 0.2340173251719558,\n        \"min\": -0.396220483500254,\n        \"max\": 0.05244765114901172,\n        \"num_unique_values\": 3,\n        \"samples\": [\n          -0.05649575730467113,\n          0.05244765114901172,\n          -0.396220483500254\n        ],\n        \"semantic_type\": \"\",\n        \"description\": \"\"\n      }\n    }\n  ]\n}",
              "type": "dataframe",
              "variable_name": "filtered_correlation_cat"
            },
            "text/html": [
              "\n",
              "  <div id=\"df-fd085645-11e4-44e7-97cf-e54688b6cf71\" class=\"colab-df-container\">\n",
              "    <div>\n",
              "<style scoped>\n",
              "    .dataframe tbody tr th:only-of-type {\n",
              "        vertical-align: middle;\n",
              "    }\n",
              "\n",
              "    .dataframe tbody tr th {\n",
              "        vertical-align: top;\n",
              "    }\n",
              "\n",
              "    .dataframe thead th {\n",
              "        text-align: right;\n",
              "    }\n",
              "</style>\n",
              "<table border=\"1\" class=\"dataframe\">\n",
              "  <thead>\n",
              "    <tr style=\"text-align: right;\">\n",
              "      <th></th>\n",
              "      <th>Nama</th>\n",
              "      <th>Nilai Korelasi</th>\n",
              "    </tr>\n",
              "  </thead>\n",
              "  <tbody>\n",
              "    <tr>\n",
              "      <th>5</th>\n",
              "      <td>cab_type</td>\n",
              "      <td>-0.056496</td>\n",
              "    </tr>\n",
              "    <tr>\n",
              "      <th>6</th>\n",
              "      <td>product_id</td>\n",
              "      <td>0.052448</td>\n",
              "    </tr>\n",
              "    <tr>\n",
              "      <th>7</th>\n",
              "      <td>name</td>\n",
              "      <td>-0.396220</td>\n",
              "    </tr>\n",
              "  </tbody>\n",
              "</table>\n",
              "</div>\n",
              "    <div class=\"colab-df-buttons\">\n",
              "\n",
              "  <div class=\"colab-df-container\">\n",
              "    <button class=\"colab-df-convert\" onclick=\"convertToInteractive('df-fd085645-11e4-44e7-97cf-e54688b6cf71')\"\n",
              "            title=\"Convert this dataframe to an interactive table.\"\n",
              "            style=\"display:none;\">\n",
              "\n",
              "  <svg xmlns=\"http://www.w3.org/2000/svg\" height=\"24px\" viewBox=\"0 -960 960 960\">\n",
              "    <path d=\"M120-120v-720h720v720H120Zm60-500h600v-160H180v160Zm220 220h160v-160H400v160Zm0 220h160v-160H400v160ZM180-400h160v-160H180v160Zm440 0h160v-160H620v160ZM180-180h160v-160H180v160Zm440 0h160v-160H620v160Z\"/>\n",
              "  </svg>\n",
              "    </button>\n",
              "\n",
              "  <style>\n",
              "    .colab-df-container {\n",
              "      display:flex;\n",
              "      gap: 12px;\n",
              "    }\n",
              "\n",
              "    .colab-df-convert {\n",
              "      background-color: #E8F0FE;\n",
              "      border: none;\n",
              "      border-radius: 50%;\n",
              "      cursor: pointer;\n",
              "      display: none;\n",
              "      fill: #1967D2;\n",
              "      height: 32px;\n",
              "      padding: 0 0 0 0;\n",
              "      width: 32px;\n",
              "    }\n",
              "\n",
              "    .colab-df-convert:hover {\n",
              "      background-color: #E2EBFA;\n",
              "      box-shadow: 0px 1px 2px rgba(60, 64, 67, 0.3), 0px 1px 3px 1px rgba(60, 64, 67, 0.15);\n",
              "      fill: #174EA6;\n",
              "    }\n",
              "\n",
              "    .colab-df-buttons div {\n",
              "      margin-bottom: 4px;\n",
              "    }\n",
              "\n",
              "    [theme=dark] .colab-df-convert {\n",
              "      background-color: #3B4455;\n",
              "      fill: #D2E3FC;\n",
              "    }\n",
              "\n",
              "    [theme=dark] .colab-df-convert:hover {\n",
              "      background-color: #434B5C;\n",
              "      box-shadow: 0px 1px 3px 1px rgba(0, 0, 0, 0.15);\n",
              "      filter: drop-shadow(0px 1px 2px rgba(0, 0, 0, 0.3));\n",
              "      fill: #FFFFFF;\n",
              "    }\n",
              "  </style>\n",
              "\n",
              "    <script>\n",
              "      const buttonEl =\n",
              "        document.querySelector('#df-fd085645-11e4-44e7-97cf-e54688b6cf71 button.colab-df-convert');\n",
              "      buttonEl.style.display =\n",
              "        google.colab.kernel.accessAllowed ? 'block' : 'none';\n",
              "\n",
              "      async function convertToInteractive(key) {\n",
              "        const element = document.querySelector('#df-fd085645-11e4-44e7-97cf-e54688b6cf71');\n",
              "        const dataTable =\n",
              "          await google.colab.kernel.invokeFunction('convertToInteractive',\n",
              "                                                    [key], {});\n",
              "        if (!dataTable) return;\n",
              "\n",
              "        const docLinkHtml = 'Like what you see? Visit the ' +\n",
              "          '<a target=\"_blank\" href=https://colab.research.google.com/notebooks/data_table.ipynb>data table notebook</a>'\n",
              "          + ' to learn more about interactive tables.';\n",
              "        element.innerHTML = '';\n",
              "        dataTable['output_type'] = 'display_data';\n",
              "        await google.colab.output.renderOutput(dataTable, element);\n",
              "        const docLink = document.createElement('div');\n",
              "        docLink.innerHTML = docLinkHtml;\n",
              "        element.appendChild(docLink);\n",
              "      }\n",
              "    </script>\n",
              "  </div>\n",
              "\n",
              "\n",
              "<div id=\"df-d184b56c-11dc-48cf-9a35-5a974caa9f77\">\n",
              "  <button class=\"colab-df-quickchart\" onclick=\"quickchart('df-d184b56c-11dc-48cf-9a35-5a974caa9f77')\"\n",
              "            title=\"Suggest charts\"\n",
              "            style=\"display:none;\">\n",
              "\n",
              "<svg xmlns=\"http://www.w3.org/2000/svg\" height=\"24px\"viewBox=\"0 0 24 24\"\n",
              "     width=\"24px\">\n",
              "    <g>\n",
              "        <path d=\"M19 3H5c-1.1 0-2 .9-2 2v14c0 1.1.9 2 2 2h14c1.1 0 2-.9 2-2V5c0-1.1-.9-2-2-2zM9 17H7v-7h2v7zm4 0h-2V7h2v10zm4 0h-2v-4h2v4z\"/>\n",
              "    </g>\n",
              "</svg>\n",
              "  </button>\n",
              "\n",
              "<style>\n",
              "  .colab-df-quickchart {\n",
              "      --bg-color: #E8F0FE;\n",
              "      --fill-color: #1967D2;\n",
              "      --hover-bg-color: #E2EBFA;\n",
              "      --hover-fill-color: #174EA6;\n",
              "      --disabled-fill-color: #AAA;\n",
              "      --disabled-bg-color: #DDD;\n",
              "  }\n",
              "\n",
              "  [theme=dark] .colab-df-quickchart {\n",
              "      --bg-color: #3B4455;\n",
              "      --fill-color: #D2E3FC;\n",
              "      --hover-bg-color: #434B5C;\n",
              "      --hover-fill-color: #FFFFFF;\n",
              "      --disabled-bg-color: #3B4455;\n",
              "      --disabled-fill-color: #666;\n",
              "  }\n",
              "\n",
              "  .colab-df-quickchart {\n",
              "    background-color: var(--bg-color);\n",
              "    border: none;\n",
              "    border-radius: 50%;\n",
              "    cursor: pointer;\n",
              "    display: none;\n",
              "    fill: var(--fill-color);\n",
              "    height: 32px;\n",
              "    padding: 0;\n",
              "    width: 32px;\n",
              "  }\n",
              "\n",
              "  .colab-df-quickchart:hover {\n",
              "    background-color: var(--hover-bg-color);\n",
              "    box-shadow: 0 1px 2px rgba(60, 64, 67, 0.3), 0 1px 3px 1px rgba(60, 64, 67, 0.15);\n",
              "    fill: var(--button-hover-fill-color);\n",
              "  }\n",
              "\n",
              "  .colab-df-quickchart-complete:disabled,\n",
              "  .colab-df-quickchart-complete:disabled:hover {\n",
              "    background-color: var(--disabled-bg-color);\n",
              "    fill: var(--disabled-fill-color);\n",
              "    box-shadow: none;\n",
              "  }\n",
              "\n",
              "  .colab-df-spinner {\n",
              "    border: 2px solid var(--fill-color);\n",
              "    border-color: transparent;\n",
              "    border-bottom-color: var(--fill-color);\n",
              "    animation:\n",
              "      spin 1s steps(1) infinite;\n",
              "  }\n",
              "\n",
              "  @keyframes spin {\n",
              "    0% {\n",
              "      border-color: transparent;\n",
              "      border-bottom-color: var(--fill-color);\n",
              "      border-left-color: var(--fill-color);\n",
              "    }\n",
              "    20% {\n",
              "      border-color: transparent;\n",
              "      border-left-color: var(--fill-color);\n",
              "      border-top-color: var(--fill-color);\n",
              "    }\n",
              "    30% {\n",
              "      border-color: transparent;\n",
              "      border-left-color: var(--fill-color);\n",
              "      border-top-color: var(--fill-color);\n",
              "      border-right-color: var(--fill-color);\n",
              "    }\n",
              "    40% {\n",
              "      border-color: transparent;\n",
              "      border-right-color: var(--fill-color);\n",
              "      border-top-color: var(--fill-color);\n",
              "    }\n",
              "    60% {\n",
              "      border-color: transparent;\n",
              "      border-right-color: var(--fill-color);\n",
              "    }\n",
              "    80% {\n",
              "      border-color: transparent;\n",
              "      border-right-color: var(--fill-color);\n",
              "      border-bottom-color: var(--fill-color);\n",
              "    }\n",
              "    90% {\n",
              "      border-color: transparent;\n",
              "      border-bottom-color: var(--fill-color);\n",
              "    }\n",
              "  }\n",
              "</style>\n",
              "\n",
              "  <script>\n",
              "    async function quickchart(key) {\n",
              "      const quickchartButtonEl =\n",
              "        document.querySelector('#' + key + ' button');\n",
              "      quickchartButtonEl.disabled = true;  // To prevent multiple clicks.\n",
              "      quickchartButtonEl.classList.add('colab-df-spinner');\n",
              "      try {\n",
              "        const charts = await google.colab.kernel.invokeFunction(\n",
              "            'suggestCharts', [key], {});\n",
              "      } catch (error) {\n",
              "        console.error('Error during call to suggestCharts:', error);\n",
              "      }\n",
              "      quickchartButtonEl.classList.remove('colab-df-spinner');\n",
              "      quickchartButtonEl.classList.add('colab-df-quickchart-complete');\n",
              "    }\n",
              "    (() => {\n",
              "      let quickchartButtonEl =\n",
              "        document.querySelector('#df-d184b56c-11dc-48cf-9a35-5a974caa9f77 button');\n",
              "      quickchartButtonEl.style.display =\n",
              "        google.colab.kernel.accessAllowed ? 'block' : 'none';\n",
              "    })();\n",
              "  </script>\n",
              "</div>\n",
              "    </div>\n",
              "  </div>\n"
            ],
            "text/plain": [
              "         Nama  Nilai Korelasi\n",
              "5    cab_type       -0.056496\n",
              "6  product_id        0.052448\n",
              "7        name       -0.396220"
            ]
          },
          "execution_count": 49,
          "metadata": {},
          "output_type": "execute_result"
        }
      ],
      "source": [
        "#Membuat fungsi untuk menganalisa nilai korelasi antar variabel fitur yang kategori dan variabel target\n",
        "list_nilai_korelasi = []\n",
        "for kategori in list_kategori:\n",
        "    tau, p_value = kendalltau(X_train_trimmed[kategori], y_train)\n",
        "    list_nilai_korelasi.append(tau)\n",
        "\n",
        "#Membuat dataframe nilai korelasi tersebut\n",
        "nilai_korelasi_kategori = pd.DataFrame({\n",
        "        'Nama': list_kategori,\n",
        "        'Nilai Korelasi': list_nilai_korelasi\n",
        "    })\n",
        "# Filter korelasi yang memenuhi syarat\n",
        "filtered_correlation_cat = nilai_korelasi_kategori[(nilai_korelasi_kategori['Nilai Korelasi'] >= 0.05) | (nilai_korelasi_kategori['Nilai Korelasi'] <= -0.05)]\n",
        "filtered_correlation_cat"
      ]
    },
    {
      "cell_type": "code",
      "execution_count": 50,
      "metadata": {
        "colab": {
          "base_uri": "https://localhost:8080/",
          "height": 718
        },
        "id": "2_BQ-Y7jbaAs",
        "outputId": "2146a88b-fce4-4574-943d-f8f12d577bd3"
      },
      "outputs": [
        {
          "data": {
            "image/png": "[encoded data removed]",
            "text/plain": [
              "<Figure size 1000x800 with 2 Axes>"
            ]
          },
          "metadata": {},
          "output_type": "display_data"
        }
      ],
      "source": [
        "#Mendeskripsikan dataframe untuk list nilai korelasi agar bisa dibentuk heatmapnya\n",
        "list_korelasi_kategori = pd.DataFrame(list_nilai_korelasi, index=list_kategori)\n",
        "\n",
        "#Membuat heatmap\n",
        "plt.figure(figsize=(10, 8))\n",
        "sns.heatmap(list_korelasi_kategori, annot=True, cmap='coolwarm', fmt=\".2f\", vmin=-1, vmax=1)\n",
        "plt.title('Heatmap Korelasi Target dengan fitur yang kategorik')\n",
        "plt.xlabel('Price')\n",
        "plt.ylabel('Variabel Kategorikal')\n",
        "plt.show()\n"
      ]
    },
    {
      "cell_type": "markdown",
      "metadata": {
        "id": "O2Vu8vTY0aPM"
      },
      "source": [
        "dari hasil analisis korelasi kendall tau diatas, didapati bahwa ada 3 kolom fitur kategori yang memiliki korelasi dengan kolom target, namum sama seperti korelasi pada kolom fitur numerik, nilai korelasinya tidak terlalu tinggi. kemudian didapati juga kolom yang tidak mempunyai nilai korelasi pada kolom timezone, dikarenakan kolom tersebut hanya mempunyai 1 nilai yaitu America/NewYork sehingga nilainya adalah Nan. namun, diketahui bahwa kolom product id merupakan kolom tanda untuk nama-nama taksi sehingga bisa kita drop saja langsung"
      ]
    },
    {
      "cell_type": "markdown",
      "metadata": {
        "id": "UMaXhd2C-e0H"
      },
      "source": [
        "### Berdasarkan hasil analisis korelasi pada EDA, maka dipilih 5 fitur yang akan digunakan yaitu:\n",
        "- Distance\n",
        "- Surge Multiplier\n",
        "- Cab_type\n",
        "- Name"
      ]
    },
    {
      "cell_type": "code",
      "execution_count": 51,
      "metadata": {
        "id": "o6BddhSmkaVC"
      },
      "outputs": [],
      "source": [
        "#drop kolom fitur yang tidak memiliki korelasi tinggi pada data train\n",
        "X_train_select = X_train_trimmed.drop(columns=X_train_trimmed.columns.difference(['distance', 'surge_multiplier', 'cab_type','name']))"
      ]
    },
    {
      "cell_type": "code",
      "execution_count": 52,
      "metadata": {
        "id": "ubE_l9fZ_GS5"
      },
      "outputs": [],
      "source": [
        "#drop kolom fitur yang tidak memiliki korelasi tinggi pada data test\n",
        "X_test = X_test.drop(columns=X_test.columns.difference(['distance', 'surge_multiplier', 'cab_type','name']))"
      ]
    },
    {
      "cell_type": "markdown",
      "metadata": {
        "id": "aKMwx-S5H1Lb"
      },
      "source": [
        "##4. Encoding"
      ]
    },
    {
      "cell_type": "markdown",
      "metadata": {
        "id": "_fexV4iZcC4Z"
      },
      "source": [
        "Pada proses ini, kita akan mengubah nilai kategori pada kolom menjadi nilai numerik. pada tahapan ini, akan digunakan:\n",
        "- Ordinal encode pada bagian cab type karena hanya memiliki 2 nilai, agar tidak memperbanyak jumlah kolom, maka digunakan ordinal encode dengan uber = 0 dan lyft = 1\n",
        "- OneHot encode untuk name dikarenakan kolom tersebut bukan nilai ordinal"
      ]
    },
    {
      "cell_type": "markdown",
      "metadata": {
        "id": "8KO1zVXidlpS"
      },
      "source": [
        "Ordinal Encode"
      ]
    },
    {
      "cell_type": "code",
      "execution_count": 53,
      "metadata": {
        "id": "lqg-70hQH5tN"
      },
      "outputs": [],
      "source": [
        "cab_type_cat = ['Uber', 'Lyft'] #mengatur urutan\n",
        "ord_enc = OrdinalEncoder(categories= [cab_type_cat])\n",
        "#Encoding\n",
        "X_train_select['cab_type'] = ord_enc.fit_transform(X_train_select[['cab_type']])\n",
        "X_test['cab_type'] = ord_enc.transform(X_test[['cab_type']])"
      ]
    },
    {
      "cell_type": "markdown",
      "metadata": {
        "id": "wUQC6VEEdoQw"
      },
      "source": [
        "OneHot Encode"
      ]
    },
    {
      "cell_type": "code",
      "execution_count": 54,
      "metadata": {
        "id": "NdRPpgkIdqOQ"
      },
      "outputs": [],
      "source": [
        "#Mendeskripsikan list kolom yang akan di encode\n",
        "list_nom=['name']\n",
        "\n",
        "#melakukan encode\n",
        "enc_ohe =  OneHotEncoder(sparse_output=False)\n",
        "enc_ohe.fit(X_train_select[list_nom])\n",
        "x_train_ohe = enc_ohe.transform(X_train_select[list_nom])\n",
        "x_test_ohe = enc_ohe.transform(X_test[list_nom])"
      ]
    },
    {
      "cell_type": "code",
      "execution_count": 55,
      "metadata": {
        "id": "dW9r4hYXH0oV"
      },
      "outputs": [],
      "source": [
        "#Menyatukan data train dengan data hasil onehotencode dan membuat kolom yang lama\n",
        "#mendapatkan nilai dari hasil encode\n",
        "feature_names = enc_ohe.get_feature_names_out(input_features=list_nom)\n",
        "#Membuat dataframe hasil encode\n",
        "X_train_ohe_df = pd.DataFrame(x_train_ohe, columns = feature_names)\n",
        "X_test_ohe_df = pd.DataFrame(x_test_ohe, columns = feature_names)\n",
        "#mereset index dataframe agar bisa disatukan\n",
        "X_train_select.reset_index(drop=True, inplace= True)\n",
        "X_test.reset_index(drop=True, inplace= True)\n",
        "#menyatukan dataset encode dengan x_train dan x_test\n",
        "X_train_encode = pd.concat ([X_train_select, X_train_ohe_df], axis = 1)\n",
        "X_test_encode = pd.concat ([X_test, X_test_ohe_df], axis = 1)\n",
        "#membuang kolom yang lama\n",
        "X_train_encode.drop('name', axis=1, inplace=True)\n",
        "X_test_encode.drop('name', axis=1, inplace=True)"
      ]
    },
    {
      "cell_type": "markdown",
      "metadata": {
        "id": "R2moW-OuflY_"
      },
      "source": [
        "#5. Scalling"
      ]
    },
    {
      "cell_type": "markdown",
      "metadata": {
        "id": "DWNEjiphfo9w"
      },
      "source": [
        "Scalling dilakukan untuk menyamakan rentang data pada setiap data numerik yang ada. Pada scalling kali ini akan digunakan robust scalling dikarenkan fitur yang ada berdistribusi dengan skewness yang tinggi"
      ]
    },
    {
      "cell_type": "code",
      "execution_count": 56,
      "metadata": {
        "id": "3OkTBhqaHLNk"
      },
      "outputs": [],
      "source": [
        "#mendeskripsikan list nilai numerik\n",
        "list_num = ['distance','surge_multiplier']\n",
        "#melakukan scalling menggunakan robust scaller\n",
        "robust_scaler = RobustScaler()\n",
        "robust_scaler.fit(X_train[list_num])\n",
        "X_train_encode[list_num] = robust_scaler.transform(X_train_encode[list_num])\n",
        "X_test_encode[list_num] = robust_scaler.transform(X_test_encode[list_num])"
      ]
    },
    {
      "cell_type": "markdown",
      "metadata": {
        "id": "OiUA0GqzgoKx"
      },
      "source": [
        "Membuat dataframe baru hasil dari scalling sebagai X_train_final dan X_test_final"
      ]
    },
    {
      "cell_type": "code",
      "execution_count": 57,
      "metadata": {
        "id": "WhdqyEuggd__"
      },
      "outputs": [],
      "source": [
        "X_train_final = X_train_encode\n",
        "X_test_final = X_test_encode"
      ]
    },
    {
      "cell_type": "markdown",
      "metadata": {
        "id": "8rbieKC-hIyL"
      },
      "source": [
        "#vi. Model Definition"
      ]
    },
    {
      "cell_type": "markdown",
      "metadata": {
        "id": "smUVbfk1hOPF"
      },
      "source": [
        "### Pada model kali ini akan digunakan regresi liner, dikarenakan regresi linear memiliki implementasi yang relatif sederhana dan efisien, terutama dalam kasus regresi linear sederhana. kemudian sifatnya yang mudah dipahami serta karena data yang ada merupakan data kontinu, maka digunakanya regresi linier ini. kemudian pada cost function, karena data yang dimiliki mempunyai outlier, maka digunkan MAE karena MAE merupakan cost function yang tahan terhadap outlier. Serta juga digunakan RSqured untuk mengetahui seberapa baik model yang sudah dibuat. hyperparameter yang digunakan adalah fit intercept untuk menentukan apakah model harus memiliki intercept (bias) atau tidak. Dalam beberapa kasus, intercept tidak diinginkan, terutama jika data telah dinormalisasi sebelumnya"
      ]
    },
    {
      "cell_type": "code",
      "execution_count": 142,
      "metadata": {
        "id": "FmBeBQ7Fg526"
      },
      "outputs": [],
      "source": [
        "# Daftar kombinasi hyperparameter yang ingin diuji\n",
        "hyperparameters = [\n",
        "    {'fit_intercept': True},\n",
        "    {'fit_intercept': False}\n",
        "]"
      ]
    },
    {
      "cell_type": "markdown",
      "metadata": {
        "id": "sbuAzNPPjhIF"
      },
      "source": [
        "#vii. Model Training"
      ]
    },
    {
      "cell_type": "markdown",
      "metadata": {
        "id": "6XvuX3n9BbUG"
      },
      "source": [
        "Model di train melakukan hyperparameters Fit_intercep maupun tidak"
      ]
    },
    {
      "cell_type": "code",
      "execution_count": 143,
      "metadata": {
        "colab": {
          "base_uri": "https://localhost:8080/"
        },
        "id": "uMldppFdjfTI",
        "outputId": "5ef29563-da22-4116-b2dd-373d7ac768ba"
      },
      "outputs": [
        {
          "name": "stdout",
          "output_type": "stream",
          "text": [
            "Hyperparameters: {'fit_intercept': True}\n",
            "Mean Absolute Error: 1.777679615526006\n",
            "RSquared: 0.926314227329849\n",
            "\n",
            "Hyperparameters: {'fit_intercept': False}\n",
            "Mean Absolute Error: 1.7776808358728204\n",
            "RSquared: 0.926314227329849\n",
            "\n"
          ]
        }
      ],
      "source": [
        "# Simpan nilai-nilai evaluasi untuk setiap kombinasi hyperparameter\n",
        "evaluation_results = []\n",
        "\n",
        "# Melakukan training dengan setiap kombinasi hyperparameter\n",
        "for params in hyperparameters:\n",
        "    linreg = LinearRegression(**params)\n",
        "    linreg.fit(X_train_final, y_train)\n",
        "    y_pred = linreg.predict(X_test_final)\n",
        "    mae = mean_absolute_error(y_test, y_pred)\n",
        "    rsquared = r2_score(y_test, y_pred)\n",
        "    evaluation_results.append({'params': params, 'mae': mae, 'squared':rsquared})\n",
        "\n",
        "\n",
        "# Menampilkan hasil evaluasi\n",
        "for result in evaluation_results:\n",
        "    print(\"Hyperparameters:\", result['params'])\n",
        "    print(\"Mean Absolute Error:\", result['mae'])\n",
        "    print(\"RSquared:\", result['squared'])\n",
        "    print()\n"
      ]
    },
    {
      "cell_type": "markdown",
      "metadata": {
        "id": "-Ryi--3HvSSn"
      },
      "source": [
        "#viii. Model Evaluation"
      ]
    },
    {
      "cell_type": "markdown",
      "metadata": {
        "id": "MGSBA_1YwoB1"
      },
      "source": [
        "Nilai MAE yang relatif kecil menunjukkan bahwa model memiliki kesalahan rata-rata yang rendah dalam memprediksi harga taksi online. Selain itu, nilai R-squared yang tinggi menunjukkan bahwa model dapat menjelaskan keragaman sebagian besar dari data latih dan uji. Model regresi linier yang telah dilatih cukup baik dalam memprediksi harga taksi online berdasarkan fitur-fitur yang dimasukkan. Meskipun terdapat sedikit perbedaan antara performa pada data latih dan data uji, namun perbedaan tersebut cukup kecil sehingga kita dapat menganggap model ini memiliki kemampuan generalisasi yang baik. dari hasil menggunakan fit_intercept maupun tidak, nilai yang dihasilkan sangat tidak banyak berbeda sehingga dapat disimpulkan bahwa model ini tidak diperngarhui banyak oleh intercept nya"
      ]
    },
    {
      "cell_type": "markdown",
      "metadata": {
        "id": "vtkHj6hsxDN7"
      },
      "source": [
        "Untuk melihat bagaimana model mampu memprediksi nilai sesuai dengan nilai aslinya, kita dapat menggunakan skatter plot"
      ]
    },
    {
      "cell_type": "code",
      "execution_count": 136,
      "metadata": {
        "colab": {
          "base_uri": "https://localhost:8080/",
          "height": 506
        },
        "id": "P70RouF4xC3F",
        "outputId": "d274dfbc-c67b-4c0e-b55e-dff2ede1cb28"
      },
      "outputs": [
        {
          "data": {
            "image/png": "[encoded data removed]",
            "text/plain": [
              "<Figure size 500x500 with 1 Axes>"
            ]
          },
          "metadata": {},
          "output_type": "display_data"
        }
      ],
      "source": [
        "# Membuat scatter plot dengan garis korelasi# Membuat scatter plot dengan garis korelasi\n",
        "sns.lmplot(x='Predicted Price', y='Actual Price', data=pd.DataFrame({'Predicted Price': y_pred, 'Actual Price': y_test}))\n",
        "\n",
        "# Menambahkan scatter plot untuk Predicted Price\n",
        "plt.scatter(y_pred, y_test, color='red', label='Predicted Price')\n",
        "\n",
        "# Menambahkan scatter plot untuk Actual Price\n",
        "plt.scatter(y_test, y_test, color='blue', label='Actual Price')\n",
        "\n",
        "# Menampilkan legenda\n",
        "plt.legend()\n",
        "\n",
        "# Menampilkan plot\n",
        "plt.show()"
      ]
    },
    {
      "cell_type": "markdown",
      "metadata": {
        "id": "ZMI4Sob4zcM0"
      },
      "source": [
        "Dalam scatter plot ini, sebagian besar titik data terkelompok di sekitar garis diagonal, menunjukkan bahwa model cenderung memiliki kinerja baik dalam memprediksi harga aktual. Namun, terdapat beberapa titik data yang tersebar lebih jauh dari garis diagonal, yang menunjukkan bahwa prediksi model kurang akurat untuk titik-titik tersebut."
      ]
    },
    {
      "cell_type": "markdown",
      "metadata": {
        "id": "CUiPqqqwzyPj"
      },
      "source": [
        "#ix. Mode Saving"
      ]
    },
    {
      "cell_type": "markdown",
      "metadata": {
        "id": "bNFPJ0cYz3Nk"
      },
      "source": [
        "Untuk memudahkan kita dalam menggunakan model machine learning dan feature engineering yang sudah dibuat, berikutnya kita akan simpan menggunakan joblib agar nanti pada suatu saat kita membutuhnya, kita bisa langsung menggunakannya"
      ]
    },
    {
      "cell_type": "code",
      "execution_count": 78,
      "metadata": {
        "id": "xPoODJoVwJ_P"
      },
      "outputs": [],
      "source": [
        "#save mode\n",
        "with open('model_linreg.pkl', 'wb') as file1:\n",
        "  joblib.dump(linreg,file1)\n",
        "\n",
        "#save ordinal encoding\n",
        "with open('enc_ord.pkl', 'wb') as file2:\n",
        "  joblib.dump(ord_enc,file2)\n",
        "\n",
        "#save onehot encoding\n",
        "with open('enc_ohe.pkl', 'wb') as file3:\n",
        "  joblib.dump(enc_ohe,file3)\n",
        "\n",
        "#save robust scaller\n",
        "with open('mm_scaler.pkl', 'wb') as file4:\n",
        "  joblib.dump(robust_scaler,file4)\n",
        "\n",
        "#save normal capping\n",
        "with open('ot_normal.pkl', 'wb') as file5:\n",
        "  joblib.dump(ot_normal,file5)\n",
        "\n",
        "#save Skew capping\n",
        "with open('ot_skew.pkl', 'wb') as file6:\n",
        "  joblib.dump(ot_skew,file6)"
      ]
    },
    {
      "cell_type": "markdown",
      "metadata": {
        "id": "1h4YnLOU1Bwg"
      },
      "source": [
        "#x. Model Inference"
      ]
    },
    {
      "cell_type": "markdown",
      "metadata": {
        "id": "VyMCH-ri1J33"
      },
      "source": [
        "Model akan dicoba untuk melakukan prediksi dengan data baru yang belum perna di training sebelumnya"
      ]
    },
    {
      "cell_type": "code",
      "execution_count": 146,
      "metadata": {
        "colab": {
          "base_uri": "https://localhost:8080/",
          "height": 112
        },
        "id": "qC_A8KbU1TcY",
        "outputId": "313aad81-a9c5-4703-dd0d-4b90c823ae09"
      },
      "outputs": [
        {
          "data": {
            "application/vnd.google.colaboratory.intrinsic+json": {
              "summary": "{\n  \"name\": \"df_inf\",\n  \"rows\": 2,\n  \"fields\": [\n    {\n      \"column\": \"cab_type\",\n      \"properties\": {\n        \"dtype\": \"string\",\n        \"num_unique_values\": 1,\n        \"samples\": [\n          \"Uber\"\n        ],\n        \"semantic_type\": \"\",\n        \"description\": \"\"\n      }\n    },\n    {\n      \"column\": \"distance\",\n      \"properties\": {\n        \"dtype\": \"number\",\n        \"std\": 0.16970562748477155,\n        \"min\": 2.9,\n        \"max\": 3.14,\n        \"num_unique_values\": 2,\n        \"samples\": [\n          2.9\n        ],\n        \"semantic_type\": \"\",\n        \"description\": \"\"\n      }\n    },\n    {\n      \"column\": \"surge_multiplier\",\n      \"properties\": {\n        \"dtype\": \"number\",\n        \"std\": 0.21920310216782962,\n        \"min\": 1.07,\n        \"max\": 1.38,\n        \"num_unique_values\": 2,\n        \"samples\": [\n          1.38\n        ],\n        \"semantic_type\": \"\",\n        \"description\": \"\"\n      }\n    },\n    {\n      \"column\": \"name\",\n      \"properties\": {\n        \"dtype\": \"string\",\n        \"num_unique_values\": 2,\n        \"samples\": [\n          \"WAV\"\n        ],\n        \"semantic_type\": \"\",\n        \"description\": \"\"\n      }\n    }\n  ]\n}",
              "type": "dataframe",
              "variable_name": "df_inf"
            },
            "text/html": [
              "\n",
              "  <div id=\"df-44e44c6b-fbaa-488e-9c4d-c02c0aaaad06\" class=\"colab-df-container\">\n",
              "    <div>\n",
              "<style scoped>\n",
              "    .dataframe tbody tr th:only-of-type {\n",
              "        vertical-align: middle;\n",
              "    }\n",
              "\n",
              "    .dataframe tbody tr th {\n",
              "        vertical-align: top;\n",
              "    }\n",
              "\n",
              "    .dataframe thead th {\n",
              "        text-align: right;\n",
              "    }\n",
              "</style>\n",
              "<table border=\"1\" class=\"dataframe\">\n",
              "  <thead>\n",
              "    <tr style=\"text-align: right;\">\n",
              "      <th></th>\n",
              "      <th>cab_type</th>\n",
              "      <th>distance</th>\n",
              "      <th>surge_multiplier</th>\n",
              "      <th>name</th>\n",
              "    </tr>\n",
              "  </thead>\n",
              "  <tbody>\n",
              "    <tr>\n",
              "      <th>0</th>\n",
              "      <td>Uber</td>\n",
              "      <td>3.14</td>\n",
              "      <td>1.07</td>\n",
              "      <td>UberXL</td>\n",
              "    </tr>\n",
              "    <tr>\n",
              "      <th>1</th>\n",
              "      <td>Uber</td>\n",
              "      <td>2.90</td>\n",
              "      <td>1.38</td>\n",
              "      <td>WAV</td>\n",
              "    </tr>\n",
              "  </tbody>\n",
              "</table>\n",
              "</div>\n",
              "    <div class=\"colab-df-buttons\">\n",
              "\n",
              "  <div class=\"colab-df-container\">\n",
              "    <button class=\"colab-df-convert\" onclick=\"convertToInteractive('df-44e44c6b-fbaa-488e-9c4d-c02c0aaaad06')\"\n",
              "            title=\"Convert this dataframe to an interactive table.\"\n",
              "            style=\"display:none;\">\n",
              "\n",
              "  <svg xmlns=\"http://www.w3.org/2000/svg\" height=\"24px\" viewBox=\"0 -960 960 960\">\n",
              "    <path d=\"M120-120v-720h720v720H120Zm60-500h600v-160H180v160Zm220 220h160v-160H400v160Zm0 220h160v-160H400v160ZM180-400h160v-160H180v160Zm440 0h160v-160H620v160ZM180-180h160v-160H180v160Zm440 0h160v-160H620v160Z\"/>\n",
              "  </svg>\n",
              "    </button>\n",
              "\n",
              "  <style>\n",
              "    .colab-df-container {\n",
              "      display:flex;\n",
              "      gap: 12px;\n",
              "    }\n",
              "\n",
              "    .colab-df-convert {\n",
              "      background-color: #E8F0FE;\n",
              "      border: none;\n",
              "      border-radius: 50%;\n",
              "      cursor: pointer;\n",
              "      display: none;\n",
              "      fill: #1967D2;\n",
              "      height: 32px;\n",
              "      padding: 0 0 0 0;\n",
              "      width: 32px;\n",
              "    }\n",
              "\n",
              "    .colab-df-convert:hover {\n",
              "      background-color: #E2EBFA;\n",
              "      box-shadow: 0px 1px 2px rgba(60, 64, 67, 0.3), 0px 1px 3px 1px rgba(60, 64, 67, 0.15);\n",
              "      fill: #174EA6;\n",
              "    }\n",
              "\n",
              "    .colab-df-buttons div {\n",
              "      margin-bottom: 4px;\n",
              "    }\n",
              "\n",
              "    [theme=dark] .colab-df-convert {\n",
              "      background-color: #3B4455;\n",
              "      fill: #D2E3FC;\n",
              "    }\n",
              "\n",
              "    [theme=dark] .colab-df-convert:hover {\n",
              "      background-color: #434B5C;\n",
              "      box-shadow: 0px 1px 3px 1px rgba(0, 0, 0, 0.15);\n",
              "      filter: drop-shadow(0px 1px 2px rgba(0, 0, 0, 0.3));\n",
              "      fill: #FFFFFF;\n",
              "    }\n",
              "  </style>\n",
              "\n",
              "    <script>\n",
              "      const buttonEl =\n",
              "        document.querySelector('#df-44e44c6b-fbaa-488e-9c4d-c02c0aaaad06 button.colab-df-convert');\n",
              "      buttonEl.style.display =\n",
              "        google.colab.kernel.accessAllowed ? 'block' : 'none';\n",
              "\n",
              "      async function convertToInteractive(key) {\n",
              "        const element = document.querySelector('#df-44e44c6b-fbaa-488e-9c4d-c02c0aaaad06');\n",
              "        const dataTable =\n",
              "          await google.colab.kernel.invokeFunction('convertToInteractive',\n",
              "                                                    [key], {});\n",
              "        if (!dataTable) return;\n",
              "\n",
              "        const docLinkHtml = 'Like what you see? Visit the ' +\n",
              "          '<a target=\"_blank\" href=https://colab.research.google.com/notebooks/data_table.ipynb>data table notebook</a>'\n",
              "          + ' to learn more about interactive tables.';\n",
              "        element.innerHTML = '';\n",
              "        dataTable['output_type'] = 'display_data';\n",
              "        await google.colab.output.renderOutput(dataTable, element);\n",
              "        const docLink = document.createElement('div');\n",
              "        docLink.innerHTML = docLinkHtml;\n",
              "        element.appendChild(docLink);\n",
              "      }\n",
              "    </script>\n",
              "  </div>\n",
              "\n",
              "\n",
              "<div id=\"df-57be76f8-5d7a-4301-84f6-15fa3a14d1d1\">\n",
              "  <button class=\"colab-df-quickchart\" onclick=\"quickchart('df-57be76f8-5d7a-4301-84f6-15fa3a14d1d1')\"\n",
              "            title=\"Suggest charts\"\n",
              "            style=\"display:none;\">\n",
              "\n",
              "<svg xmlns=\"http://www.w3.org/2000/svg\" height=\"24px\"viewBox=\"0 0 24 24\"\n",
              "     width=\"24px\">\n",
              "    <g>\n",
              "        <path d=\"M19 3H5c-1.1 0-2 .9-2 2v14c0 1.1.9 2 2 2h14c1.1 0 2-.9 2-2V5c0-1.1-.9-2-2-2zM9 17H7v-7h2v7zm4 0h-2V7h2v10zm4 0h-2v-4h2v4z\"/>\n",
              "    </g>\n",
              "</svg>\n",
              "  </button>\n",
              "\n",
              "<style>\n",
              "  .colab-df-quickchart {\n",
              "      --bg-color: #E8F0FE;\n",
              "      --fill-color: #1967D2;\n",
              "      --hover-bg-color: #E2EBFA;\n",
              "      --hover-fill-color: #174EA6;\n",
              "      --disabled-fill-color: #AAA;\n",
              "      --disabled-bg-color: #DDD;\n",
              "  }\n",
              "\n",
              "  [theme=dark] .colab-df-quickchart {\n",
              "      --bg-color: #3B4455;\n",
              "      --fill-color: #D2E3FC;\n",
              "      --hover-bg-color: #434B5C;\n",
              "      --hover-fill-color: #FFFFFF;\n",
              "      --disabled-bg-color: #3B4455;\n",
              "      --disabled-fill-color: #666;\n",
              "  }\n",
              "\n",
              "  .colab-df-quickchart {\n",
              "    background-color: var(--bg-color);\n",
              "    border: none;\n",
              "    border-radius: 50%;\n",
              "    cursor: pointer;\n",
              "    display: none;\n",
              "    fill: var(--fill-color);\n",
              "    height: 32px;\n",
              "    padding: 0;\n",
              "    width: 32px;\n",
              "  }\n",
              "\n",
              "  .colab-df-quickchart:hover {\n",
              "    background-color: var(--hover-bg-color);\n",
              "    box-shadow: 0 1px 2px rgba(60, 64, 67, 0.3), 0 1px 3px 1px rgba(60, 64, 67, 0.15);\n",
              "    fill: var(--button-hover-fill-color);\n",
              "  }\n",
              "\n",
              "  .colab-df-quickchart-complete:disabled,\n",
              "  .colab-df-quickchart-complete:disabled:hover {\n",
              "    background-color: var(--disabled-bg-color);\n",
              "    fill: var(--disabled-fill-color);\n",
              "    box-shadow: none;\n",
              "  }\n",
              "\n",
              "  .colab-df-spinner {\n",
              "    border: 2px solid var(--fill-color);\n",
              "    border-color: transparent;\n",
              "    border-bottom-color: var(--fill-color);\n",
              "    animation:\n",
              "      spin 1s steps(1) infinite;\n",
              "  }\n",
              "\n",
              "  @keyframes spin {\n",
              "    0% {\n",
              "      border-color: transparent;\n",
              "      border-bottom-color: var(--fill-color);\n",
              "      border-left-color: var(--fill-color);\n",
              "    }\n",
              "    20% {\n",
              "      border-color: transparent;\n",
              "      border-left-color: var(--fill-color);\n",
              "      border-top-color: var(--fill-color);\n",
              "    }\n",
              "    30% {\n",
              "      border-color: transparent;\n",
              "      border-left-color: var(--fill-color);\n",
              "      border-top-color: var(--fill-color);\n",
              "      border-right-color: var(--fill-color);\n",
              "    }\n",
              "    40% {\n",
              "      border-color: transparent;\n",
              "      border-right-color: var(--fill-color);\n",
              "      border-top-color: var(--fill-color);\n",
              "    }\n",
              "    60% {\n",
              "      border-color: transparent;\n",
              "      border-right-color: var(--fill-color);\n",
              "    }\n",
              "    80% {\n",
              "      border-color: transparent;\n",
              "      border-right-color: var(--fill-color);\n",
              "      border-bottom-color: var(--fill-color);\n",
              "    }\n",
              "    90% {\n",
              "      border-color: transparent;\n",
              "      border-bottom-color: var(--fill-color);\n",
              "    }\n",
              "  }\n",
              "</style>\n",
              "\n",
              "  <script>\n",
              "    async function quickchart(key) {\n",
              "      const quickchartButtonEl =\n",
              "        document.querySelector('#' + key + ' button');\n",
              "      quickchartButtonEl.disabled = true;  // To prevent multiple clicks.\n",
              "      quickchartButtonEl.classList.add('colab-df-spinner');\n",
              "      try {\n",
              "        const charts = await google.colab.kernel.invokeFunction(\n",
              "            'suggestCharts', [key], {});\n",
              "      } catch (error) {\n",
              "        console.error('Error during call to suggestCharts:', error);\n",
              "      }\n",
              "      quickchartButtonEl.classList.remove('colab-df-spinner');\n",
              "      quickchartButtonEl.classList.add('colab-df-quickchart-complete');\n",
              "    }\n",
              "    (() => {\n",
              "      let quickchartButtonEl =\n",
              "        document.querySelector('#df-57be76f8-5d7a-4301-84f6-15fa3a14d1d1 button');\n",
              "      quickchartButtonEl.style.display =\n",
              "        google.colab.kernel.accessAllowed ? 'block' : 'none';\n",
              "    })();\n",
              "  </script>\n",
              "</div>\n",
              "    </div>\n",
              "  </div>\n"
            ],
            "text/plain": [
              "  cab_type  distance  surge_multiplier    name\n",
              "0     Uber      3.14              1.07  UberXL\n",
              "1     Uber      2.90              1.38     WAV"
            ]
          },
          "execution_count": 146,
          "metadata": {},
          "output_type": "execute_result"
        }
      ],
      "source": [
        "data_inf = {\n",
        "    'cab_type': ['Uber','Uber'],\n",
        "    'distance':  [3.14,2.90],\n",
        "    'surge_multiplier' : [1.07, 1.38],\n",
        "    'name':['UberXL','WAV'],\n",
        "}\n",
        "df_inf =pd.DataFrame(data_inf)\n",
        "df_inf"
      ]
    },
    {
      "cell_type": "markdown",
      "metadata": {
        "id": "mNilV-NP2RLP"
      },
      "source": [
        "Melakukan load dari model yang sudah disaving, namum akan digunkaan encoding saja untuk mengetest sejauh mana model bisa melakukan prediksi dengan akurat"
      ]
    },
    {
      "cell_type": "code",
      "execution_count": 147,
      "metadata": {
        "id": "RnsNlfY62Up6"
      },
      "outputs": [],
      "source": [
        "#load mode\n",
        "with open('model_linreg.pkl', 'rb') as file1:\n",
        "  linreg=joblib.load(file1)\n",
        "\n",
        "#load ordinal encoding\n",
        "with open('enc_ord.pkl', 'rb') as file2:\n",
        "  enc_ord=joblib.load(file2)\n",
        "\n",
        "#load onehot encoding\n",
        "with open('enc_ohe.pkl', 'rb') as file3:\n",
        "  enc_ohe=joblib.load(file3)"
      ]
    },
    {
      "cell_type": "markdown",
      "metadata": {
        "id": "ue6509Nl3Fc6"
      },
      "source": [
        "### encoding data inferensia menggunakan ordinal untuk data cap_type dan one hot encode untuk data name, supaya sama dengan model yang sudah di train sebelumnya"
      ]
    },
    {
      "cell_type": "code",
      "execution_count": 148,
      "metadata": {
        "id": "gewQMTbi3FI7"
      },
      "outputs": [],
      "source": [
        "#melakukan ordinal encode\n",
        "df_inf['cab_type'] = ord_enc.transform(df_inf[['cab_type']])"
      ]
    },
    {
      "cell_type": "code",
      "execution_count": 149,
      "metadata": {
        "id": "4N3IBiRT1Afu"
      },
      "outputs": [],
      "source": [
        "#Melakukan onehotencode\n",
        "df_inf_ohe = enc_ohe.transform(df_inf[list_nom])"
      ]
    },
    {
      "cell_type": "code",
      "execution_count": 150,
      "metadata": {
        "id": "OyiS75pu35tJ"
      },
      "outputs": [],
      "source": [
        "#Menyatukan data train dengan data hasil onehotencode dan membuat kolom yang lama\n",
        "#mendapatkan nilai dari hasil encode\n",
        "feature_names = enc_ohe.get_feature_names_out(input_features=list_nom)\n",
        "#Membuat dataframe hasil encode\n",
        "df_inf_ohe = pd.DataFrame(df_inf_ohe, columns = feature_names)\n",
        "#mereset index dataframe agar bisa disatukan\n",
        "df_inf.reset_index(drop=True, inplace= True)\n",
        "#menyatukan dataset encode dengan x_train dan x_test\n",
        "df_inf_encode = pd.concat ([df_inf, df_inf_ohe], axis = 1)\n",
        "#membuang kolom yang lama\n",
        "df_inf_encode.drop('name', axis=1, inplace=True)\n"
      ]
    },
    {
      "cell_type": "code",
      "execution_count": 151,
      "metadata": {
        "colab": {
          "base_uri": "https://localhost:8080/"
        },
        "id": "SWj8zZXm4bbr",
        "outputId": "db1d682b-c495-445a-8151-6c35e1a33113"
      },
      "outputs": [
        {
          "data": {
            "text/plain": [
              "array([49.88048627, 48.55414605])"
            ]
          },
          "execution_count": 151,
          "metadata": {},
          "output_type": "execute_result"
        }
      ],
      "source": [
        "## prediksi dari data inferensia\n",
        "pred_inf = linreg.predict(df_inf_encode)\n",
        "pred_inf"
      ]
    },
    {
      "cell_type": "markdown",
      "metadata": {
        "id": "bKZl8-tY5-sq"
      },
      "source": [
        "Maka dengan data ![image.png](data:image/png;base64,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)\n",
        "model mampu membuat prediksi untuk harga pertama yaitu:\n",
        "- $ 49.88048627 dan\n",
        "\n",
        "- $ 48.55414605"
      ]
    },
    {
      "cell_type": "markdown",
      "metadata": {
        "id": "xZ52v6ye6V2v"
      },
      "source": [
        "#xi. Kesimpulan"
      ]
    },
    {
      "cell_type": "markdown",
      "metadata": {
        "id": "07p1FPku6jNg"
      },
      "source": [
        "Dari seluruh proses pembuatan machine learning untuk memperkirakan harga suatu taksi online dengan kolom fitur yang ada pada dataset uber lyft. didapatkan model dengan nilai Rsquared sebesar 0.9263125419238789, hal ini berarti kolom fitur mampu menjelaskan keragaman dari kolom target sebesar 92% sedangkan sisahnya dijelaskan oleh kolom lainnya. kemudian didapati pula bahwa nilai MAE sebesar 1.7776808358728204, hal ini berarti model memiliki rata-rata kesalahan yang rendah dalam memprediksi nilai sebenarnya. sehingga dapat disimpulkan bahwa model machine learning ini sudah mampu dalam memprediksi harga taksi online berdasarkan variabel fitur yang dimilikinya."
      ]
    },
    {
      "cell_type": "markdown",
      "metadata": {
        "id": "KtcYkXBr8Eez"
      },
      "source": [
        "-------------\n",
        "\n",
        "# Conseptual Problems\n",
        "1. Sebut dan jelaskan asumsi yang dipakai dalam linear regression\n",
        "2. Tunjukan dan tafsirkan arti dari slope dan intercept yang didapat dari model"
      ]
    },
    {
      "cell_type": "markdown",
      "metadata": {
        "id": "D9PaIXb-8XNn"
      },
      "source": [
        "# Answer:\n",
        "1. \n",
        "Linearitas: Model Linear Regression mengasumsikan bahwa hubungan antara variabel independen (fitur) dan variabel dependen (target) adalah linear. Ini berarti bahwa perubahan dalam variabel independen memiliki efek yang konstan terhadap variabel dependen.\n",
        "\n",
        "Multikolinieritas: Asumsi ini mengasumsikan bahwa setiap kolom fitur dalam dataset adalah independen satu sama lain. Artinya, nilai-nilai dari satu kolom fitur tidak dipengaruhi oleh nilai-nilai observasi lainnya.\n",
        "\n",
        "Homoskedastisitas: Asumsi ini mengimplikasikan bahwa variabilitas dari error (galat) model adalah konstan sepanjang rentang nilainya. Dalam konteks regresi, ini berarti bahwa error yang dihasilkan oleh model tidak cenderung lebih besar atau lebih kecil pada nilai-nilai tertentu dari kolom fitur.\n",
        "\n",
        "Error berdistribusi normal: Asumsi ini mengasumsikan bahwa error daru model berasal distribusi normal. Dengan kata lain, jika kita menggambarkan distribusi error, akan tampak seperti lonceng (bell-shaped curve) dengan mean,median, dan modusnya berada di tengah.\n",
        "\n",
        "Tidak adanya autokorelasi di error: Asumsi ini mengimplikasikan bahwa tidak boleh ada korelasi antara variansi pada variabel error.\n"
      ]
    },
    {
      "cell_type": "markdown",
      "metadata": {
        "id": "TZ7BdoNe9gd0"
      },
      "source": [
        "Untuk menjawab soal nomor 2. kita terlebih dahulu akan memunculkan nilai intercept dan slope dari model yang telah dibagun:"
      ]
    },
    {
      "cell_type": "code",
      "execution_count": 152,
      "metadata": {
        "colab": {
          "base_uri": "https://localhost:8080/"
        },
        "id": "7E7giW_M8WnJ",
        "outputId": "6c327af3-f353-428f-91b0-09b367d19886"
      },
      "outputs": [
        {
          "name": "stdout",
          "output_type": "stream",
          "text": [
            "nilai intercept: 0.0\n",
            "nilai coefficient: [14.32093531  4.63951399 18.44112793 20.42943675 30.22128502  2.68978376\n",
            "  8.00820751 17.24285238 -5.49538948  0.22094497 -8.34546382  8.65685435\n",
            "  9.6896637  15.58040544  9.65079893]\n"
          ]
        }
      ],
      "source": [
        "#Melihat nilai coef dan intercept\n",
        "\n",
        "coefficients = linreg.coef_\n",
        "intercept = linreg.intercept_\n",
        "\n",
        "print('nilai intercept:',intercept)\n",
        "print('nilai coefficient:',coefficients)\n"
      ]
    },
    {
      "cell_type": "markdown",
      "metadata": {
        "id": "cwgzwnVWDKPZ"
      },
      "source": [
        "- Nilai intercept dalam model Linear Regression adalah nilai dari variabel dependen (target) ketika semua variabel independen (fitur) memiliki nilai 0. Dalam kasus ini, nilai intercept yang ada adalah (0) dikarenakan menggunakan fungsi tidak fit_intercept yang digunakan pada model. jika menggunakan fungsi ini, maka akan dihasilkan nilai coef dan intercept yang besar seperti code dibawah. dan untuk intepretasinya sendiri, nilai intercept yang 0 berarti jika semua variabel fitur bernilai konstan 0, maka nilai variabel target(price) akan bernilai 0\n",
        "\n",
        "- Nilai koefisien menunjukkan seberapa besar pengaruh setiap variabel independen terhadap variabel dependen. Dalam kasus ini, koefisien memiliki nilai yang beragam, mulai dari 14.32 hingga 30.22. Ini menunjukkan bahwa setiap fitur memiliki pengaruh yang berbeda terhadap variabel dependen. Sebagai contoh, koefisien yang positif menunjukkan hubungan positif antara fitur tersebut dengan variabel dependen, sedangkan koefisien yang negatif menunjukkan hubungan negatif. dalam artinya, jika nilai kolom fitur 1 bertambah 1 satuan, maka nilai y atau 'price'akan bertambha sebesar 14.3209... jika kolom fitur lain bernilai konstan. begitupun intepretasi untuk nilai lainnya"
      ]
    },
    {
      "cell_type": "markdown",
      "metadata": {
        "id": "G-ZRVAyFEcio"
      },
      "source": [
        "selanjutnya akan ditunjukan nilai coef dan intercept untuk model yang menggunakan fit_intercept"
      ]
    },
    {
      "cell_type": "code",
      "execution_count": 153,
      "metadata": {
        "colab": {
          "base_uri": "https://localhost:8080/"
        },
        "id": "vMZ5UAD5-m0p",
        "outputId": "631b2875-8b22-49f0-b343-8713ed51ad0d"
      },
      "outputs": [
        {
          "name": "stdout",
          "output_type": "stream",
          "text": [
            "nilai intercept: 3060739874168.3203\n",
            "nilai coefficient: [-2.27492405e+12  4.64013672e+00  1.84392700e+01 -3.06073987e+12\n",
            " -3.06073987e+12 -7.85815828e+11 -7.85815828e+11 -7.85815828e+11\n",
            " -7.85815828e+11 -7.85815828e+11 -7.85815828e+11 -3.06073987e+12\n",
            " -3.06073987e+12 -3.06073987e+12 -3.06073987e+12]\n"
          ]
        }
      ],
      "source": [
        "linreg = LinearRegression(fit_intercept = True)\n",
        "linreg.fit(X_train_final, y_train)\n",
        "\n",
        "# Check coefficients and intercept\n",
        "\n",
        "coefficients = linreg.coef_\n",
        "intercept = linreg.intercept_\n",
        "\n",
        "print('nilai intercept:',intercept)\n",
        "print('nilai coefficient:',coefficients)\n"
      ]
    },
    {
      "cell_type": "code",
      "execution_count": null,
      "metadata": {
        "id": "GyBZc0xEGIeY"
      },
      "outputs": [],
      "source": []
    }
  ],
  "metadata": {
    "colab": {
      "provenance": []
    },
    "kernelspec": {
      "display_name": "Python 3",
      "name": "python3"
    },
    "language_info": {
      "name": "python"
    }
  },
  "nbformat": 4,
  "nbformat_minor": 0
}
